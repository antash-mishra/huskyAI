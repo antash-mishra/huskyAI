{
 "cells": [
  {
   "cell_type": "code",
   "execution_count": 1,
   "metadata": {},
   "outputs": [
    {
     "name": "stdout",
     "output_type": "stream",
     "text": [
      "Note: you may need to restart the kernel to use updated packages.\n"
     ]
    }
   ],
   "source": [
    "%pip install -qU langchain-groq"
   ]
  },
  {
   "cell_type": "code",
   "execution_count": 11,
   "metadata": {},
   "outputs": [],
   "source": [
    "from langchain_community.document_loaders import WebBaseLoader \n",
    "\n",
    "loader = WebBaseLoader(\"https://edition.cnn.com/2024/10/19/politics/us-israel-iran-intelligence-documents/index.html\") \n",
    "\n",
    "docs = loader.load()\n"
   ]
  },
  {
   "cell_type": "code",
   "execution_count": 12,
   "metadata": {},
   "outputs": [
    {
     "data": {
      "text/plain": [
       "[Document(metadata={'source': 'https://edition.cnn.com/2024/10/19/politics/us-israel-iran-intelligence-documents/index.html', 'title': 'Leaked documents show US intelligence on Israel’s plans to attack Iran, sources say | CNN Politics', 'description': 'The US is investigating a leak of highly classified US intelligence about Israel’s plans for retaliation against Iran, according to three people familiar with the matter. One of the people familiar confirmed the documents’ authenticity.', 'language': 'en'}, page_content=\" \\n\\n\\n\\n\\n\\n\\n\\n\\nLeaked documents show US intelligence on Israel’s plans to attack Iran, sources say | CNN Politics\\n\\n\\n\\n\\n\\n\\n\\n\\n\\n\\n\\n\\n\\n\\n\\n\\n\\n\\n\\n\\n\\n\\n\\n\\n\\n\\n\\n\\n\\n\\n\\n\\n\\n\\n\\n\\n\\n\\n\\n\\n\\n\\n\\n\\n\\n\\n\\n\\n\\n\\n\\n\\n\\n\\n\\n\\n\\n\\n\\n\\n\\n\\n\\n\\n\\n\\n\\n\\n\\n\\n\\n\\n\\n\\n\\n\\n\\n\\n\\n\\n\\n\\n\\n\\n\\n\\n\\n\\n\\n\\n\\n\\n\\n\\n\\n\\n\\n\\n\\n\\n\\n\\n\\nCNN values your feedback\\n\\n\\n\\n\\n                                                        1. How relevant is this ad to you?\\n                                                \\n\\n\\n\\n\\n\\n\\n\\n\\n\\n\\n\\n\\n\\n\\n\\n\\n\\n\\n\\n\\n\\n\\n\\n\\n\\n\\n\\n\\n\\n\\n                                                2. Did you encounter any technical issues?\\n                                        \\n\\n\\n\\n\\n\\n\\n\\n\\n\\n\\n\\n                                                                        Video player was slow to load content\\n                                                                        \\n\\n\\n\\n                                                                        Video content never loaded\\n                                                                        \\n\\n\\n\\n                                                                        Ad froze or did not finish loading\\n                                                                        \\n\\n\\n\\n                                                                        Video content did not start after ad\\n                                                                        \\n\\n\\n\\n                                                                        Audio on ad was too loud\\n                                                                        \\n\\n\\n\\n                                                                        Other issues\\n                                                                        \\n\\n\\n\\n\\n\\n                                                                        Ad never loaded\\n                                                                        \\n\\n\\n\\n                                                                        Ad prevented/slowed the page from loading\\n                                                                        \\n\\n\\n\\n                                                                        Content moved around while ad loaded\\n                                                                        \\n\\n\\n\\n                                                                        Ad was repetitive to ads I've seen previously\\n                                                                        \\n\\n\\n\\n                                                                        Other issues\\n                                                                        \\n\\n\\n\\n\\n\\n\\n\\n\\n\\n\\n\\n                                                        Cancel\\n                                                \\n\\n                                                        Submit\\n                                                \\n\\n\\n\\n\\n\\nThank You!\\n\\n                                        Your effort and contribution in providing this feedback is much\\n                                        appreciated.\\n                                \\n\\n                                        Close\\n                                \\n\\n\\n\\n\\n\\n\\n\\n\\n\\n\\n\\nAd Feedback\\n\\n\\n\\n\\n\\n\\n\\n\\n\\n\\n\\n\\n\\n\\n\\n\\n\\n\\nClose icon\\n\\n\\n\\n\\n\\n\\n\\n\\nPolitics\\n\\n\\n\\n\\n\\n\\n                  \\n                  SCOTUS\\n                \\n\\n\\n\\n                  \\n                  Congress\\n                \\n\\n\\n\\n                  \\n                  Facts First\\n                \\n\\n\\n\\n                  \\n                  2024 Elections\\n                \\n\\n\\n\\n\\n                      More\\n                    \\n\\n\\n\\n\\n                      SCOTUS\\n                    \\n\\n                      Congress\\n                    \\n\\n                      Facts First\\n                    \\n\\n                      2024 Elections\\n                    \\n\\n\\n\\n\\n\\n\\n\\n\\n            Watch\\n          \\n\\n            Listen\\n          \\n\\n            Live TV\\n          \\n\\n\\n\\n\\n              Subscribe\\n            \\n\\n\\n\\n\\n\\n\\n\\n\\n\\n\\n        Sign in\\n      \\n\\n\\n\\n      My Account\\n\\n\\n\\n\\n          Settings\\n        \\n\\n\\n\\n          Topics You Follow\\n          \\n\\n\\n\\n\\n          Sign Out\\n        \\n\\n\\n\\n\\nYour CNN account\\nSign in to your CNN account\\n\\n\\n\\n\\n\\n\\n\\n\\n\\n\\n\\n\\n\\n\\n\\n\\n\\n\\n\\n\\n\\n\\n\\n\\n\\n\\n        Sign in\\n      \\n\\n\\n\\n      My Account\\n\\n\\n\\n\\n          Settings\\n        \\n\\n\\n\\n          Topics You Follow\\n          \\n\\n\\n\\n\\n          Sign Out\\n        \\n\\n\\n\\n\\nYour CNN account\\nSign in to your CNN account\\n\\n\\n\\n\\n\\n\\n            Live TV\\n          \\n\\n            Listen\\n          \\n\\n            Watch\\n          \\n\\n\\n\\n\\n                Edition\\n              \\n\\n\\n                  US\\n                \\n\\n\\n\\n                  International\\n                \\n\\n\\n\\n                  Arabic\\n                \\n\\n\\n\\n                  Español\\n                \\n\\n\\n\\n\\n                Edition\\n\\n\\n\\n\\n\\n                  US\\n                \\n\\n\\n\\n                  International\\n                \\n\\n\\n\\n                  Arabic\\n                \\n\\n\\n\\n                  Español\\n                \\n\\n\\n\\n\\n\\n\\n\\n\\n\\n                  SCOTUS\\n                \\n\\n\\n\\n                  Congress\\n                \\n\\n\\n\\n                  Facts First\\n                \\n\\n\\n\\n                  2024 Elections\\n                \\n\\n\\n\\n\\nFollow CNN Politics\\n\\n\\n\\n\\n\\n\\n\\n\\n\\n\\n\\n\\n\\n\\n\\n\\n\\n\\n\\n\\n\\n\\n\\n\\n\\n        World\\n      \\n\\n\\n\\n            Africa\\n          \\n\\n\\n\\n            Americas\\n          \\n\\n\\n\\n            Asia\\n          \\n\\n\\n\\n            Australia\\n          \\n\\n\\n\\n            China\\n          \\n\\n\\n\\n            Europe\\n          \\n\\n\\n\\n            India\\n          \\n\\n\\n\\n            Middle East\\n          \\n\\n\\n\\n            United Kingdom\\n          \\n\\n\\n\\n\\n\\n        US Politics\\n      \\n\\n\\n\\n            SCOTUS\\n          \\n\\n\\n\\n            Congress\\n          \\n\\n\\n\\n            Facts First\\n          \\n\\n\\n\\n            2024 Elections\\n          \\n\\n\\n\\n\\n\\n        Business\\n      \\n\\n\\n\\n            Tech\\n          \\n\\n\\n\\n            Media\\n          \\n\\n\\n\\n            Calculators\\n          \\n\\n\\n\\n            Videos\\n          \\n\\n\\n\\n\\n\\n        Markets\\n      \\n\\n\\n\\n            Pre-markets\\n          \\n\\n\\n\\n            After-Hours\\n          \\n\\n\\n\\n            Fear & Greed\\n          \\n\\n\\n\\n            Investing\\n          \\n\\n\\n\\n            Markets Now\\n          \\n\\n\\n\\n            Nightcap\\n          \\n\\n\\n\\n\\n\\n        Health\\n      \\n\\n\\n\\n            Life, But Better\\n          \\n\\n\\n\\n            Fitness\\n          \\n\\n\\n\\n            Food\\n          \\n\\n\\n\\n            Sleep\\n          \\n\\n\\n\\n            Mindfulness\\n          \\n\\n\\n\\n            Relationships\\n          \\n\\n\\n\\n\\n\\n        Entertainment\\n      \\n\\n\\n\\n            Movies\\n          \\n\\n\\n\\n            Television\\n          \\n\\n\\n\\n            Celebrity\\n          \\n\\n\\n\\n\\n\\n        Tech\\n      \\n\\n\\n\\n            Innovate\\n          \\n\\n\\n\\n            Foreseeable Future\\n          \\n\\n\\n\\n            Mission: Ahead\\n          \\n\\n\\n\\n            Work Transformed\\n          \\n\\n\\n\\n            Innovative Cities\\n          \\n\\n\\n\\n\\n\\n        Style\\n      \\n\\n\\n\\n            Arts\\n          \\n\\n\\n\\n            Design\\n          \\n\\n\\n\\n            Fashion\\n          \\n\\n\\n\\n            Architecture\\n          \\n\\n\\n\\n            Luxury\\n          \\n\\n\\n\\n            Beauty\\n          \\n\\n\\n\\n            Video\\n          \\n\\n\\n\\n\\n\\n        Travel\\n      \\n\\n\\n\\n            Destinations\\n          \\n\\n\\n\\n            Food & Drink\\n          \\n\\n\\n\\n            Stay\\n          \\n\\n\\n\\n            News\\n          \\n\\n\\n\\n            Videos\\n          \\n\\n\\n\\n\\n\\n        Sports\\n      \\n\\n\\n\\n            Football\\n          \\n\\n\\n\\n            Tennis\\n          \\n\\n\\n\\n            Golf\\n          \\n\\n\\n\\n            Motorsport\\n          \\n\\n\\n\\n            US Sports\\n          \\n\\n\\n\\n            Olympics\\n          \\n\\n\\n\\n            Climbing\\n          \\n\\n\\n\\n            Esports\\n          \\n\\n\\n\\n            Hockey\\n          \\n\\n\\n\\n\\n\\n        Watch\\n      \\n\\n\\n\\n            Live TV\\n          \\n\\n\\n\\n            CNN Fast\\n          \\n\\n\\n\\n            Shows A-Z\\n          \\n\\n\\n\\n            CNN10\\n          \\n\\n\\n\\n            CNN Max\\n          \\n\\n\\n\\n            CNN TV Schedules\\n          \\n\\n\\n\\n\\n\\n        Listen\\n      \\n\\n\\n\\n            CNN 5 Things\\n          \\n\\n\\n\\n            Chasing Life with Dr. Sanjay Gupta\\n          \\n\\n\\n\\n            The Assignment with Audie Cornish\\n          \\n\\n\\n\\n            One Thing\\n          \\n\\n\\n\\n            Tug of War\\n          \\n\\n\\n\\n            CNN Political Briefing\\n          \\n\\n\\n\\n            The Axe Files\\n          \\n\\n\\n\\n            All There Is with Anderson Cooper\\n          \\n\\n\\n\\n            All CNN Audio podcasts\\n          \\n\\n\\n\\n\\n\\n        Science\\n      \\n\\n\\n\\n            Space\\n          \\n\\n\\n\\n            Life\\n          \\n\\n\\n\\n            Unearthed\\n          \\n\\n\\n\\n\\n\\n        Climate\\n      \\n\\n\\n\\n            Solutions\\n          \\n\\n\\n\\n            Weather\\n          \\n\\n\\n\\n\\n\\n        Features\\n      \\n\\n\\n\\n            As Equals\\n          \\n\\n\\n\\n            Call to Earth\\n          \\n\\n\\n\\n            Freedom Project\\n          \\n\\n\\n\\n            Impact Your World\\n          \\n\\n\\n\\n            Inside Africa\\n          \\n\\n\\n\\n            CNN Heroes\\n          \\n\\n\\n\\n\\n\\n        Weather\\n      \\n\\n\\n\\n            Video\\n          \\n\\n\\n\\n            Climate\\n          \\n\\n\\n\\n\\n\\n        Ukraine-Russia War\\n      \\n\\n\\n\\n\\n\\n        Israel-Hamas War\\n      \\n\\n\\n\\n\\n\\n        About CNN\\n      \\n\\n\\n\\n            Photos\\n          \\n\\n\\n\\n            Investigations\\n          \\n\\n\\n\\n            CNN Profiles\\n          \\n\\n\\n\\n            CNN Leadership\\n          \\n\\n\\n\\n            CNN Newsletters\\n          \\n\\n\\n\\n            Work for CNN\\n          \\n\\n\\n\\n\\n\\n\\n\\n\\n\\n\\n\\n\\n\\n\\n\\n\\n \\n\\n\\n\\n\\n\\n\\n\\nAd Feedback\\n\\n\\n\\n\\n\\n \\n\\n\\n\\n\\n\\n\\n\\n      Leaked documents show US intelligence on Israel’s plans to attack Iran, sources say\\n    \\n\\n\\n\\n\\n\\n\\n\\n\\n\\n\\n\\n\\n\\n\\n\\t\\t\\tBy Natasha Bertrand and Alex Marquardt, CNN\\n\\t\\t\\n\\n\\n\\n                  3 minute read\\n                \\n\\n  Updated\\n        7:34 AM EDT, Sun October 20, 2024\\n    \\n\\n\\n\\n\\n\\n\\n\\n\\n\\n\\n\\n\\n\\n\\n\\n\\n\\n\\n\\n\\n\\n            Link Copied!\\n        \\n\\n\\n\\n\\n\\n\\n\\n\\n\\n\\n\\n\\n\\n\\n \\n\\n\\n\\n\\n\\n\\n\\n\\n\\n\\n\\n\\n\\n\\n\\n\\n\\n\\n\\n\\n\\n\\nVideo Ad Feedback\\n\\n\\n\\nMatthew Chance describes what's inside leaked documents\\n                \\n\\n\\n                                02:18\\n                            \\n - Source:\\n                CNN\\n\\n\\n\\n\\n\\n\\n\\n\\n\\nWorld News\\n22 videos\\n\\n\\n\\n\\n\\n\\n\\n\\n\\n\\n\\n\\n\\n\\nVideo Ad Feedback\\n\\n\\n\\nMatthew Chance describes what's inside leaked documents\\n                \\n\\n\\n\\n\\n                                02:18\\n                            \\nNow playing\\n - Source:\\n                CNN\\n\\n\\n\\n\\n\\n\\n\\n\\n\\n\\n\\n\\n\\n\\n\\nVideo Ad Feedback\\n\\n\\n\\nGeorgia's President calls for protests, says Russia interfered with vote\\n                \\n\\n\\n\\n\\n                                09:37\\n                            \\nNow playing\\n - Source:\\n                CNN\\n\\n\\n\\n\\n\\n\\n\\n\\n\\n\\n\\n\\n\\n\\n\\nVideo Ad Feedback\\n\\n\\n\\nIran 'facing a bunch of really, really bad options,' says expert\\n                \\n\\n\\n\\n\\n                                06:37\\n                            \\nNow playing\\n - Source:\\n                CNN\\n\\n\\n\\n\\n\\n\\n\\n\\n\\n\\n\\n\\n\\n\\n\\nVideo Ad Feedback\\n\\n\\n\\nHear from youngest woman ever to vote at a Vatican assembly\\n                \\n\\n\\n\\n\\n                                01:42\\n                            \\nNow playing\\n - Source:\\n                CNN\\n\\n\\n\\n\\n\\n\\n\\n\\n\\n\\n\\n\\n\\n\\n\\nVideo Ad Feedback\\n\\n\\n\\n'This reflects Russian weakness': Ret. Admiral on North Korean troops going to Ukraine\\n                \\n\\n\\n\\n\\n                                01:12\\n                            \\nNow playing\\n - Source:\\n                CNN\\n\\n\\n\\n\\n\\n\\n\\n\\n\\n\\n\\n\\n\\n\\n\\nVideo Ad Feedback\\n\\n\\n\\nVideo shows Israeli missiles being intercepted in Tehran\\n                \\n\\n\\n\\n\\n                                01:31\\n                            \\nNow playing\\n - Source:\\n                CNN\\n\\n\\n\\n\\n\\n\\n\\n\\n\\n\\n\\n\\n\\n\\n\\nVideo Ad Feedback\\n\\n\\n\\nRetired colonel explains significance of Israel's strike against Iran\\n                \\n\\n\\n\\n\\n                                01:42\\n                            \\nNow playing\\n - Source:\\n                CNN\\n\\n\\n\\n\\n\\n\\n\\n\\n\\n\\n\\n\\n\\n\\n\\nVideo Ad Feedback\\n\\n\\n\\nSources tell CNN the Israeli operation against Iran is over\\n                \\n\\n\\n\\n\\n                                01:44\\n                            \\nNow playing\\n - Source:\\n                CNN\\n\\n\\n\\n\\n\\n\\n\\n\\n\\n\\n\\n\\n\\n\\n\\nVideo Ad Feedback\\n\\n\\n\\nRetired Maj. Gen. Marks predicts what more is to come following Israel’s strikes on Iran\\n                \\n\\n\\n\\n\\n                                01:39\\n                            \\nNow playing\\n - Source:\\n                CNN\\n\\n\\n\\n\\n\\n\\n\\n\\n\\n\\n\\n\\n\\n\\n\\nVideo Ad Feedback\\n\\n\\n\\nA glimpse of life as crisis deepens in Gaza\\n                \\n\\n\\n\\n\\n                                02:58\\n                            \\nNow playing\\n - Source:\\n                CNN\\n\\n\\n\\n\\n\\n\\n\\n\\n\\n\\n\\n\\n\\n\\n\\nVideo Ad Feedback\\n\\n\\n\\nNew WSJ report says Musk has had secret conversations with Putin\\n                \\n\\n\\n\\n\\n                                03:48\\n                            \\nNow playing\\n - Source:\\n                CNN\\n\\n\\n\\n\\n\\n\\n\\n\\n\\n\\n\\n\\n\\n\\n\\nVideo Ad Feedback\\n\\n\\n\\nRussian soldiers heard complaining about North Korean soldiers in intercepted audio\\n                \\n\\n\\n\\n\\n                                01:14\\n                            \\nNow playing\\n - Source:\\n                CNN\\n\\n\\n\\n\\n\\n\\n\\n\\n\\n\\n\\n\\n\\n\\n\\nVideo Ad Feedback\\n\\n\\n\\nNew drone footage reveals rare flooding in Sahara\\n                \\n\\n\\n\\n\\n                                00:36\\n                            \\nNow playing\\n - Source:\\n                \\n\\n\\n\\n\\n\\n\\n\\n\\n\\n\\n\\n\\n\\n\\nVideo Ad Feedback\\n\\n\\n\\nClarissa Ward discusses being held captive while reporting in Darfur\\n                \\n\\n\\n\\n\\n                                02:36\\n                            \\nNow playing\\n - Source:\\n                CNN\\n\\n\\n\\n\\n\\n\\n\\n\\n\\n\\n\\n\\n\\n\\n\\nVideo Ad Feedback\\n\\n\\n\\nGiant mural painted outside mom’s window of son killed in war\\n                \\n\\n\\n\\n\\n                                01:31\\n                            \\nNow playing\\n - Source:\\n                CNN\\n\\n\\n\\n\\n\\n\\n\\n\\n\\n\\n\\n\\n\\n\\n\\nVideo Ad Feedback\\n\\n\\n\\n'We have to let some die': Doctor says Gaza hospital is out of blood, medication\\n                \\n\\n\\n\\n\\n                                03:17\\n                            \\nNow playing\\n - Source:\\n                CNN\\n\\n\\n\\n\\n\\n\\n\\n\\n\\n\\n\\n\\n\\n\\n\\nVideo Ad Feedback\\n\\n\\n\\nSoldier says his unit used Palestinians as human shields\\n                \\n\\n\\n\\n\\n                                04:20\\n                            \\nNow playing\\n - Source:\\n                CNN\\n\\n\\n\\n\\n\\n\\n\\n\\n\\n\\n\\n\\n\\n\\n\\nVideo Ad Feedback\\n\\n\\n\\nVideo shows blast in Turkey's capital\\n                \\n\\n\\n\\n\\n                                00:51\\n                            \\nNow playing\\n - Source:\\n                CNN\\n\\n\\n\\n\\n\\n\\n\\n\\n\\n\\n\\n\\n\\n\\n\\nVideo Ad Feedback\\n\\n\\n\\n'I don’t want aid; my son is gone': Aid drop kills three-year-old in Gaza\\n                \\n\\n\\n\\n\\n                                02:35\\n                            \\nNow playing\\n - Source:\\n                CNN\\n\\n\\n\\n\\n\\n\\n\\n\\n\\n\\n\\n\\n\\n\\n\\nVideo Ad Feedback\\n\\n\\n\\nSee how Taiwan is responding after China encircled the island in provocative drill\\n                \\n\\n\\n\\n\\n                                02:16\\n                            \\nNow playing\\n - Source:\\n                CNN\\n\\n\\n\\n\\n\\n\\n\\n\\n\\n\\n\\n\\n\\n\\n\\nVideo Ad Feedback\\n\\n\\n\\n'You are not our king:’ See Australian lawmaker heckle King Charles\\n                \\n\\n\\n\\n\\n                                00:45\\n                            \\nNow playing\\n - Source:\\n                CNN\\n\\n\\n\\n\\n\\n\\n\\n\\n\\n\\n\\n\\n\\n\\n\\nVideo Ad Feedback\\n\\n\\n\\nIsrael launches new strikes in Beirut\\n                \\n\\n\\n\\n\\n                                00:31\\n                            \\nNow playing\\n - Source:\\n                CNN\\n\\n\\n\\n\\n\\n\\nSee More Videos\\n\\n\\n\\n\\n\\n\\n\\n\\n\\n\\n\\n\\n\\n\\n\\n\\n\\n\\n\\nCNN\\n        \\xa0—\\xa0\\n    \\n\\n\\n            The US is investigating a leak of highly classified US intelligence about Israel’s plans for retaliation against Iran, according to three people familiar with the matter. One of the people familiar confirmed the documents’ authenticity.\\n    \\n\\n            The leak is “deeply concerning,” a US official told CNN.\\n    \\n\\n            The documents, dated October 15 and 16, began circulating online Friday after being posted on Telegram by an account called “Middle East Spectator.”\\n    \\n\\n            They are marked top secret and have markings indicating they are meant to be seen only by the US and its “Five Eyes” allies — Australia, Canada, New Zealand and the United Kingdom.\\n    \\n\\n\\n\\n\\n\\n\\n\\n\\n\\nFILE PHOTO: Hamas leader Yahya Sinwar looks on as Palestinian Hamas supporters take part in an anti-Israel rally over tension in Jerusalem's Al-Aqsa mosque, in Gaza City October 1, 2022. REUTERS/Mohammed Salem/File Photo\\n\\nMohammed Salem/Reuters\\n\\n\\n\\n\\nRelated live-story\\nThe latest on Hamas leader’s death and war in the Middle East\\n\\n\\n\\n\\n            They describe preparations Israel appears to be making for a strike against Iran. One of the documents, which says it was compiled by the National Geospatial-Intelligence Agency, says the plans involve Israel moving munitions around.\\n    \\n\\n            Another document says it is sourced to the National Security Agency and outlines Israeli air force exercises involving air-to-surface missiles, also believed to be in preparation for a strike on Iran.\\xa0CNN is not quoting directly from or showing the documents.\\n    \\n\\n            A US official said the investigation is examining who had access to the alleged Pentagon document. Any such leak would automatically trigger an investigation by the FBI alongside the Pentagon and US intelligence agencies. The FBI declined to comment.\\n    \\n\\n            The leak comes at an extremely sensitive moment in US-Israeli relations and is bound to anger the Israelis, who have been preparing to strike Iran in response to Iran’s missile barrage on October 1. One of the documents also suggests something that Israel has always declined to confirm publicly: that the country has nuclear weapons. The document says the US has not seen any indications that Israel plans to use a nuclear weapon against Iran.\\n    \\n\\n            “If it is true that Israeli tactical plans to respond to Iran’s attack on October 1 have been leaked, it is a serious breach,” said Mick Mulroy, former deputy assistant secretary of defense for the Middle East and a retired CIA officer.\\n    \\n\\n            Mulroy added that “the future coordination between the US and Israel could be challenged as well.\\xa0Trust is a key component in the relationship, and depending on how this was leaked that trust could be eroded.”\\n    \\n\\n\\n\\n\\n\\n\\n\\n\\n\\nIsraeli Prime Minister Benjamin Netanyahu delivers a speech near the city of Rishon LeZion, Israel, on July 5, 2023.\\n\\nJack Guez/AFP/Getty Images\\n\\n\\n\\n\\nRelated article\\nUS officials expect Israel’s counterattack on Iran will come before US Election Day\\n\\n\\n\\n\\n            The National Security Council referred CNN to the Office of the Director of National Intelligence and the Pentagon for comment.\\xa0The Pentagon and National Geospatial-Intelligence Agency declined to comment.\\xa0CNN has reached out to the National Security Agency for comment.\\n    \\n\\n            Another US official said that “these two documents are bad, but not horrible. The concern is if there are more.”\\n    \\n\\n            It is not clear how the documents became public, nor whether they were hacked or deliberately leaked. The US is already on high alert about Iranian hacking campaigns — US intelligence agencies said in August that Iran had hacked documents belonging to Donald Trump’s campaign.\\n    \\n\\nAxios first reported on the leaked documents Saturday.\\n    \\n\\n            A major leak of US intelligence last year also strained the US’ relationships with allies and partners, including South Korea and Ukraine, after a 21-year-old Air National Guardsman posted highly classified information on the social media platform Discord.\\n    \\n\\nThis story has been updated with additional information.\\n\\n\\nCNN’s Evan Perez and Katie Bo Lillis contributed to this report.\\n\\n\\n\\n\\n\\n\\n\\n\\n\\n\\n\\n\\n\\n\\n\\n\\n\\n\\n\\n\\n\\n\\n\\n\\nAd Feedback\\n\\n\\n\\n\\n\\n\\n\\n\\n\\n\\n\\n\\nAd Feedback\\n\\n\\n\\n\\n\\n\\n\\n\\n\\nAd Feedback\\n\\n\\n\\n\\n\\n\\n\\n\\n\\n\\n\\n\\n\\n\\n\\n\\n\\n\\n\\n\\n\\nAd Feedback\\n\\n\\n\\n\\n\\n\\n\\n\\n\\n\\n\\n\\nAd Feedback\\n\\n\\n\\n\\n\\n\\n\\n\\n\\n\\n\\nAd Feedback\\n\\n\\n\\n\\n\\n\\n\\n\\n\\n\\n\\nAd Feedback\\n\\n\\n\\n\\n\\n\\n\\n\\n\\n\\n\\n\\n\\n\\n\\n\\n\\n\\n\\n\\n\\n\\n\\n\\n\\n\\n\\n\\n\\n\\n\\n        Sign in\\n      \\n\\n\\n\\n      My Account\\n\\n\\n\\n\\n          Settings\\n        \\n\\n\\n\\n          Topics You Follow\\n          \\n\\n\\n\\n\\n          Sign Out\\n        \\n\\n\\n\\n\\nYour CNN account\\nSign in to your CNN account\\n\\n\\n\\n\\n\\n\\n        Live TV\\n      \\n\\n        Listen\\n      \\n\\n        Watch\\n      \\n\\n\\n\\n\\n\\n\\n        World\\n      \\n\\n\\n\\n            Africa\\n          \\n\\n\\n\\n            Americas\\n          \\n\\n\\n\\n            Asia\\n          \\n\\n\\n\\n            Australia\\n          \\n\\n\\n\\n            China\\n          \\n\\n\\n\\n            Europe\\n          \\n\\n\\n\\n            India\\n          \\n\\n\\n\\n            Middle East\\n          \\n\\n\\n\\n            United Kingdom\\n          \\n\\n\\n\\n\\n\\n        US Politics\\n      \\n\\n\\n\\n            SCOTUS\\n          \\n\\n\\n\\n            Congress\\n          \\n\\n\\n\\n            Facts First\\n          \\n\\n\\n\\n            2024 Elections\\n          \\n\\n\\n\\n\\n\\n        Business\\n      \\n\\n\\n\\n            Tech\\n          \\n\\n\\n\\n            Media\\n          \\n\\n\\n\\n            Calculators\\n          \\n\\n\\n\\n            Videos\\n          \\n\\n\\n\\n\\n\\n        Markets\\n      \\n\\n\\n\\n            Pre-markets\\n          \\n\\n\\n\\n            After-Hours\\n          \\n\\n\\n\\n            Fear & Greed\\n          \\n\\n\\n\\n            Investing\\n          \\n\\n\\n\\n            Markets Now\\n          \\n\\n\\n\\n            Nightcap\\n          \\n\\n\\n\\n\\n\\n        Health\\n      \\n\\n\\n\\n            Life, But Better\\n          \\n\\n\\n\\n            Fitness\\n          \\n\\n\\n\\n            Food\\n          \\n\\n\\n\\n            Sleep\\n          \\n\\n\\n\\n            Mindfulness\\n          \\n\\n\\n\\n            Relationships\\n          \\n\\n\\n\\n\\n\\n        Entertainment\\n      \\n\\n\\n\\n            Movies\\n          \\n\\n\\n\\n            Television\\n          \\n\\n\\n\\n            Celebrity\\n          \\n\\n\\n\\n\\n\\n        Tech\\n      \\n\\n\\n\\n            Innovate\\n          \\n\\n\\n\\n            Foreseeable Future\\n          \\n\\n\\n\\n            Mission: Ahead\\n          \\n\\n\\n\\n            Work Transformed\\n          \\n\\n\\n\\n            Innovative Cities\\n          \\n\\n\\n\\n\\n\\n        Style\\n      \\n\\n\\n\\n            Arts\\n          \\n\\n\\n\\n            Design\\n          \\n\\n\\n\\n            Fashion\\n          \\n\\n\\n\\n            Architecture\\n          \\n\\n\\n\\n            Luxury\\n          \\n\\n\\n\\n            Beauty\\n          \\n\\n\\n\\n            Video\\n          \\n\\n\\n\\n\\n\\n        Travel\\n      \\n\\n\\n\\n            Destinations\\n          \\n\\n\\n\\n            Food & Drink\\n          \\n\\n\\n\\n            Stay\\n          \\n\\n\\n\\n            News\\n          \\n\\n\\n\\n            Videos\\n          \\n\\n\\n\\n\\n\\n        Sports\\n      \\n\\n\\n\\n            Football\\n          \\n\\n\\n\\n            Tennis\\n          \\n\\n\\n\\n            Golf\\n          \\n\\n\\n\\n            Motorsport\\n          \\n\\n\\n\\n            US Sports\\n          \\n\\n\\n\\n            Olympics\\n          \\n\\n\\n\\n            Climbing\\n          \\n\\n\\n\\n            Esports\\n          \\n\\n\\n\\n            Hockey\\n          \\n\\n\\n\\n\\n\\n        Watch\\n      \\n\\n\\n\\n            Live TV\\n          \\n\\n\\n\\n            CNN Fast\\n          \\n\\n\\n\\n            Shows A-Z\\n          \\n\\n\\n\\n            CNN10\\n          \\n\\n\\n\\n            CNN Max\\n          \\n\\n\\n\\n            CNN TV Schedules\\n          \\n\\n\\n\\n\\n\\n        Listen\\n      \\n\\n\\n\\n            CNN 5 Things\\n          \\n\\n\\n\\n            Chasing Life with Dr. Sanjay Gupta\\n          \\n\\n\\n\\n            The Assignment with Audie Cornish\\n          \\n\\n\\n\\n            One Thing\\n          \\n\\n\\n\\n            Tug of War\\n          \\n\\n\\n\\n            CNN Political Briefing\\n          \\n\\n\\n\\n            The Axe Files\\n          \\n\\n\\n\\n            All There Is with Anderson Cooper\\n          \\n\\n\\n\\n            All CNN Audio podcasts\\n          \\n\\n\\n\\n\\n\\n        Science\\n      \\n\\n\\n\\n            Space\\n          \\n\\n\\n\\n            Life\\n          \\n\\n\\n\\n            Unearthed\\n          \\n\\n\\n\\n\\n\\n        Climate\\n      \\n\\n\\n\\n            Solutions\\n          \\n\\n\\n\\n            Weather\\n          \\n\\n\\n\\n\\n\\n        Features\\n      \\n\\n\\n\\n            As Equals\\n          \\n\\n\\n\\n            Call to Earth\\n          \\n\\n\\n\\n            Freedom Project\\n          \\n\\n\\n\\n            Impact Your World\\n          \\n\\n\\n\\n            Inside Africa\\n          \\n\\n\\n\\n            CNN Heroes\\n          \\n\\n\\n\\n\\n\\n        Weather\\n      \\n\\n\\n\\n            Video\\n          \\n\\n\\n\\n            Climate\\n          \\n\\n\\n\\n\\n\\n        Ukraine-Russia War\\n      \\n\\n\\n\\n\\n\\n        Israel-Hamas War\\n      \\n\\n\\n\\n\\n\\n        About CNN\\n      \\n\\n\\n\\n            Photos\\n          \\n\\n\\n\\n            Investigations\\n          \\n\\n\\n\\n            CNN Profiles\\n          \\n\\n\\n\\n            CNN Leadership\\n          \\n\\n\\n\\n            CNN Newsletters\\n          \\n\\n\\n\\n            Work for CNN\\n          \\n\\n\\n\\n\\n\\n\\n\\n\\n\\n\\n\\n\\n\\n\\n\\n\\nPolitics\\n\\n\\n\\n\\n\\n            Watch\\n          \\n\\n            Listen\\n          \\n\\n            Live TV\\n          \\n\\n\\nFollow CNN Politics\\n\\n\\n\\n\\n\\n\\n\\n\\n\\n\\n\\n\\n\\n\\n\\n\\n\\n\\n\\n\\n\\n\\n\\n\\n\\n\\n\\n\\n\\n\\n\\n\\n\\n        Sign in\\n      \\n\\n\\n\\n      My Account\\n\\n\\n\\n\\n          Settings\\n        \\n\\n\\n\\n          Topics You Follow\\n          \\n\\n\\n\\n\\n          Sign Out\\n        \\n\\n\\n\\n\\nYour CNN account\\nSign in to your CNN account\\n\\n\\n\\n\\n\\n\\n\\n\\n\\n          Terms of Use\\n        \\n\\n          Privacy Policy\\n        \\n\\n\\n\\n          Ad Choices\\n        \\n\\n          Accessibility & CC\\n        \\n\\n          About\\n        \\n\\n          Newsletters\\n        \\n\\n          Transcripts\\n        \\n\\n© 2024 Cable News Network. A Warner Bros. Discovery Company. All Rights Reserved.  CNN Sans ™ & © 2016 Cable News Network.\\n\\n\\n\\n\\n\\n\\n\\n\\n\\n\\n\")]"
      ]
     },
     "execution_count": 12,
     "metadata": {},
     "output_type": "execute_result"
    }
   ],
   "source": [
    "docs"
   ]
  },
  {
   "cell_type": "code",
   "execution_count": 13,
   "metadata": {},
   "outputs": [],
   "source": [
    "from langchain.chains.summarize import load_summarize_chain\n"
   ]
  },
  {
   "cell_type": "code",
   "execution_count": 14,
   "metadata": {},
   "outputs": [],
   "source": [
    "import getpass\n",
    "import os\n",
    "\n",
    "if \"GROQ_API_KEY\" not in os.environ:\n",
    "    os.environ[\"GROQ_API_KEY\"] = getpass.getpass(\"Enter your Groq API key: \")"
   ]
  },
  {
   "cell_type": "code",
   "execution_count": 24,
   "metadata": {},
   "outputs": [],
   "source": [
    "from langchain_groq import ChatGroq\n",
    "\n",
    "llm = ChatGroq(\n",
    "    model=\"llama-3.1-70b-versatile\",\n",
    "    temperature=1,\n",
    "    max_tokens=None,\n",
    "    timeout=None,\n",
    "    # other params...\n",
    ")\n",
    "\n"
   ]
  },
  {
   "cell_type": "code",
   "execution_count": 27,
   "metadata": {},
   "outputs": [],
   "source": [
    "chain = load_summarize_chain(llm, chain_type=\"refine\")\n",
    "#result = chain.invoke(docs)\n",
    "#print(result[\"output_text\"])"
   ]
  },
  {
   "cell_type": "code",
   "execution_count": 28,
   "metadata": {},
   "outputs": [
    {
     "data": {
      "text/plain": [
       "RefineDocumentsChain(verbose=False, initial_llm_chain=LLMChain(verbose=False, prompt=PromptTemplate(input_variables=['text'], input_types={}, partial_variables={}, template='Write a concise summary of the following:\\n\\n\\n\"{text}\"\\n\\n\\nCONCISE SUMMARY:'), llm=ChatGroq(client=<groq.resources.chat.completions.Completions object at 0x7faa12489820>, async_client=<groq.resources.chat.completions.AsyncCompletions object at 0x7faa1248ac90>, model_name='llama-3.1-70b-versatile', temperature=1.0, model_kwargs={}, groq_api_key=SecretStr('**********')), output_parser=StrOutputParser(), llm_kwargs={}), refine_llm_chain=LLMChain(verbose=False, prompt=PromptTemplate(input_variables=['existing_answer', 'text'], input_types={}, partial_variables={}, template=\"Your job is to produce a final summary.\\nWe have provided an existing summary up to a certain point: {existing_answer}\\nWe have the opportunity to refine the existing summary (only if needed) with some more context below.\\n------------\\n{text}\\n------------\\nGiven the new context, refine the original summary.\\nIf the context isn't useful, return the original summary.\"), llm=ChatGroq(client=<groq.resources.chat.completions.Completions object at 0x7faa12489820>, async_client=<groq.resources.chat.completions.AsyncCompletions object at 0x7faa1248ac90>, model_name='llama-3.1-70b-versatile', temperature=1.0, model_kwargs={}, groq_api_key=SecretStr('**********')), output_parser=StrOutputParser(), llm_kwargs={}), document_variable_name='text', initial_response_name='existing_answer', document_prompt=PromptTemplate(input_variables=['page_content'], input_types={}, partial_variables={}, template='{page_content}'))"
      ]
     },
     "execution_count": 28,
     "metadata": {},
     "output_type": "execute_result"
    }
   ],
   "source": [
    "chain.run(split_docs)"
   ]
  },
  {
   "cell_type": "markdown",
   "metadata": {},
   "source": [
    "## Map-Reduce Way"
   ]
  },
  {
   "cell_type": "markdown",
   "metadata": {},
   "source": [
    "## Chuunking document into multiple sub documents"
   ]
  },
  {
   "cell_type": "code",
   "execution_count": 29,
   "metadata": {},
   "outputs": [
    {
     "name": "stdout",
     "output_type": "stream",
     "text": [
      "Generated 14 documents.\n"
     ]
    }
   ],
   "source": [
    "from langchain_text_splitters import CharacterTextSplitter\n",
    "\n",
    "text_splitter = CharacterTextSplitter.from_tiktoken_encoder(\n",
    "    chunk_size=1000, chunk_overlap=0\n",
    ")\n",
    "split_docs = text_splitter.split_documents(docs)\n",
    "print(f\"Generated {len(split_docs)} documents.\")"
   ]
  },
  {
   "cell_type": "code",
   "execution_count": 33,
   "metadata": {},
   "outputs": [],
   "source": [
    "import operator\n",
    "from typing import Annotated, List, Literal, TypedDict\n",
    "from langchain.chains.combine_documents.reduce import (\n",
    "    acollapse_docs,\n",
    "    split_list_of_docs,\n",
    ")\n",
    "from langchain_core.documents import Document\n",
    "from langgraph.constants import Send\n",
    "from langgraph.graph import END, START, StateGraph\n"
   ]
  },
  {
   "cell_type": "code",
   "execution_count": null,
   "metadata": {},
   "outputs": [],
   "source": [
    " "
   ]
  },
  {
   "cell_type": "code",
   "execution_count": 32,
   "metadata": {},
   "outputs": [
    {
     "name": "stderr",
     "output_type": "stream",
     "text": [
      "huggingface/tokenizers: The current process just got forked, after parallelism has already been used. Disabling parallelism to avoid deadlocks...\n",
      "To disable this warning, you can either:\n",
      "\t- Avoid using `tokenizers` before the fork if possible\n",
      "\t- Explicitly set the environment variable TOKENIZERS_PARALLELISM=(true | false)\n"
     ]
    },
    {
     "name": "stdout",
     "output_type": "stream",
     "text": [
      "Note: you may need to restart the kernel to use updated packages.\n"
     ]
    }
   ],
   "source": [
    "%pip install --upgrade --quiet tiktoken langchain langgraph beautifulsoup4"
   ]
  },
  {
   "cell_type": "code",
   "execution_count": 21,
   "metadata": {},
   "outputs": [],
   "source": [
    "from langchain_core.output_parsers import StrOutputParser\n",
    "from langchain_core.prompts import ChatPromptTemplate\n",
    "\n",
    "map_prompt = ChatPromptTemplate.from_messages(\n",
    "    [(\"system\", \"Write a concise summary of the following:\\\\n\\\\n{context}\")]\n",
    ")\n",
    "\n",
    "map_chain = map_prompt | llm | StrOutputParser()"
   ]
  },
  {
   "cell_type": "code",
   "execution_count": 22,
   "metadata": {},
   "outputs": [],
   "source": [
    "reduce_template = \"\"\"\n",
    "The following is a set of summaries:\n",
    "{docs}\n",
    "Take these and distill it into a final, consolidated summary\n",
    "of the main themes.\n",
    "\"\"\"\n",
    "\n",
    "reduce_prompt = ChatPromptTemplate([(\"human\", reduce_template)])\n",
    "\n",
    "reduce_chain = reduce_prompt | llm | StrOutputParser()\n",
    "\n"
   ]
  },
  {
   "cell_type": "code",
   "execution_count": 23,
   "metadata": {},
   "outputs": [
    {
     "data": {
      "text/plain": [
       "ChatPromptTemplate(input_variables=['docs'], input_types={}, partial_variables={}, messages=[HumanMessagePromptTemplate(prompt=PromptTemplate(input_variables=['docs'], input_types={}, partial_variables={}, template='\\nThe following is a set of summaries:\\n{docs}\\nTake these and distill it into a final, consolidated summary\\nof the main themes.\\n'), additional_kwargs={})])\n",
       "| ChatGroq(client=<groq.resources.chat.completions.Completions object at 0x7faa3534d400>, async_client=<groq.resources.chat.completions.AsyncCompletions object at 0x7faa3534e060>, model_name='llama-3.1-70b-versatile', temperature=1.0, model_kwargs={}, groq_api_key=SecretStr('**********'))\n",
       "| StrOutputParser()"
      ]
     },
     "execution_count": 23,
     "metadata": {},
     "output_type": "execute_result"
    }
   ],
   "source": [
    "reduce_chain"
   ]
  },
  {
   "cell_type": "code",
   "execution_count": null,
   "metadata": {},
   "outputs": [],
   "source": []
  }
 ],
 "metadata": {
  "kernelspec": {
   "display_name": "Python 3 (ipykernel)",
   "language": "python",
   "name": "python3"
  },
  "language_info": {
   "codemirror_mode": {
    "name": "ipython",
    "version": 3
   },
   "file_extension": ".py",
   "mimetype": "text/x-python",
   "name": "python",
   "nbconvert_exporter": "python",
   "pygments_lexer": "ipython3",
   "version": "3.12.6"
  }
 },
 "nbformat": 4,
 "nbformat_minor": 2
}
