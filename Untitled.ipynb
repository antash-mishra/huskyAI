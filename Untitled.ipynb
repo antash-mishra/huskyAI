{
 "cells": [
  {
   "cell_type": "code",
   "execution_count": 1,
   "id": "238bf3c3-7cb8-441d-975c-06147b57ffc2",
   "metadata": {},
   "outputs": [],
   "source": [
    "import requests\n",
    "from html.parser import HTMLParser\n",
    "from urllib.parse import urlparse\n",
    "from collections import deque\n",
    "from bs4 import BeautifulSoup\n",
    "import re\n",
    "import urllib.request\n",
    "import os"
   ]
  },
  {
   "cell_type": "code",
   "execution_count": 19,
   "id": "6608c7e6-07a9-4b08-9aa6-792b2253d65b",
   "metadata": {},
   "outputs": [],
   "source": [
    "HTTP_URL_PATTERN = r'^http[s]*://.+'\n",
    "\n",
    "domain = \"timesofindia.indiatimes.com\"\n",
    "full_url = \"https://timesofindia.indiatimes.com/\""
   ]
  },
  {
   "cell_type": "code",
   "execution_count": 6,
   "id": "e64e2ed1-98a5-4714-9186-f2c35bebf489",
   "metadata": {},
   "outputs": [],
   "source": [
    "full_url = \"https://timesofindia.indiatimes.com/\""
   ]
  },
  {
   "cell_type": "code",
   "execution_count": 7,
   "id": "21db4fb9-93fd-429b-8ea7-b95c4de8dcc7",
   "metadata": {},
   "outputs": [],
   "source": [
    "local_domain = urlparse(url=full_url).netloc"
   ]
  },
  {
   "cell_type": "code",
   "execution_count": 8,
   "id": "53c7a295-3874-42de-bd94-af65ebc14361",
   "metadata": {},
   "outputs": [
    {
     "data": {
      "text/plain": [
       "'timesofindia.indiatimes.com'"
      ]
     },
     "execution_count": 8,
     "metadata": {},
     "output_type": "execute_result"
    }
   ],
   "source": [
    "local_domain"
   ]
  },
  {
   "cell_type": "code",
   "execution_count": 9,
   "id": "0ef0855b-ad54-4e46-a83f-69b5084c6f3b",
   "metadata": {},
   "outputs": [],
   "source": [
    "queue = deque([full_url])\n",
    "seen = set([full_url])"
   ]
  },
  {
   "cell_type": "code",
   "execution_count": 11,
   "id": "aa57d06c-ecf6-43ce-9678-8999c0da02f3",
   "metadata": {},
   "outputs": [
    {
     "data": {
      "text/plain": [
       "deque(['https://timesofindia.indiatimes.com/'])"
      ]
     },
     "execution_count": 11,
     "metadata": {},
     "output_type": "execute_result"
    }
   ],
   "source": [
    "queue"
   ]
  },
  {
   "cell_type": "code",
   "execution_count": 12,
   "id": "a7d4e6b2-5023-4a83-99af-7571a442582b",
   "metadata": {},
   "outputs": [],
   "source": [
    "url = queue.pop()"
   ]
  },
  {
   "cell_type": "code",
   "execution_count": 13,
   "id": "7cc086a2-7fb1-4031-bf43-30ead63a6b6d",
   "metadata": {},
   "outputs": [
    {
     "data": {
      "text/plain": [
       "'https://timesofindia.indiatimes.com/'"
      ]
     },
     "execution_count": 13,
     "metadata": {},
     "output_type": "execute_result"
    }
   ],
   "source": [
    "url"
   ]
  },
  {
   "cell_type": "code",
   "execution_count": 17,
   "id": "bd8e08a9-443a-4bbc-ba79-7b809cb32aff",
   "metadata": {},
   "outputs": [],
   "source": [
    "class HyperlinkParser(HTMLParser):\n",
    "    def __init__(self):\n",
    "        super().__init__()\n",
    "        self.hyperlinks = []\n",
    "\n",
    "    def handle_starttag(self, tag, attrs):\n",
    "        attrs = dict(attrs)\n",
    "\n",
    "        if tag == \"a\" and \"href\" in attrs:\n",
    "            self.hyperlinks.append(attrs[\"href\"])"
   ]
  },
  {
   "cell_type": "code",
   "execution_count": 14,
   "id": "b75e94e5-4ce5-4a2e-a496-776f492e83ae",
   "metadata": {},
   "outputs": [],
   "source": [
    "def get_hyperlinks(url):\n",
    "\n",
    "    # Try to open the URL and read the HTML\n",
    "    try:\n",
    "        # Open the URL and read the HTML\n",
    "        with urllib.request.urlopen(url) as response:\n",
    "\n",
    "            # If the response is not HTML, return an empty list\n",
    "            if not response.info().get('Content-Type').startswith(\"text/html\"):\n",
    "                return []\n",
    "\n",
    "            # Decode the HTML\n",
    "            html = response.read().decode('utf-8')\n",
    "    except Exception as e:\n",
    "        print(e)\n",
    "        return []\n",
    "\n",
    "    # Create the HTML Parser and then Parse the HTML to get hyperlinks\n",
    "    parser = HyperlinkParser()\n",
    "    parser.feed(html)\n",
    "\n",
    "    return parser.hyperlinks"
   ]
  },
  {
   "cell_type": "code",
   "execution_count": 15,
   "id": "a0d5b343-7170-4087-9307-db7df7b15e40",
   "metadata": {},
   "outputs": [],
   "source": [
    "def get_domain_hyperlinks(local_domain, url):\n",
    "    clean_links = []\n",
    "    for link in set(get_hyperlinks(url)):\n",
    "        clean_link = None\n",
    "\n",
    "        # If the link is a URL, check if it is within the same domain\n",
    "        if re.search(HTTP_URL_PATTERN, link):\n",
    "            # Parse the URL and check if the domain is the same\n",
    "            url_obj = urlparse(link)\n",
    "            if url_obj.netloc == local_domain:\n",
    "                clean_link = link\n",
    "\n",
    "        # If the link is not a URL, check if it is a relative link\n",
    "        else:\n",
    "            if link.startswith(\"/\"):\n",
    "                link = link[1:]\n",
    "            elif link.startswith(\"#\") or link.startswith(\"mailto:\"):\n",
    "                continue\n",
    "            clean_link = \"https://\" + local_domain + \"/\" + link\n",
    "\n",
    "        if clean_link is not None:\n",
    "            if clean_link.endswith(\"/\"):\n",
    "                clean_link = clean_link[:-1]\n",
    "            clean_links.append(clean_link)\n",
    "\n",
    "    # Return the list of hyperlinks that are within the same domain\n",
    "    return list(set(clean_links))"
   ]
  },
  {
   "cell_type": "code",
   "execution_count": 20,
   "id": "207a0284-99ff-414c-8658-418053e8be66",
   "metadata": {},
   "outputs": [
    {
     "data": {
      "text/plain": [
       "['https://timesofindia.indiatimes.com/life-style/health-fitness/health-news/rishabh-pant-injury-update-rishabh-pant-suffers-severe-injury-on-the-same-leg-that-was-operated-on-can-it-have-serious-consequences/articleshow/114346002.cms',\n",
       " 'https://timesofindia.indiatimes.com/education/exams/other-exams/upsc-mains-gs-previous-year-question-papers/featureshow/114338300.cms',\n",
       " 'https://timesofindia.indiatimes.com/india/us-charges-former-indian-intelligence-officer-over-plot-to-kill-sikh-separatist-in-new-york/articleshow/114327821.cms',\n",
       " 'https://timesofindia.indiatimes.com/education/news/bihar-public-service-commission-to-conduct-70th-combined-exam-on-december-13-2024-check-official-notice-here/articleshow/114350294.cms',\n",
       " 'https://timesofindia.indiatimes.com/sports/cricket/new-zealand-in-india/virat-kohli-punished-us-rachin-ravindra-makes-huge-comment-after-day-3-play-in-bengaluru/articleshow/114353405.cms',\n",
       " 'https://timesofindia.indiatimes.com/entertainment/hindi/bollywood/news/shah-rukh-khan-opens-up-about-his-late-parents-i-still-think-my-mom-is-a-/articleshow/114360310.cms',\n",
       " 'https://timesofindia.indiatimes.com/city/mangalore',\n",
       " 'https://timesofindia.indiatimes.com/voice-of-conscience',\n",
       " 'https://timesofindia.indiatimes.com/sports/cricket/new-zealand-in-india/it-hurts-i-made-the-call-rohit-sharma-on-indias-decision-to-bat-in-1st-test-against-new-zealand/articleshow/114333265.cms',\n",
       " 'https://timesofindia.indiatimes.com/auto/cars/lucid-motors-reveals-new-midsize-electric-suv-around-50k-details-on-upcoming-models-pricing-and-market-strategy/articleshow/113287278.cms',\n",
       " 'https://timesofindia.indiatimes.com/world/middle-east/new-footage-captures-hamas-chief-yahya-sinwar-throwing-stick-at-drone-before-being-killed-by-israel/articleshow/114344358.cms',\n",
       " 'https://timesofindia.indiatimes.com/technology/tech-news/zoho-ceo-sridhar-vembu-suggests-these-radical-changes-in-workplace-you-are-throwing-people-into-a-very-big-pressure-cooker-and-very-tragically-/articleshow/113904588.cms',\n",
       " 'https://timesofindia.indiatimes.com/city/delhi',\n",
       " 'https://timesofindia.indiatimes.com/sports/nfl/news/in-the-wake-of-jay-cutlers-arrest-tyreek-hill-calls-out-big-hypocrisy-amidst-police-misconduct-fight/articleshow/114357931.cms',\n",
       " 'https://timesofindia.indiatimes.com/tv/hindi?utm_source=TOIHP',\n",
       " 'https://timesofindia.indiatimes.com/life-style/books/web-stories/10-ways-to-magically-rekindle-your-love-for-reading/photostory/114317129.cms',\n",
       " 'https://timesofindia.indiatimes.com/city/nagpur',\n",
       " 'https://timesofindia.indiatimes.com/life-style/health-fitness/fitness/shilpa-shetty-diet-and-fitness-secret-shilpa-shetty-kundra-secret-for-a-leaner-and-healthier-physique/photostory/114338008.cms',\n",
       " 'https://timesofindia.indiatimes.com/astrology/gemstones/simple-ways-to-program-your-crystals-unlock-their-full-potential/articleshow/114347958.cms',\n",
       " 'https://timesofindia.indiatimes.com/business/india-business/indias-forex-reserves-decline-for-second-week/articleshow/114351937.cms',\n",
       " 'https://timesofindia.indiatimes.com/city/raipur',\n",
       " 'https://timesofindia.indiatimes.com/videos/etimes/bollywood/divya-khossla-kumar-slams-karan-johar-amid-jigra-controversy-heres-what-she-says-watch/videoshow/114284016.cms',\n",
       " 'https://timesofindia.indiatimes.com/entertainment/hindi/bollywood/news/when-somy-ali-wanted-to-marry-salman-khan-but-broke-up-due-to-this-reason/articleshow/114338184.cms',\n",
       " 'https://timesofindia.indiatimes.com/privacy-policy/cookiepolicy/80245266.cms',\n",
       " 'https://timesofindia.indiatimes.com/life-style/health-fitness/health-news/common-mistakes-why-magnesium-supplements-do-not-work/photostory/114303289.cms',\n",
       " 'https://timesofindia.indiatimes.com/entertainment/hindi/bollywood/news/juhi-chawla-surpasses-deepika-padukone-alia-bhatt-and-priyanka-chopra-as-she-becomes-indias-richest-actress-with-net-worth-of-rs-4600-crore-deets-inside/articleshow/114320983.cms',\n",
       " 'https://timesofindia.indiatimes.com/videos/etimes/bollywood/ram-gopal-varma-calls-for-salman-khan-to-challenge-lawrence-bishnoi-biggest-gangster-/videoshow/114284846.cms',\n",
       " 'https://timesofindia.indiatimes.com/videos/entertainment/english/former-one-direction-member-liam-payne-dies-at-31-tragic-end-in-argentina/videoshow/114299470.cms',\n",
       " 'https://timesofindia.indiatimes.com/business/india-business/vedanta-to-invest-rs-1-lakh-crore-in-odisha-to-set-up-alumina-refinery-aluminium-plant/articleshow/114353783.cms',\n",
       " 'https://timesofindia.indiatimes.com/city/navi-mumbai',\n",
       " 'https://timesofindia.indiatimes.com/life-style/parenting/moments/6-tips-to-supercharge-your-childs-memorising-power/articleshow/114344478.cms',\n",
       " 'https://timesofindia.indiatimes.com/life-style/food-news/karwa-chauth-2024-6-must-have-foods-in-sargi-for-karwa-chauth-vrat/articleshow/114349911.cms',\n",
       " 'https://timesofindia.indiatimes.com/india/opinions-and-features',\n",
       " 'https://timesofindia.indiatimes.com/entertainment/hindi/music/news/arijit-singh-declares-stage-as-temple-removes-fans-food-during-concert-says-i-am-sorry-you-cant-put-food-here/articleshow/113453635.cms',\n",
       " 'https://timesofindia.indiatimes.com/city/itanagar',\n",
       " 'https://timesofindia.indiatimes.com/entertainment/hindi/bollywood/news/honey-singh-takes-a-hilarious-dig-at-badshahs-rap-skills-amid-longstanding-feud-aise-lyrics-/articleshow/114342931.cms',\n",
       " 'https://timesofindia.indiatimes.com/city/patna/giriraj-singh-kicks-off-hindu-swabhiman-yatra-from-bihars-bhagalpur/articleshow/114346627.cms',\n",
       " 'https://timesofindia.indiatimes.com/tv/news/hindi/from-91-kg-to-76-kg-laughter-chefs-fame-bharti-singhs-inspiring-weight-loss-journey/photostory/114256253.cms',\n",
       " 'https://timesofindia.indiatimes.com/spotlight/as-cybersecurity-threats-rise-isb-executive-educations-cybersecurity-for-leaders-programme-equips-leaders-with-ai-integrated-solutions/articleshow/112458694.cms',\n",
       " 'https://timesofindia.indiatimes.com/city/visakhapatnam',\n",
       " 'https://timesofindia.indiatimes.com/life-style/food-news/milk-adulteration-6-simple-ways-to-check-milk-purity-at-home/articleshow/114346974.cms',\n",
       " 'https://timesofindia.indiatimes.com/games',\n",
       " 'https://timesofindia.indiatimes.com/india/uttarakhand',\n",
       " 'https://timesofindia.indiatimes.com/entertainment/hindi/bollywood/news/shraddha-kapoor-breaks-silence-on-stree-2-success-credit-war-excitedly-confirms-stree-3/articleshow/114357374.cms',\n",
       " 'https://timesofindia.indiatimes.com/city/jaipur/tragic-death-of-16-year-old-boy-in-kota-following-school-expulsion/articleshow/114326210.cms',\n",
       " 'https://timesofindia.indiatimes.com/education/news/upsc-ese-2025-reopens-application-window-at-upsc-gov-in-extends-deadline-to-november-22/articleshow/114354101.cms',\n",
       " 'https://timesofindia.indiatimes.com/india/andaman-and-nicobar-islands',\n",
       " 'https://timesofindia.indiatimes.com/city/kohima',\n",
       " 'https://timesofindia.indiatimes.com/india/web-stories',\n",
       " 'https://timesofindia.indiatimes.com/education/web-stories/sadhgurus-10-motivational-quotes-for-students-seeking-success/photostory/114351859.cms',\n",
       " 'https://timesofindia.indiatimes.com/india/himachal-pradesh',\n",
       " 'https://timesofindia.indiatimes.com/sports/nfl/news/jimmy-fallon-takes-center-stage-after-sunday-night-football-nbcs-ambitious-plan-to-unite-sports-and-late-night-comedy/articleshow/114358719.cms',\n",
       " 'https://timesofindia.indiatimes.com/auto/cars/2024-kia-carnival-fuel-efficiency-revealed-more-efficient-than-toyota-fortuner/articleshow/114346789.cms',\n",
       " 'https://timesofindia.indiatimes.com/videos/etimes/bollywood/priyanka-chopras-sweet-gesture-for-adorable-fans/videoshow/114345309.cms',\n",
       " 'https://timesofindia.indiatimes.com/world/us',\n",
       " 'https://timesofindia.indiatimes.com/life-style/fashion',\n",
       " 'https://timesofindia.indiatimes.com/city/link-toi-to-your-google-account-and-enhance-your-news-reading-experience/promoshow/108839467.cms?pcode=462?utm_source=TOI&utm_medium=Spotlight_Slug&utm_campaign=SWG_Oct2024',\n",
       " 'https://timesofindia.indiatimes.com/videos/toi-original/u-p-bihar-people-imposed-on-us-kashmir-votes-in-referendum-assembly-poll-jk-election/videoshow/113441100.cms',\n",
       " 'https://timesofindia.indiatimes.com/auto/news/karnataka-man-burns-down-ola-showroom-over-grievance-company-responds/articleshow/113286299.cms',\n",
       " 'https://timesofindia.indiatimes.com/entertainment/hindi/movie-reviews/vicky-vidya-ka-woh-wala-video/movie-review/114136020.cms',\n",
       " 'https://timesofindia.indiatimes.com/videos/sports/top-tennis-videos/down-the-t-with-lorenzo-musetti/videoshow/113166865.cms',\n",
       " 'https://timesofindia.indiatimes.com/city/allahabad',\n",
       " 'https://timesofindia.indiatimes.com/entertainment/k-pop/music/news/blackpinks-lisa-opens-up-about-the-challenges-of-maintaining-privacy/articleshow/114360019.cms',\n",
       " 'https://timesofindia.indiatimes.com/auto',\n",
       " 'https://timesofindia.indiatimes.com/videos/toi-original/kolkata-rape-first-image-of-crime-scene-out-cbi-blasts-police-for-tampering-evidence-details/videoshow/112938654.cms',\n",
       " 'https://timesofindia.indiatimes.com/india/madhya-pradesh',\n",
       " 'https://timesofindia.indiatimes.com/city/chennai',\n",
       " 'https://timesofindia.indiatimes.com/india/pm-modi-to-attend-first-in-person-quad-summit-to-be-hosted-by-biden-next-week/articleshow/86187822.cms',\n",
       " 'https://timesofindia.indiatimes.com/sports/wwe/top-stories/the-undertaker-to-host-former-president-donald-trump-ahead-of-presidential-election/articleshow/114338381.cms',\n",
       " 'https://timesofindia.indiatimes.com/sports/cricket/live-cricket-score',\n",
       " 'https://timesofindia.indiatimes.com/life-style/health-fitness/web-stories/lemon-peels-benefits-5-ways-to-use-lemon-peels-in-meals-and-unlock-health-benefits/photostory/114339359.cms',\n",
       " 'https://timesofindia.indiatimes.com/city/chandigarh/ex-haryana-minister-capt-ajay-yadav-quits-congress/articleshow/114342495.cms',\n",
       " 'https://timesofindia.indiatimes.com/sports/cricket/ipl/top-stories/hemang-badani-is-new-delhi-capitals-head-coach-venugopal-rao-director-in-big-reshuffle/articleshow/114334619.cms',\n",
       " 'https://timesofindia.indiatimes.com/city/kolkata',\n",
       " 'https://timesofindia.indiatimes.com/technology/tech-news/we-will-do-our-best-to-serve-the-people-of-india-elon-musk-after-telecom-minister-jyotiradtiya-scindia-confirms-no-satcomm-spectrum-auction/articleshow/114274643.cms',\n",
       " 'https://timesofindia.indiatimes.com/life-style/relationships/love-sex/optical-illusion-personality-test-are-you-diplomatic-or-brutally-honest/articleshow/114357640.cms',\n",
       " 'https://timesofindia.indiatimes.com/india/chandigarh',\n",
       " 'https://timesofindia.indiatimes.com/education/news/jee-main-answer-key-2024-how-to-raise-objections-direct-link-here/articleshow/107472668.cms',\n",
       " 'https://timesofindia.indiatimes.com/life-style/parenting',\n",
       " 'https://timesofindia.indiatimes.com/etimes/trending/5-most-dangerous-ants-in-the-world-that-no-one-told-you-about/photostory/114356413.cms',\n",
       " 'https://timesofindia.indiatimes.com/sports/cricket/india-vs-new-zealand-live-score-1st-test-match-day-4-today-ind-vs-nz-match-weather-updates-bengaluru-m-chinnaswamy-stadium/liveblog/114363681.cms',\n",
       " 'https://timesofindia.indiatimes.com/mostread.cms',\n",
       " 'https://timesofindia.indiatimes.com/tv/news/hindi/bigg-boss-ott-3-fame-adnaan-shaikh-performs-umrah-with-his-wife-ayesha-wishes-for-his-parents-happiness-and-health/articleshow/114357644.cms',\n",
       " 'https://timesofindia.indiatimes.com/india/karnataka',\n",
       " 'https://timesofindia.indiatimes.com/spotlight/star-health-and-allied-insurance-revolutionises-indian-healthcare-with-home-healthcare-expansion/articleshow/114217380.cms',\n",
       " 'https://timesofindia.indiatimes.com/city/varanasi',\n",
       " 'https://timesofindia.indiatimes.com/life-style/beauty/ultimate-guide-to-salicylic-acid-benefits-risks-and-how-to-use-it-for-radiant-skin/articleshow/114306021.cms',\n",
       " 'https://timesofindia.indiatimes.com/entertainment/hindi/bollywood/news/amitabh-bachchan-recalls-how-there-was-always-the-fear-back-in-the-day-on-sets-there-were-a-few-incidents-where-we-had-very-serious-injuries/articleshow/114360065.cms',\n",
       " 'https://timesofindia.indiatimes.com/life-style/health-fitness/web-stories/10-herbal-drinks-to-keep-immunity-in-check-as-winter-sets-in/photostory/114353331.cms',\n",
       " 'https://timesofindia.indiatimes.com/tv/news/hindi/anupamaa-actor-rushad-rana-responds-to-claims-of-co-stars-leaving-the-show-due-to-rupali-ganguly-says-she-has-been-/articleshow/114325041.cms',\n",
       " 'https://timesofindia.indiatimes.com/life-style/fashion/web-stories/isha-ambani-to-ms-dhoni-best-dressed-celebs-at-radhika-merchants-birthday-bash/photostory/114334992.cms',\n",
       " 'https://timesofindia.indiatimes.com/education/news/iits-implement-fee-waivers-relaxed-cut-offs-and-call-centre-support-for-reserved-category-students/articleshow/114355754.cms',\n",
       " 'https://timesofindia.indiatimes.com/life-style/health-fitness/fitness/easy-yoga-asanas-for-sustainable-weight-loss/articleshow/114322507.cms',\n",
       " 'https://timesofindia.indiatimes.com/business',\n",
       " 'https://timesofindia.indiatimes.com/india/arunachal-pradesh',\n",
       " 'https://timesofindia.indiatimes.com/news',\n",
       " 'https://timesofindia.indiatimes.com/world/south-asia/afghanistan-crisis-live-updates-sept-13/liveblog/86154670.cms',\n",
       " 'https://timesofindia.indiatimes.com/education/colleges/top-10-management-colleges-of-india/featureshow/113739605.cms',\n",
       " 'https://timesofindia.indiatimes.com/life-style/books/web-stories/halloween-2024-8-creepy-books-to-experience-the-chills-this-halloween/photostory/114351973.cms',\n",
       " 'https://timesofindia.indiatimes.com/life-style/health-fitness?utm_source=TOI&utm_medium=L2&utm_campaign=HealthSectionRevamp',\n",
       " 'https://timesofindia.indiatimes.com/city/jodhpur',\n",
       " 'https://timesofindia.indiatimes.com/videos/etimes/bollywood/arbaaz-khan-gives-update-on-salman-khans-security-amid-threat/videoshow/114310507.cms',\n",
       " 'https://timesofindia.indiatimes.com/tv/news/hindi/bigg-boss-18-vivian-dsena-talks-about-his-divorce-from-vahbiz-dorabjee-says-ek-baat-toh-maan-ni-padegi-ladki-solid-hai/articleshow/114337161.cms',\n",
       " 'https://timesofindia.indiatimes.com/entertainment/hindi/bollywood/box-office/jigra-box-office-collection-day-7-the-alia-bhatt-starrer-sees-a-further-drop-in-numbers-as-it-completes-its-one-week-run-inches-closer-to-rs-25-crore/articleshow/114331934.cms',\n",
       " 'https://timesofindia.indiatimes.com/education/news/neet-mds-counselling-2024-special-stray-vacancy-round-allotment-result-out-check-direct-link-here/articleshow/114352212.cms',\n",
       " 'https://timesofindia.indiatimes.com/world/pakistan/pakistan-on-campus-rape-violent-protests-in-lahore-properties-damaged-one-killed/articleshow/114333670.cms',\n",
       " 'https://timesofindia.indiatimes.com/technology/tech-news/microsoft-confirms-that-it-lost-weeks-of-data-for-its-cloud-customers-a-bug-in-one-of-microsofts-resulted-in-malfunction/articleshow/114347302.cms',\n",
       " 'https://timesofindia.indiatimes.com/life-style/health-fitness/diet/common-breakfast-mistakes-that-secretly-add-to-belly-fat/articleshow/114350211.cms',\n",
       " 'https://timesofindia.indiatimes.com/india/jharkhand',\n",
       " 'https://timesofindia.indiatimes.com/life-style/health-fitness/de-stress/optical-illusion-only-a-person-with-high-iq-can-tell-which-boat-will-sink-first/articleshow/114355018.cms',\n",
       " 'https://timesofindia.indiatimes.com/videos/entertainment',\n",
       " 'https://timesofindia.indiatimes.com/city/jammu',\n",
       " 'https://timesofindia.indiatimes.com/sports/nfl/news/following-mike-williams-blame-aaron-rodgers-praises-davante-adams-as-jets-offensive-hero/articleshow/114324517.cms',\n",
       " 'https://timesofindia.indiatimes.com/technology/tech-news/iphone-16-series-brings-good-news-for-apple-in-china/articleshow/114359686.cms',\n",
       " 'https://timesofindia.indiatimes.com/life-style/relationships/love-sex/jaya-bachchan-kajols-body-language-decoded-what-makes-them-bond/photostory/114352780.cms',\n",
       " 'https://timesofindia.indiatimes.com',\n",
       " 'https://timesofindia.indiatimes.com/city/hyderabad',\n",
       " 'https://timesofindia.indiatimes.com/technology/gaming/coin-master-free-spins-and-coins-for-16-october-2024-earn-million-of-coins-using-todays-link/articleshow/114271283.cms',\n",
       " 'https://timesofindia.indiatimes.com/life-style/relationships/love-sex/optical-illusion-personality-test-what-you-see-first-reveals-your-biggest-weakness-in-relationships/articleshow/114327502.cms',\n",
       " 'https://timesofindia.indiatimes.com/city/photos',\n",
       " 'https://timesofindia.indiatimes.com/city/web-stories',\n",
       " 'https://timesofindia.indiatimes.com/entertainment/hindi/bollywood/news/rushad-rana-recalls-how-aishwarya-rai-and-preity-zinta-ignored-him-during-mohabbatein-and-veer-zaara-shoot/articleshow/114291515.cms',\n",
       " 'https://timesofindia.indiatimes.com/world/us/an-evening-of-humor-in-us-in-a-season-of-electoral-rancor/articleshow/114354258.cms',\n",
       " 'https://timesofindia.indiatimes.com/city/thane',\n",
       " 'https://timesofindia.indiatimes.com/india/sikkim',\n",
       " 'https://timesofindia.indiatimes.com/entertainment/hindi/bollywood/news/singham-again-vs-bhool-bhulaiyaa-3-to-gladiator-ii-vs-wicked-upcoming-box-office-clashes-to-watch-out-for/photostory/114319340.cms',\n",
       " 'https://timesofindia.indiatimes.com/tv/news/hindi/bigg-boss-18-jiya-shankar-comes-out-in-support-of-avinash-mishra-says-he-is-absolutely-killing-it/articleshow/114355530.cms',\n",
       " 'https://timesofindia.indiatimes.com/technology/tech-news/amazon-pay-bumper-rewards-program-announced-for-amazon-great-indian-festival-2024/articleshow/114348568.cms',\n",
       " 'https://timesofindia.indiatimes.com/rss.cms',\n",
       " 'https://timesofindia.indiatimes.com/india/lakshadweep',\n",
       " 'https://timesofindia.indiatimes.com/city/bareilly',\n",
       " 'https://timesofindia.indiatimes.com/elections/assembly-elections/maharashtra/schedule',\n",
       " 'https://timesofindia.indiatimes.com/javascript: void(0)',\n",
       " 'https://timesofindia.indiatimes.com/spotlight/samsung-fab-grab-fest-sale-is-ending-soon-10-offers-they-still-dont-want-you-to-know/articleshow/114285081.cms',\n",
       " 'https://timesofindia.indiatimes.com/life-style/beauty',\n",
       " 'https://timesofindia.indiatimes.com/life-style/food-news/6-common-foods-to-avoid-eating-with-papaya/articleshow/114244074.cms',\n",
       " 'https://timesofindia.indiatimes.com/etimes/trending',\n",
       " 'https://timesofindia.indiatimes.com/auto/bikes/leaked-royal-enfield-bear-650-images-surface-what-to-expect/articleshow/114275355.cms',\n",
       " 'https://timesofindia.indiatimes.com/india/mizoram',\n",
       " 'https://timesofindia.indiatimes.com/india/another-threat-now-vistara-delhi-london-diverts-to-frankfurt/articleshow/114362911.cms',\n",
       " 'https://timesofindia.indiatimes.com/city/mumbai/mumbai-police-push-for-lawrence-bishnoi-custody-in-ncp-politician-murder-case/articleshow/114325132.cms',\n",
       " 'https://timesofindia.indiatimes.com/business/india-business/rate-cut-at-this-stage-will-be-premature-and-very-very-risky-says-rbi-governor/articleshow/114354022.cms',\n",
       " 'https://timesofindia.indiatimes.com/city/kolhapur',\n",
       " 'https://timesofindia.indiatimes.com/life-style/relationships/work/optical-illusion-psychology-test-are-you-a-born-leader-or-a-herd-follower/articleshow/114250129.cms',\n",
       " 'https://timesofindia.indiatimes.com/city/jamshedpur',\n",
       " 'https://timesofindia.indiatimes.com/education/news/top-three-indian-universities-in-the-world-university-rankings-2025-vs-qs-world-university-rankings-2025-what-makes-these-universities-stand-out/articleshow/114355071.cms',\n",
       " 'https://timesofindia.indiatimes.com/videos/etimes/bollywood/khushalii-kumar-faces-mob-fury-police-step-in-to-ensure-her-safety/videoshow/114274735.cms',\n",
       " 'https://timesofindia.indiatimes.com/india/government-can-file-pleas-against-high-court-orders-post-2022-benami-law-ruling-supreme-court/articleshow/114360158.cms',\n",
       " 'https://timesofindia.indiatimes.com/entertainment/hindi/bollywood/news/exclusive-pics-rekha-spotting-shooting-in-the-city-looks-ethereal-in-an-all-pink-outfit/articleshow/114336759.cms',\n",
       " 'https://timesofindia.indiatimes.com/technology/appliances/amazon-sale-top-load-washing-machines-from-lg-haier-godrej-and-others-with-more-than-25-discount/articleshow/114254582.cms',\n",
       " 'https://timesofindia.indiatimes.com/life-style/health-fitness/web-stories/8-japanese-techniques-to-stop-overthinking-and-ease-your-mind/photostory/114315983.cms',\n",
       " 'https://timesofindia.indiatimes.com/city/dehradun',\n",
       " 'https://timesofindia.indiatimes.com/entertainment/im-young-and-want-to-understand-failure-siddhant-chaturvedi/articleshow/114347834.cms',\n",
       " 'https://timesofindia.indiatimes.com/city/amritsar',\n",
       " 'https://timesofindia.indiatimes.com/spotlight/drive-operational-excellence-iim-kozhikodes-coo-programme-with-a-global-edge-by-kellogg-executive-education/articleshow/108043076.cms',\n",
       " 'https://timesofindia.indiatimes.com/world/us/yadavs-indictment-us-signal-to-china-russia/articleshow/114360543.cms',\n",
       " 'https://timesofindia.indiatimes.com/city/surat',\n",
       " 'https://timesofindia.indiatimes.com/india/pondicherry',\n",
       " 'https://timesofindia.indiatimes.com/entertainment/hindi/music/news/mohit-chauhan-set-to-dazzle-dubai-with-live-concert-on-september-21/articleshow/113294085.cms',\n",
       " 'https://timesofindia.indiatimes.com/world/us/centuries-old-copy-of-us-constitution-sells-for-9-million-at-north-carolina-auction/articleshow/114356933.cms',\n",
       " 'https://timesofindia.indiatimes.com/entertainment/hindi/bollywood/news/when-somy-ali-revealed-salman-khan-and-sangeeta-bijlanis-breakup-was-due-to-infidelity-she-caught-us-red-handed-in-my-apartment/articleshow/114360175.cms',\n",
       " 'https://timesofindia.indiatimes.com/world/middle-east/watch-hamas-chief-mass-murderer-yahya-sinwars-last-moments-before-being-killed-by-israel/articleshow/114331990.cms',\n",
       " 'https://timesofindia.indiatimes.com/india/allegations-extremely-serious-and-what-us-said-on-canadas-charge-against-india-on-nijjar-case/articleshow/114266770.cms',\n",
       " 'https://timesofindia.indiatimes.com/india/delhi',\n",
       " 'https://timesofindia.indiatimes.com/city/ahmedabad/woman-made-to-undress-during-digital-arrest-extorted-of-rs-5-lakh-in-ahmedabad/articleshow/114332857.cms',\n",
       " 'https://timesofindia.indiatimes.com/business/india-business/half-sisters-friend-meet-the-people-ratan-tata-trusted-to-execute-his-will/articleshow/114343129.cms',\n",
       " 'https://timesofindia.indiatimes.com/hot-picks/fashion-accessories/best-hair-straighteners-of-the-year-get-effortless-sleek-smooth-hair/articleshow/114357734.cms',\n",
       " 'https://timesofindia.indiatimes.com/india/punjab',\n",
       " 'https://timesofindia.indiatimes.com/business/india-business/stock-market-today-bse-sensex-nifty50-october-18-2024-dalal-street-indian-equities-global-markets/articleshow/114333524.cms',\n",
       " 'https://timesofindia.indiatimes.com/life-style/food-news/karwa-chauth-2024-6-traditional-delicacies-prepared-for-karwa-chauth-sargi/articleshow/114352209.cms',\n",
       " 'https://timesofindia.indiatimes.com/technology/tech-news/elon-musks-x-updates-privacy-policy-on-users-data-usage-read-what-has-changed/articleshow/114354175.cms',\n",
       " 'https://timesofindia.indiatimes.com/technology/tech-news/google-ceo-sundar-pichai-announces-big-change-to-the-companys-leadership-read-his-memo-to-googlers/articleshow/114325939.cms',\n",
       " 'https://timesofindia.indiatimes.com/astrology/gemstones/deadliest-crystals-minerals-and-gemstones-natures-lethal-beauties/articleshow/114348181.cms',\n",
       " 'https://timesofindia.indiatimes.com/entertainment/telugu/movies/news/baahubali-3-confirmed-ke-gnanavel-raja-reveals-plans-for-prabhas-return-to-the-epic-franchise/articleshow/114305236.cms',\n",
       " 'https://timesofindia.indiatimes.com/india/gurpreet-singh-murder-punjab-police-crack-case-arrest-3/articleshow/114360353.cms',\n",
       " 'https://timesofindia.indiatimes.com/technology/gaming/garena-free-fire-max-redeem-codes-for-october-18-win-in-game-goodies-and-rewards-today/articleshow/114333627.cms',\n",
       " 'https://timesofindia.indiatimes.com/sports/cricket/new-zealand-in-india/1st-test-rohit-sharma-virat-kohli-sarfaraz-khan-score-fifties-as-india-fight-back-vs-new-zealand-on-day-3/articleshow/114352493.cms',\n",
       " 'https://timesofindia.indiatimes.com/education/news/goa-board-hssc-admit-card-2024-download-now-at-gbshsein/articleshow/107378093.cms',\n",
       " 'https://timesofindia.indiatimes.com/city/salem',\n",
       " 'https://timesofindia.indiatimes.com/web-series/news/hindi/jigra-ott-release-heres-when-and-where-to-watch-alia-bhatt-and-vedang-rainas-gripping-action-thriller/amp_articleshow/114306405.cms',\n",
       " 'https://timesofindia.indiatimes.com/entertainment/hindi/bollywood/news/vijay-varma-reveals-his-negative-roles-always-made-women-feel-intimidated-it-hurt-when-sunidhi-chauhan-said-she-was-scared-of-me/articleshow/114360258.cms',\n",
       " 'https://timesofindia.indiatimes.com/toi-plus/business-economy/tata-had-a-net-worth-of-7900cr-these-four-will-execute-his-will/articleshow/114345010.cms',\n",
       " 'https://timesofindia.indiatimes.com/sports/wwe/top-stories/nia-jaxs-emotional-response-to-live-event-mishap-captivates-wrestling-fans/articleshow/114359780.cms',\n",
       " 'https://timesofindia.indiatimes.com/education/web-stories/9-study-tips-to-transform-an-average-student-into-a-topper/photostory/114146972.cms',\n",
       " 'https://timesofindia.indiatimes.com/sports/cricket/new-zealand-in-india/good-news-for-team-india-rishabh-pant-starts-batting-practice/articleshow/114347478.cms',\n",
       " 'https://timesofindia.indiatimes.com/world/uk/are-meghan-and-harry-buying-a-house-in-portugal-king-charles-has-a-message/articleshow/114359890.cms',\n",
       " 'https://timesofindia.indiatimes.com/technology/gaming/epic-games-store-adds-ea-play-subscription-service-price-games-and-more/articleshow/114348432.cms',\n",
       " 'https://timesofindia.indiatimes.com/city/chandigarh',\n",
       " 'https://timesofindia.indiatimes.com/india/supreme-court-refuses-to-extend-child-marriage-ban-to-all-faiths/articleshow/114363674.cms',\n",
       " 'https://timesofindia.indiatimes.com/videos/international/angry-jordanians-protest-netanyahu-after-israel-kills-sinwar-storm-embassy-in-amman-watch/videoshow/114340464.cms',\n",
       " 'https://timesofindia.indiatimes.com/sports/cricket/new-zealand-in-india/rishabh-pant-knee-blow-injury-india-vs-new-zealand-1st-test/articleshow/114335465.cms',\n",
       " 'https://timesofindia.indiatimes.com/life-style/food-news/soha-ali-khan-shares-her-favorite-diwali-sweets-snacks-that-are-highly-nutritious/articleshow/114342471.cms',\n",
       " 'https://timesofindia.indiatimes.com/sports/cricket/new-zealand-in-india/virat-kohlis-last-ball-dismissal-leaves-rohit-sharma-in-shock/articleshow/114353042.cms',\n",
       " 'https://timesofindia.indiatimes.com/city/agartala',\n",
       " 'https://timesofindia.indiatimes.com/life-style/relationships/love-sex/karwa-chauth-2024-important-fasting-tips-for-the-festival/articleshow/114357167.cms',\n",
       " 'https://timesofindia.indiatimes.com/city/chandigarh/bsf-personnel-open-fire-after-suspected-drone-movement-in-fazilka-/articleshow/114354012.cms',\n",
       " 'https://timesofindia.indiatimes.com/entertainment/english/music/news/liam-paynes-death-all-you-need-to-know-about-the-investigation-drug-case-and-other-unanswered-questions/articleshow/114336951.cms',\n",
       " 'https://timesofindia.indiatimes.com/travel/travel-news/worlds-top-10-happiest-countries-are-indians-truly-happy/articleshow/114351337.cms',\n",
       " 'https://timesofindia.indiatimes.com/education/top-pharmacy-colleges-of-india/featureshow/114009177.cms',\n",
       " 'https://timesofindia.indiatimes.com/life-style/food-news',\n",
       " 'https://timesofindia.indiatimes.com/sports/cricket/news/watch-ben-stokes-loses-bat-and-wicket-in-comic-fashion-against-pakistan/articleshow/114344758.cms',\n",
       " 'https://timesofindia.indiatimes.com/life-style/health-fitness/weight-loss/6-yoga-poses-for-kidney-and-liver-detox/articleshow/114349814.cms',\n",
       " 'https://timesofindia.indiatimes.com/india/assam',\n",
       " 'https://timesofindia.indiatimes.com/india/manipur',\n",
       " 'https://timesofindia.indiatimes.com/weather/delhi-aqi-level-air-quality-index-today/3291',\n",
       " 'https://timesofindia.indiatimes.com/city/patna',\n",
       " 'https://timesofindia.indiatimes.com/entertainment/hindi/bollywood/news/sunny-deols-jatt-aims-for-republic-day-2025-release-as-lahore-1947-gets-pushed-report/articleshow/114348219.cms',\n",
       " 'https://timesofindia.indiatimes.com/city/amaravati',\n",
       " 'https://timesofindia.indiatimes.com/astrology/web-stories/zodiac-signs-that-are-most-likely-to-keep-their-secret-crush/photostory/114347246.cms',\n",
       " 'https://timesofindia.indiatimes.com/india/tamil-nadu',\n",
       " 'https://timesofindia.indiatimes.com/india/tamil-nadu-toddler-dies-as-tv-set-falls-on-him/articleshow/114363765.cms',\n",
       " 'https://timesofindia.indiatimes.com/sports/wwe',\n",
       " 'https://timesofindia.indiatimes.com/life-style/parenting/web-stories/13-baby-girl-names-that-mean-light-and-radiance/photostory/114352049.cms',\n",
       " 'https://timesofindia.indiatimes.com/videos/international/hamas-confirms-yahya-sinwar-killed-in-gaza-in-a-video-address-hails-heroic-martyr/videoshow/114359514.cms',\n",
       " 'https://timesofindia.indiatimes.com/archive.cms',\n",
       " 'https://timesofindia.indiatimes.com/education/news/the-future-of-education-in-america-what-happens-if-trump-wins/articleshow/114354768.cms',\n",
       " 'https://timesofindia.indiatimes.com/india/times-evoke',\n",
       " 'https://timesofindia.indiatimes.com/life-style/events/bhadra-kal-in-this-years-karwa-chauth-2024-know-what-it-means/articleshow/114347126.cms',\n",
       " 'https://timesofindia.indiatimes.com/india/anonymous-message-to-cops-seeks-rs-5-crore-to-end-salman-feud/articleshow/114362634.cms',\n",
       " 'https://timesofindia.indiatimes.com/videos/sports/top-tennis-videos/tennis-players-try-alcarazs-bowling/videoshow/112933872.cms',\n",
       " 'https://timesofindia.indiatimes.com/tv/news/hindi/bigg-boss-18-shilpa-shirodkar-breaks-down-after-intense-argument-with-avinash-mishra-over-food-distribution/articleshow/114345857.cms',\n",
       " 'https://timesofindia.indiatimes.com/technology/tech-news/google-maps-may-move-this-weather-feature-on-android-heres-how-it-can-change-the-map-experience/articleshow/114351227.cms',\n",
       " 'https://timesofindia.indiatimes.com/life-style/health-fitness/de-stress/optical-illusion-personality-test-viral-optical-illusion-can-reveal-which-trait-of-your-personality-is-more-attractive/articleshow/114316830.cms',\n",
       " 'https://timesofindia.indiatimes.com/technology/gaming/tapcoin-daily-bounty-cards-for-october-16-2024-earn-tokens-exclusive-rewards-and-more/articleshow/114267160.cms',\n",
       " 'https://timesofindia.indiatimes.com/videos/international/nuclear-weapons-or-nato-zelenskys-new-demand-stuns-west-as-putins-war-frustrates-ukraine/videoshow/114344693.cms',\n",
       " 'https://timesofindia.indiatimes.com/india/andhra-pradesh',\n",
       " 'https://timesofindia.indiatimes.com/india/ubt-alleges-mcc-violation-files-plaint-with-ec/articleshow/114360807.cms',\n",
       " 'https://timesofindia.indiatimes.com/education/news/uttarakhand-nmmss-2024-25-registration-begins-at-scert-uk-gov-in-check-important-details-here/articleshow/114344182.cms',\n",
       " 'https://timesofindia.indiatimes.com/city/hyderabad/senior-citizen-dies-after-road-rage-assault-by-biker-deepak-arrested/articleshow/114327008.cms',\n",
       " 'https://timesofindia.indiatimes.com/entertainment/hindi/bollywood/news/malaika-arora-talks-about-finding-strength-in-face-of-adversity-you-have-to-dig-deep-within-/articleshow/114337022.cms',\n",
       " 'https://timesofindia.indiatimes.com/entertainment/hindi/bollywood/news/waheeda-rehman-praises-shabana-azmis-performance-in-karan-johars-rocky-aur-rani-kii-prem-kahaani-she-did-a-great-job/articleshow/114359833.cms',\n",
       " 'https://timesofindia.indiatimes.com/tv/news/hindi/from-salman-khan-continuing-bigg-boss-18-shoot-amid-threat-to-kushal-tandon-confirming-relationship-with-shivangi-joshi-top-tv-news-of-the-week/photostory/114356431.cms',\n",
       " 'https://timesofindia.indiatimes.com/entertainment/hindi/bollywood/news/salman-khans-ex-girlfriend-somy-ali-on-approaching-gangster-lawrence-bishnoi-akash-ambani-refuses-cake-from-radhika-merchant-honey-singh-trolls-badshah-top-5-entertainment-news/articleshow/114354786.cms',\n",
       " 'https://timesofindia.indiatimes.com/sports/nfl/news/kamala-harris-finally-addresses-taylor-swifts-support-following-donald-trumps-criticism-of-travis-kelce/articleshow/114357538.cms',\n",
       " 'https://timesofindia.indiatimes.com/world/us/overweight-never-smoker-5-things-to-know-about-donald-trumps-health/articleshow/114358355.cms',\n",
       " 'https://timesofindia.indiatimes.com/city/ajmer',\n",
       " 'https://timesofindia.indiatimes.com/videos/entertainment/english/rita-ora-pays-emotional-tribute-to-liam-payne-at-japan-concert/videoshow/114349771.cms',\n",
       " 'https://timesofindia.indiatimes.com/life-style/health-fitness/web-stories/9-easy-to-do-yoga-poses-that-improve-memory-and-intelligence/photostory/114215414.cms',\n",
       " 'https://timesofindia.indiatimes.com/technology/tech-news/how-netflixs-ban-on-password-sharing-and-ad-push-has-worked-big-time/articleshow/114349941.cms',\n",
       " 'https://timesofindia.indiatimes.com/toi-plus/international/a-killing-gives-peace-a-chance/articleshow/114355913.cms',\n",
       " 'https://timesofindia.indiatimes.com/city/guwahati',\n",
       " 'https://timesofindia.indiatimes.com/city/hubli',\n",
       " 'https://timesofindia.indiatimes.com/city/indore/nikita-porwal-from-ujjain-crowned-femina-miss-india-2024-a-journey-of-empathy-and-talent/articleshow/114327335.cms',\n",
       " 'https://timesofindia.indiatimes.com/india/supreme-court-nixes-its-verdict-quashing-parts-of-benami-property-law/articleshow/114361593.cms',\n",
       " 'https://timesofindia.indiatimes.com/astrology/zodiacs-astrology/these-zodiac-signs-always-find-them-in-situationships/photostory/114350304.cms',\n",
       " 'https://timesofindia.indiatimes.com/hot-picks/fashion-accessories/elevate-your-look-with-the-best-mens-jeans/articleshow/114357450.cms',\n",
       " 'https://timesofindia.indiatimes.com/world',\n",
       " 'https://timesofindia.indiatimes.com/india/haryana',\n",
       " 'https://timesofindia.indiatimes.com/city/kochi',\n",
       " 'https://timesofindia.indiatimes.com/city/trichy',\n",
       " 'https://timesofindia.indiatimes.com/sports/cricket',\n",
       " 'https://timesofindia.indiatimes.com/life-style/health-fitness/health-news/clear-your-arteries-7-tips-for-preventing-heart-blockages-naturally/articleshow/114319779.cms',\n",
       " 'https://timesofindia.indiatimes.com/city/thane/food-poisoning-scare-40-tmc-students-and-teacher-hospitalized-after-mid-day-meal-incident/articleshow/114325125.cms',\n",
       " 'https://timesofindia.indiatimes.com/life-style/health-fitness/health-news/airport-and-luggage-malaria-spreading-fast-why-flyers-need-to-be-extra-cautious/articleshow/114358408.cms',\n",
       " 'https://timesofindia.indiatimes.com/india/gujarat',\n",
       " 'https://timesofindia.indiatimes.com/health-survey/multispeciality-hospital',\n",
       " 'https://timesofindia.indiatimes.com/india/jammu-and-kashmir',\n",
       " 'https://timesofindia.indiatimes.com/city/kozhikode',\n",
       " 'https://timesofindia.indiatimes.com/forceforgood?utm_source=TOI&utm_medium=HomePageLineUp_FeatureSpot&utm_campaign=AForceForGood',\n",
       " 'https://timesofindia.indiatimes.com/religion/rituals-puja/kalashtami-september-2024-date-time-rituals-significance-and-benefits-of-observing-this-fast/articleshow/113586269.cms',\n",
       " 'https://timesofindia.indiatimes.com/entertainment/hindi/bollywood/news/dharma-productions-announces-untitled-film-based-on-c-sankaran-nair-starring-akshay-kumar-r-madhavan-ananya-panday-deets-inside/articleshow/114339509.cms',\n",
       " 'https://timesofindia.indiatimes.com/videos/international/biden-tells-obama-harris-isnt-that-strong-lip-reader-decodes-tense-chat-us-election/videoshow/114348270.cms',\n",
       " 'https://timesofindia.indiatimes.com/technology/laptops-pc/qualcomm-cancels-its-miniature-microsoft-windows-pc-read-the-chipmakers-message/articleshow/114353147.cms',\n",
       " 'https://timesofindia.indiatimes.com/tv/news/hindi/exclusive-we-are-taking-it-very-slow-says-kushal-tandon-on-dating-shivangi-joshi/articleshow/114338865.cms',\n",
       " 'https://timesofindia.indiatimes.com/city/bangalore',\n",
       " 'https://timesofindia.indiatimes.com/city/srinagar',\n",
       " 'https://timesofindia.indiatimes.com/entertainment/events/delhi/exhibition-exploring-emotion-through-art-in-delhi/articleshow/114315399.cms',\n",
       " 'https://timesofindia.indiatimes.com/entertainment/hindi/movie-reviews/colourrs-of-love/ottmoviereview/113938201.cms',\n",
       " 'https://timesofindia.indiatimes.com/tv/news/hindi/from-a-lavish-8-bhk-to-high-end-car-collection-a-net-worth-approximately-rs-130-crore-and-more-luxurious-life-of-vicky-jain/photostory/114289787.cms',\n",
       " 'https://timesofindia.indiatimes.com/sports/nfl',\n",
       " 'https://timesofindia.indiatimes.com/education/web-stories/8-motivational-quotes-by-dr-apj-abdul-kalam-to-inspire-students/photostory/114234971.cms',\n",
       " 'https://timesofindia.indiatimes.com/auto/news/modi-govt-launches-pm-e-drive-scheme-with-rs-10900-crore-outlay-for-evs-details/articleshow/113279777.cms',\n",
       " 'https://timesofindia.indiatimes.com/videos/international/idf-releases-footage-of-tank-firing-at-gaza-building-eliminating-hamas-chief-yahya-sinwar/videoshow/114359599.cms',\n",
       " 'https://timesofindia.indiatimes.com/entertainment/hindi/bollywood/news/akash-ambani-refused-cake-from-birthday-girl-radhika-merchant-at-her-birthday-bash-but-it-was-for-this-reason-ms-dhoni-ranveer-singh-janhvi-kapoor-and-others-attend-the-party-watch-video/articleshow/114333777.cms',\n",
       " 'https://timesofindia.indiatimes.com/toi-plus/business-economy/why-the-future-looks-tense-for-stock-market-darling-dmart/articleshow/114337693.cms',\n",
       " 'https://timesofindia.indiatimes.com/travel/web-stories/these-8-countries-have-no-rivers/photostory/114358955.cms',\n",
       " 'https://timesofindia.indiatimes.com/world/pakistan',\n",
       " 'https://timesofindia.indiatimes.com/tv/news/hindi/sumona-chakravarti-on-getting-to-interact-with-fans-during-durga-puja-says-so-many-loved-seeing-me-on-khatron-ke-khiladi/articleshow/114356655.cms',\n",
       " 'https://timesofindia.indiatimes.com/city/shillong',\n",
       " 'https://timesofindia.indiatimes.com/city/aurangabad',\n",
       " 'https://timesofindia.indiatimes.com/city/indore',\n",
       " 'https://timesofindia.indiatimes.com/city/coimbatore',\n",
       " 'https://timesofindia.indiatimes.com/entertainment/hindi/bollywood/news/salman-khan-gets-a-fresh-death-threat-condition-will-be-worse-than-baba-siddique-if-not-paid-rs-5-crore/articleshow/114335911.cms',\n",
       " 'https://timesofindia.indiatimes.com/etimes/trending/meta-fires-24-employees-for-misusing-meal-credits-on-these-household-items/articleshow/114359040.cms',\n",
       " 'https://timesofindia.indiatimes.com/business/india-business/how-infrastructure-development-is-having-a-social-impact-in-mumbai-experts-discuss-at-maha-infra-town-hall/articleshow/114145188.cms',\n",
       " 'https://timesofindia.indiatimes.com/tv/news/hindi/bigg-boss-18-contestants-list-with-photos-confirmed-list-of-contestants-of-bigg-boss-18/photostory/113979479.cms',\n",
       " 'https://timesofindia.indiatimes.com/auto/cars/mahindra-thar-roxx-with-vin-0001-to-be-auctiond-for-charity-how-to-register/articleshow/113289412.cms',\n",
       " 'https://timesofindia.indiatimes.com/life-style/food-news/walnut-vs-almonds-which-is-healthier-and-how-much-to-consume/photostory/114279010.cms',\n",
       " 'https://timesofindia.indiatimes.com/entertainment/hindi/movie-reviews/jhini-bini-chadariya/ottmoviereview/113965790.cms',\n",
       " 'https://timesofindia.indiatimes.com/india/tripura',\n",
       " 'https://timesofindia.indiatimes.com/life-style/health-fitness/health-news/standing-desks-the-new-health-risk-nobody-saw-coming/articleshow/114344683.cms',\n",
       " 'https://timesofindia.indiatimes.com/life-style/health-fitness/weight-loss/same-girl-or-different-girls-massive-weight-loss-leaves-netizens-awestruck/articleshow/114355987.cms',\n",
       " 'https://timesofindia.indiatimes.com/business/india-business/new-irctc-train-ticket-reservation-rules-indian-railways-changes-advance-booking-rules-check-here/articleshow/114308501.cms',\n",
       " 'https://timesofindia.indiatimes.com/life-style/relationships',\n",
       " 'https://timesofindia.indiatimes.com/life-style/relationships/work/google-offers-free-lunches-for-this-reason-sundar-pichai-says-benefits-outweigh-the-cost/articleshow/114322755.cms',\n",
       " 'https://timesofindia.indiatimes.com/sports/wwe/top-stories/cora-jade-heartbroken-after-devastating-news-shakes-wwe-star/articleshow/114336995.cms',\n",
       " 'https://timesofindia.indiatimes.com/city/mumbai/salman-khan-gets-death-threat-again-rs-5cr-sought-to-end-enmity-with-lawrence-bishnoi/articleshow/114332521.cms',\n",
       " 'https://timesofindia.indiatimes.com/toi-plus',\n",
       " 'https://timesofindia.indiatimes.com/life-style/fashion/buzz/in-pics-louis-vuitton-cafe-opens-at-londons-heathrow-airport/photostory/114321229.cms',\n",
       " 'https://timesofindia.indiatimes.com/life-style/food-news/7-foods-that-help-improve-bone-density-naturally/articleshow/114350975.cms',\n",
       " 'https://timesofindia.indiatimes.com/education/web-stories/8-techniques-to-train-your-brain-to-stay-alert-and-minimize-distractions-during-study-sessions/photostory/114313895.cms',\n",
       " 'https://timesofindia.indiatimes.com/videos',\n",
       " 'https://timesofindia.indiatimes.com/entertainment/hindi',\n",
       " 'https://timesofindia.indiatimes.com/life-style/fashion/web-stories/colours-married-women-should-and-shouldnt-wear-on-karwa-chauth-2024/photostory/114349249.cms',\n",
       " 'https://timesofindia.indiatimes.com/life-style/the-arts/impressionism-vs-post-impressionism-two-art-movements-that-gave-masterpieces/photostory/114347359.cms',\n",
       " 'https://timesofindia.indiatimes.com/tv/hindi',\n",
       " 'https://timesofindia.indiatimes.com/business/india-business/rbi-governor-shaktikanta-das-rate-cut-now-is-very-risky/articleshow/114354882.cms',\n",
       " 'https://timesofindia.indiatimes.com/city/ghaziabad',\n",
       " 'https://timesofindia.indiatimes.com/city/rajkot',\n",
       " 'https://timesofindia.indiatimes.com/entertainment/hindi/bollywood/news/kiara-advani-spotted-in-a-stunning-red-outfit-is-she-shooting-for-bhool-bhulaiyaa-3-cameo/articleshow/114342556.cms',\n",
       " 'https://timesofindia.indiatimes.com/city/bhubaneswar',\n",
       " 'https://timesofindia.indiatimes.com/Savingourstripes',\n",
       " 'https://timesofindia.indiatimes.com/city/goa',\n",
       " 'https://timesofindia.indiatimes.com/city/pune',\n",
       " 'https://timesofindia.indiatimes.com/life-style/beauty/trending-couple-tattoo-ideas/articleshow/114305758.cms',\n",
       " 'https://timesofindia.indiatimes.com/tv/news/hindi/bigg-boss-18-avinash-mishra-refuses-to-give-ration-to-the-contestants-rajat-says-main-jail-me-raha-hu-isska-rehna-sona-muskil-kar-dunga/articleshow/114331571.cms',\n",
       " 'https://timesofindia.indiatimes.com/india/maharashtra',\n",
       " 'https://timesofindia.indiatimes.com/entertainment/hindi/bollywood/news/ranveer-singh-teases-haunting-question-surrounding-orry-at-radhika-merchants-birthday-party-ye-karta-kya-hai/articleshow/114360282.cms',\n",
       " 'https://timesofindia.indiatimes.com/microsite_v2/website-microsites,path-merc_e_waste_3.cms',\n",
       " 'https://timesofindia.indiatimes.com/education/news/icai-ca-final-admit-card-2024-released-for-november-exams-check-direct-link-here/articleshow/114344677.cms',\n",
       " 'https://timesofindia.indiatimes.com/auto/news/no-physical-license-or-rc-needed-for-delhi-vehicles-soon-heres-why/articleshow/114304165.cms',\n",
       " 'https://timesofindia.indiatimes.com/india/bihar',\n",
       " 'https://timesofindia.indiatimes.com/india/uttar-pradesh',\n",
       " 'https://timesofindia.indiatimes.com/city/shimla',\n",
       " 'https://timesofindia.indiatimes.com/city/imphal',\n",
       " 'https://timesofindia.indiatimes.com/sports/wwe/top-stories/wwe-adjusts-start-time-for-royal-rumble-2025-heres-why/articleshow/114336895.cms',\n",
       " 'https://timesofindia.indiatimes.com/world/us/trump-says-he-was-amazed-that-harvey-weinstein-got-scholnged/articleshow/114360236.cms',\n",
       " 'https://timesofindia.indiatimes.com/city/kanpur',\n",
       " 'https://timesofindia.indiatimes.com/tv/news/hindi/bigg-boss-18-devoleena-bhattacharjee-calls-chahat-pandey-the-hero-and-heroine-of-the-show-says-the-whole-house-is-behind-her/articleshow/114352756.cms',\n",
       " 'https://timesofindia.indiatimes.com/life-style/health-fitness/diet/5-dry-fruits-that-help-reduce-uric-acid-levels-naturally/photostory/113966204.cms',\n",
       " 'https://timesofindia.indiatimes.com/sports/cricket/west-indies-women-vs-new-zealand-women-t20-icc-world-cup-semi-final-live-score-team-squad-playing-11-live-streaming-online-latest-scorecard/liveblog/114352976.cms',\n",
       " 'https://timesofindia.indiatimes.com/india/kerala',\n",
       " 'https://timesofindia.indiatimes.com/entertainment/hindi/bollywood/news',\n",
       " 'https://timesofindia.indiatimes.com/technology/tech-news/facebook-firing-staff-over-25-meal-credit-misuse-leaves-employees-divided/articleshow/114350959.cms',\n",
       " 'https://timesofindia.indiatimes.com/india/5-of-bishnois-maharashtra-module-arrested-in-siddique-case-were-first-tasked-with-hit-but-got-cold-feet/articleshow/114363731.cms',\n",
       " 'https://timesofindia.indiatimes.com/toi-plus/law/when-caste-decides-your-job-in-jail-why-petitioner-says-sc-order-wont-end-bias/articleshow/114274961.cms',\n",
       " 'https://timesofindia.indiatimes.com/sports/cricket/news/return-home-after-each-match-pcbs-new-proposal-to-bcci-for-champions-trophy-2025/articleshow/114356086.cms',\n",
       " 'https://timesofindia.indiatimes.com/life-style/health-fitness/web-stories/8-health-benefits-of-orange-peel-we-are-too-late-to-learn/photostory/114305518.cms',\n",
       " 'https://timesofindia.indiatimes.com/feedback.cms',\n",
       " 'https://timesofindia.indiatimes.com/technology/tech-news/karnataka-government-may-impose-additional-transaction-fee-on-zomato-swiggy-zepto-and-other-online-platforms-how-this-may-be-bad-news-for-users/articleshow/114350590.cms',\n",
       " 'https://timesofindia.indiatimes.com/india/up-tops-road-accident-deaths-in-2023-maharashtra-tamil-nadu-next-on-list/articleshow/114359854.cms',\n",
       " 'https://timesofindia.indiatimes.com/life-style/health-fitness/de-stress/optical-illusion-find-the-hidden-heart-in-this-image/articleshow/114314050.cms',\n",
       " 'https://timesofindia.indiatimes.com/hot-picks/electronics-accessories/best-premium-laptops-unmatched-performance-luxury/articleshow/114253855.cms',\n",
       " 'https://timesofindia.indiatimes.com/india/omar-cabinet-clears-resolution-for-statehood-restoration-mum-on-370/articleshow/114360536.cms',\n",
       " 'https://timesofindia.indiatimes.com/education/web-stories/8-unconventional-job-hunting-ideas-to-land-your-dream-role/photostory/114334890.cms',\n",
       " 'https://timesofindia.indiatimes.com/city/mysore',\n",
       " 'https://timesofindia.indiatimes.com/us',\n",
       " 'https://timesofindia.indiatimes.com/india/not-only-heterosexuals-child-marriage-oppressive-to-all-genders-sexual-minorities-cji/articleshow/114363430.cms',\n",
       " 'https://timesofindia.indiatimes.com/life-style/health-fitness/7-surprising-reasons-behind-your-puffy-eyes-and-what-to-do-about-them/articleshow/114225712.cms',\n",
       " 'https://timesofindia.indiatimes.com/astrology/gemstones/left-vs-right-which-hand-should-you-wear-your-crystal-bracelet-on/articleshow/114348026.cms',\n",
       " 'https://timesofindia.indiatimes.com/videos/etimes/bollywood/ram-gopal-varma-praises-gangster-lawrence-bishnois-looks-compares-him-to-bollywood-stars/videoshow/114289692.cms',\n",
       " 'https://timesofindia.indiatimes.com/auto/policy-and-industry/delhi-drivers-to-get-50-percent-discount-on-traffic-fines-heres-how-it-works/articleshow/113282969.cms',\n",
       " 'https://timesofindia.indiatimes.com/india/west-bengal',\n",
       " 'https://timesofindia.indiatimes.com/sports/cricket/icc-womens-t20-world-cup/deandra-dottins-unplayable-yorker-cleans-up-brooke-halliday-in-womens-t20-world-cup-semifinal-watch/articleshow/114356764.cms',\n",
       " 'https://timesofindia.indiatimes.com/business/india-business/looking-to-beat-fixed-deposit-returns-heres-what-investors-can-consider-instead-of-fds/articleshow/114342156.cms',\n",
       " 'https://timesofindia.indiatimes.com/world/us/donald-trump-earned-money-from-overcharging-secret-service-through-washington-hotel-says-report/articleshow/114356997.cms',\n",
       " 'https://timesofindia.indiatimes.com/india/assam-body-may-appeal-scs-6a-ruling-before-9-judge-bench/articleshow/114360570.cms',\n",
       " 'https://timesofindia.indiatimes.com/sports/nfl/news/will-shanahans-legacy-be-defined-by-failure-49ers-coach-must-defeat-andy-reid-to-silence-critics-in-rematch/articleshow/114359472.cms',\n",
       " 'https://timesofindia.indiatimes.com/sports/nfl/news/the-nfls-owners-allowed-tom-brady-acquired-the-raiders-piece-at-a-ridiculously-low-3-5-billion-valuation/articleshow/114335508.cms',\n",
       " 'https://timesofindia.indiatimes.com/education/colleges/top-medical-colleges-of-india/featureshow/113659262.cms',\n",
       " 'https://timesofindia.indiatimes.com/tv/news/hindi/bigg-boss-ott-3-contestants-armaan-and-kritika-malik-escape-major-car-accident-blame-the-luxury-car-brand/articleshow/114357687.cms',\n",
       " 'https://timesofindia.indiatimes.com/sports/nfl/news/is-tom-bradys-influence-pushing-shannon-sharpe-to-advocate-for-a-radical-overhaul-of-the-raiders-amid-calls-for-tanking-the-season/articleshow/114322486.cms',\n",
       " 'https://timesofindia.indiatimes.com/india/11-5-lakh-found-vulnerable-to-child-marriage-study/articleshow/114363302.cms',\n",
       " 'https://timesofindia.indiatimes.com/business/tax-calculator',\n",
       " 'https://timesofindia.indiatimes.com/city/lucknow',\n",
       " 'https://timesofindia.indiatimes.com/india/meghalaya',\n",
       " 'https://timesofindia.indiatimes.com/technology/social/instagram-adds-one-tap-spotify-song-saving-feature/articleshow/114353626.cms',\n",
       " 'https://timesofindia.indiatimes.com/topic/Donald-Trump',\n",
       " 'https://timesofindia.indiatimes.com/etimes/trending/9-strange-rocks-found-on-mars-that-reveal-the-planets-history/photostory/114357989.cms',\n",
       " 'https://timesofindia.indiatimes.com/battlefield-peril/articleshow/114215543.cms',\n",
       " 'https://timesofindia.indiatimes.com/topic/kim-jong-un',\n",
       " 'https://timesofindia.indiatimes.com/technology',\n",
       " 'https://timesofindia.indiatimes.com/mostshared.cms',\n",
       " 'https://timesofindia.indiatimes.com/entertainment/malayalam/movies/box-office/bougainvillea-box-office-collection-day-1-amal-neerads-film-kicks-off-with-a-solid-number-on-the-opening-day/articleshow/114327538.cms',\n",
       " 'https://timesofindia.indiatimes.com/travel',\n",
       " 'https://timesofindia.indiatimes.com/sports/cricket/new-zealand-in-india/rohit-sharma-is-a-classical-example-of-vvs-laxman/articleshow/114354793.cms',\n",
       " 'https://timesofindia.indiatimes.com/sitemap.cms',\n",
       " 'https://timesofindia.indiatimes.com/world/us/liam-paynes-death-triggers-probe-drug-abuse-hotel-chaos-alcoholism-and-ex-fiancs-allegations-revealed/articleshow/114336344.cms',\n",
       " 'https://timesofindia.indiatimes.com/life-style/health-fitness/health-news/dengue-prevention-how-to-identify-dengue-mosquito/articleshow/114332697.cms',\n",
       " 'https://timesofindia.indiatimes.com/auto/cars/maruti-suzuki-swift-cng-launched-in-india-at-rs-8-19-lakh-fuel-efficiency-variants-features-specs/articleshow/113284711.cms',\n",
       " 'https://timesofindia.indiatimes.com/etimes/trending/8-animals-that-help-earth-heal-and-how/photostory/114043078.cms',\n",
       " 'https://timesofindia.indiatimes.com/auto/cars/toyota-taisor-limited-edition-launched-only-available-until-31st-oct-whats-new/articleshow/114307826.cms',\n",
       " 'https://timesofindia.indiatimes.com/toi-plus/international/will-sheikh-hasina-be-tried-by-the-crimes-tribunal-she-herself-set-up/articleshow/114352485.cms',\n",
       " 'https://timesofindia.indiatimes.com/entertainment/hindi/movie-reviews',\n",
       " 'https://timesofindia.indiatimes.com/tv/news/hindi/bigg-boss-18-sara-arfeen-khan-opens-up-about-her-giving-birth-to-her-twins-after-two-miscarriages-as-avinash-mishra-mocks-her-husband-arfeen-and-her-profession/articleshow/114331036.cms',\n",
       " 'https://timesofindia.indiatimes.com/videos/entertainment/english/liam-paynes-new-autopsy-report-gives-shocking-details/videoshow/114339692.cms',\n",
       " 'https://timesofindia.indiatimes.com/entertainment/hindi/bollywood/news/salman-khan-faces-rs-25-lakh-assassination-plot-by-lawrence-bishnoi-gang-actor-to-shoot-for-bigg-boss-tomorrow-under-tight-security-exclusive/articleshow/114323016.cms',\n",
       " 'https://timesofindia.indiatimes.com/business/india-business/rbi-not-police-governor-shaktikanta-das-on-action-against-financial-market/articleshow/114357545.cms',\n",
       " 'https://timesofindia.indiatimes.com/auto/electric-bikes/raptee-hv-t30-electric-bike-launched-at-rs-2-39-lakh-with-200-km-range-car-charger-compatible/articleshow/114219255.cms',\n",
       " 'https://timesofindia.indiatimes.com/education/news/cat-2024-varc-high-scoring-topics-to-focus-on-for-maximum-marks/articleshow/114355637.cms',\n",
       " 'https://timesofindia.indiatimes.com/sports/wwe/top-stories/wwe-star-cm-punk-joins-the-cast-of-ryan-prows-horror-thriller-night-patrol/articleshow/114337085.cms',\n",
       " 'https://timesofindia.indiatimes.com/business/india-business/da-hike-calculator-dearness-allowance-relief-hiked-by-3-heres-how-much-extra-salary-pension-central-government-staff-pensioners-will-get/articleshow/114304663.cms',\n",
       " 'https://timesofindia.indiatimes.com/city/noida',\n",
       " 'https://timesofindia.indiatimes.com/city',\n",
       " 'https://timesofindia.indiatimes.com/tv/news/hindi/the-great-indian-kapil-show-2-maheep-kapoor-seema-sajdeh-bhavana-pandey-and-others-share-hilarious-secrets-from-their-family-say-actually-men-enjoy-the-gossip/articleshow/114357621.cms',\n",
       " 'https://timesofindia.indiatimes.com/tv/news/hindi/kaun-banega-crorepati-16-amitabh-bachchan-praises-kartik-aaryans-dance-moves-says-humko-toh-bahut-daant-padti-thi-humko-nritya-aata-nahi-/articleshow/114359883.cms',\n",
       " 'https://timesofindia.indiatimes.com/technology/tech-news/intel-mass-layoffs-begins-over-2000-jobs-in-these-locations-impacted/articleshow/114315760.cms',\n",
       " 'https://timesofindia.indiatimes.com/world/us/doug-emhoff-tim-walz-take-rapid-fire-from-children-reveal-favorite-food-music/articleshow/114357861.cms',\n",
       " 'https://timesofindia.indiatimes.com/sports/nfl/news/will-the-nfls-potential-1-billion-international-rights-package-benefit-fans-or-just-line-the-pockets-of-executives-a-controversial-discussion/articleshow/114358373.cms',\n",
       " 'https://timesofindia.indiatimes.com/life-style/home-garden/web-stories/8-most-expensive-flowers-and-trees-in-the-world/photostory/114350688.cms',\n",
       " 'https://timesofindia.indiatimes.com/life-style/fashion/celeb-style/priyanka-chopra-leaves-glitter-on-the-floor-in-a-silver-mini-dress-with-dramatic-trail/articleshow/114343780.cms',\n",
       " 'https://timesofindia.indiatimes.com/auto/news/indian-helmets-go-global-steelbirds-ece-22-06-dot-certified-ignyte-to-debut-at-eicma-24/articleshow/114317308.cms',\n",
       " 'https://timesofindia.indiatimes.com/india/nta-announces-change-in-jee-main-exam-pattern-for-2025/articleshow/114325075.cms',\n",
       " 'https://timesofindia.indiatimes.com/education/web-stories/masters-of-disguise-in-the-animal-kingdom-gk-for-students/photostory/114345806.cms',\n",
       " 'https://timesofindia.indiatimes.com/city/cuttack',\n",
       " 'https://timesofindia.indiatimes.com/entertainment/events',\n",
       " 'https://timesofindia.indiatimes.com/life-style/health-fitness/health-news/most-people-use-phones-in-the-bathroom-5-good-and-bad-facts-about-it/articleshow/114351627.cms',\n",
       " 'https://timesofindia.indiatimes.com/travel/travel-news/uae-introduces-visa-on-arrival-for-indian-travellers-find-details-here/articleshow/114349906.cms',\n",
       " 'https://timesofindia.indiatimes.com/education/web-stories/9-powerful-motivational-quotes-to-inspire-students-toward-academic-success/photostory/114250571.cms',\n",
       " 'https://timesofindia.indiatimes.com/education/news/cbse-exam-day-guidelines-2024-dos-donts-reporting-time-and-more/articleshow/107682638.cms',\n",
       " 'https://timesofindia.indiatimes.com/tv/news/hindi/bigg-boss-3-winner-vindu-dara-singh-prays-for-salman-khans-safety-amid-new-threats-from-lawrence-bishnoi-hope-nothing-happens-to-salman/articleshow/114358840.cms',\n",
       " 'https://timesofindia.indiatimes.com/entertainment/hindi/music/news/influencer-calls-out-diljit-dosanjh-for-charging-20-25k-per-ticket-fans-reveal-us-tickets-were-cheaper/articleshow/113316722.cms',\n",
       " 'https://timesofindia.indiatimes.com/technology/tech-news/google-photos-web-now-supports-direct-backup-of-computer-folders-heres-how-to-do-it/articleshow/114347422.cms',\n",
       " 'https://timesofindia.indiatimes.com/city/ludhiana',\n",
       " 'https://timesofindia.indiatimes.com/life-style/health-fitness/diet/orange-for-weight-loss-how-eating-oranges-everyday-can-help-you-lose-belly-fat/articleshow/114317420.cms',\n",
       " 'https://timesofindia.indiatimes.com/videos/international/hezbollah-rains-large-missile-salvo-on-israels-acre-1st-attack-after-sinwars-killing-watch/videoshow/114341925.cms',\n",
       " 'https://timesofindia.indiatimes.com/india/congress-mp-seeks-house-oversight-of-intelligence-agencies/articleshow/114360904.cms',\n",
       " 'https://timesofindia.indiatimes.com/city/ahmedabad',\n",
       " 'https://timesofindia.indiatimes.com/city/puducherry',\n",
       " 'https://timesofindia.indiatimes.com/videos/entertainment/english/liam-payne-passes-away-alleged-hotel-room-photos-of-one-direction-singer-shocks-fans-watch/videoshow/114313817.cms',\n",
       " 'https://timesofindia.indiatimes.com/world/us/its-the-first-amendment-stupid-federal-judge-slams-desantis-administration-for-threats-against-tv-stations/articleshow/114359779.cms',\n",
       " 'https://timesofindia.indiatimes.com/india',\n",
       " 'https://timesofindia.indiatimes.com/india/who-is-vikash-yadav-accused-by-us-in-pannun-murder-plot-and-what-are-the-charges-against-him/articleshow/114338804.cms',\n",
       " 'https://timesofindia.indiatimes.com/web-series/reviews',\n",
       " 'https://timesofindia.indiatimes.com/astrology/web-stories/zodiac-signs-that-hate-being-wrong-and-strive-to-always-be-right/photostory/114347897.cms',\n",
       " 'https://timesofindia.indiatimes.com/life-style/health-fitness/de-stress/personality-test-the-shape-of-your-toes-can-reveal-your-hidden-traits/articleshow/114253968.cms',\n",
       " 'https://timesofindia.indiatimes.com/tv/news/hindi/bigg-boss-18-shilpa-shirodkar-breaks-down-emotionally-after-avinash-refuses-to-give-her-the-ration-says-ill-eat-my-medicines-and-die-in-front-of-you-but-wont-take-the-food/articleshow/114359849.cms',\n",
       " 'https://timesofindia.indiatimes.com/auto/news/reise-moto-launches-new-riding-gear-collection-partners-with-spidi-starting-at-rs-2499/articleshow/114351058.cms',\n",
       " 'https://timesofindia.indiatimes.com/city/goa/stop-music-by-10pm-and-verify-crew-cruise-owners-told/articleshow/114359025.cms',\n",
       " 'https://timesofindia.indiatimes.com/world/us/who-is-ashwin-ramaswami-first-gen-z-indian-american-candidate-to-run-for-us-state-legislature/articleshow/114358759.cms',\n",
       " 'https://timesofindia.indiatimes.com/business/india-business/moodys-assigns-first-time-baa3-ratings-to-bajaj-finance/articleshow/114346188.cms',\n",
       " 'https://timesofindia.indiatimes.com/india/rajasthan',\n",
       " 'https://timesofindia.indiatimes.com/life-style/health-fitness/diet/papaya-benefits-5-reasons-to-eat-a-bowl-of-papaya-first-thing-in-the-morning/articleshow/114277424.cms',\n",
       " 'https://timesofindia.indiatimes.com/technology/gaming/tapswap-daily-codes-for-october-16-2024-earn-tap-coins-and-convert-them-to-cryptocurrency/articleshow/114270692.cms',\n",
       " 'https://timesofindia.indiatimes.com/life-style/relationships/love-sex/happy-karwa-chauth-2024-top-50-wishes-messages-and-quotes-to-share-with-your-family-and-friends/articleshow/114354788.cms',\n",
       " 'https://timesofindia.indiatimes.com/life-style/events/dhanteras-rituals-traditions-celebrations-across-india-and-what-to-buy/featureshow/114306898.cms',\n",
       " 'https://timesofindia.indiatimes.com/sports/nfl/news/fiance-ronika-stone-hints-at-wedding-plans-with-jordan-love-as-she-turns-bride-before-packers-vs-texans-on-snf/articleshow/114356550.cms',\n",
       " 'https://timesofindia.indiatimes.com/world/us/unverified-reddit-post-claiming-kamala-harris-said-oh-my-god-its-over-going-viral/articleshow/114356852.cms',\n",
       " 'https://timesofindia.indiatimes.com/city/meerut',\n",
       " 'https://timesofindia.indiatimes.com/tv/news/hindi/host-salman-khan-continues-bigg-boss-18-shoot-amid-lawrence-bishnoi-threats-60-guards-on-high-alert/articleshow/114347437.cms',\n",
       " 'https://timesofindia.indiatimes.com/education/news/uttarakhand-madrasas-plan-to-offer-sanskrit-aiming-to-integrate-mainstream-education/articleshow/114343114.cms',\n",
       " 'https://timesofindia.indiatimes.com/sports/cricket/news/richa-ghosh-to-miss-new-zealand-odis-with-peculiar-reason/articleshow/114333918.cms',\n",
       " 'https://timesofindia.indiatimes.com/city/madurai',\n",
       " 'https://timesofindia.indiatimes.com/city/jaipur',\n",
       " 'https://timesofindia.indiatimes.com/india/chhattisgarh',\n",
       " 'https://timesofindia.indiatimes.com/entertainment/hindi/bollywood/box-office/vicky-vidya-ka-woh-wala-video-box-office-collection-day-7-the-rajkummar-rao-starrer-makes-rs-26-95-crore-in-its-one-week-run/articleshow/114331289.cms',\n",
       " 'https://timesofindia.indiatimes.com/tv/news/hindi/bigg-boss-18-from-his-shocking-eviction-to-allegedly-being-removed-from-nath-zewar-ya-zanjeer-lesser-known-facts-about-avinash-mishra/photostory/114322963.cms',\n",
       " 'https://timesofindia.indiatimes.com/astrology/web-stories/most-protective-zodiac-signs-who-will-always-have-your-back/photostory/114338404.cms',\n",
       " 'https://timesofindia.indiatimes.com/technology/gaming/todays-wordle-answer-hints',\n",
       " 'https://timesofindia.indiatimes.com/india/leading-school-in-manipur-set-afire-amid-unrest/articleshow/114361132.cms',\n",
       " 'https://timesofindia.indiatimes.com/world/middle-east/israel-its-iran-aligned-foes-vow-war-will-go-on/articleshow/114358571.cms',\n",
       " 'https://timesofindia.indiatimes.com/life-style/parenting/web-stories/8-reasons-why-millennial-parents-are-winning-at-parenting/photostory/114357225.cms',\n",
       " 'https://timesofindia.indiatimes.com/life-style/events/happy-diwali-2024-best-diwali-wishes-messages-images-and-quotes-to-share-with-your-family-friends-colleagues-and-relatives-deepavali-wishes/featureshow/114076585.cms',\n",
       " 'https://timesofindia.indiatimes.com/videos/etimes/bollywood/priyanka-chopra-lands-in-mumbai-amid-nick-jonas-security-threat-watch/videoshow/114285747.cms',\n",
       " 'https://timesofindia.indiatimes.com/sports/wwe/top-stories/bryan-danielson-faces-uncertainty-post-wrestledream-mri-will-determine-his-future/articleshow/114358947.cms',\n",
       " 'https://timesofindia.indiatimes.com/education',\n",
       " 'https://timesofindia.indiatimes.com/auto/news/baas-is-the-future-not-a-gimmick-mg-motors-gaurav-gupta-shares-ev-initiatives/articleshow/114340233.cms',\n",
       " 'https://timesofindia.indiatimes.com/life-style/beauty/3-step-daily-beauty-care-routine-for-a-guaranteed-korean-glass-skin/articleshow/114286889.cms',\n",
       " 'https://timesofindia.indiatimes.com/etimes/trending/who-is-vasundhra-oswal-daughter-of-billionaire-pankaj-oswal-who-has-been-allegedly-detained-in-uganda/articleshow/114360430.cms',\n",
       " 'https://timesofindia.indiatimes.com/etimes/web-stories',\n",
       " 'https://timesofindia.indiatimes.com/city/kolkata/tragic-bali-holiday-kolkata-travel-agent-drowns-after-cliff-fall/articleshow/114329521.cms',\n",
       " 'https://timesofindia.indiatimes.com/business/india-business/hindustan-zinc-q2-net-profit-rises-34-5-to-rs-2327-crore/articleshow/114350083.cms',\n",
       " 'https://timesofindia.indiatimes.com/tv/news/hindi/kaun-banega-crorepati-16-contestant-dr-neeraj-saxena-quits-the-game-midway-to-offer-others-a-chance-host-amitabh-bachchan-commends-his-selfless-gesture/articleshow/114333915.cms',\n",
       " 'https://timesofindia.indiatimes.com/hot-picks/electronics-accessories/must-haves-smartwatches-under-1000-only/articleshow/114354306.cms',\n",
       " 'https://timesofindia.indiatimes.com/city/bhopal',\n",
       " 'https://timesofindia.indiatimes.com/city/mumbai',\n",
       " 'https://timesofindia.indiatimes.com/astrology/gemstones/hollywoods-crystal-obsession-glamour-and-good-vibes/articleshow/114348080.cms',\n",
       " 'https://timesofindia.indiatimes.com/blogs/?utm_source=TOInewHP_TILwidget&utm_medium=NavLi&utm_campaign=TOInewHP',\n",
       " 'https://timesofindia.indiatimes.com/technology/tech-news/when-jrd-tata-told-infosys-co-founder-narayana-murthy-young-man-dont-make-your-wife-/articleshow/114348561.cms',\n",
       " 'https://timesofindia.indiatimes.com/home/headlines',\n",
       " 'https://timesofindia.indiatimes.com/tv/news/kannada/bigg-boss-kannada-season-11-faces-legal-action-to-stop-midway-court-hearing-set-for-october-28/articleshow/114354250.cms',\n",
       " 'https://timesofindia.indiatimes.com/auto/cars/isuzu-d-max-ambulance-launched-at-rs-25-99-lakh-boasts-nearly-double-tata-nexons-torque/articleshow/114278954.cms',\n",
       " 'https://timesofindia.indiatimes.com/city/vadodara',\n",
       " 'https://timesofindia.indiatimes.com/videos/international/hamas-challenges-netanyahu-with-new-chief-hours-after-israel-kills-sinwar-meet-khaled-mashal/videoshow/114348435.cms',\n",
       " 'https://timesofindia.indiatimes.com/world/us/us-presidential-election-2024-kamala-harris-donald-trump-democratic-republican-vice-president-tim-walz-jd-vance-al-smith-dinner-18-10-24/liveblog/114336202.cms',\n",
       " 'https://timesofindia.indiatimes.com/life-style/food-news/diwali-2024-importance-of-food-on-diwali-and-easy-snack-under-30-minutes/articleshow/114327611.cms',\n",
       " 'https://timesofindia.indiatimes.com/life-style',\n",
       " 'https://timesofindia.indiatimes.com/auto/cars/tata-curvv-curvv-ev-outshine-rival-basalt-in-bharat-ncap-crash-test-details/articleshow/114272723.cms',\n",
       " 'https://timesofindia.indiatimes.com/city/ranchi',\n",
       " 'https://timesofindia.indiatimes.com/entertainment/hindi/bollywood/news/bhavana-pandey-ananya-panday-and-i-talk-about-maintaining-privacy-in-relationships-ensuring-that-her-happiness-and-well-being-come-first-exclusive/articleshow/114323558.cms',\n",
       " 'https://timesofindia.indiatimes.com/life-style/relationships/love-sex/how-to-not-lose-your-identity-when-you-are-in-a-relationship/articleshow/114357891.cms',\n",
       " 'https://timesofindia.indiatimes.com/entertainment',\n",
       " 'https://timesofindia.indiatimes.com/etimes/trending/5-countries-with-the-best-anti-aircraft-missile-systems-in-the-world/photostory/113945813.cms',\n",
       " 'https://timesofindia.indiatimes.com/education/colleges/top-engineering-colleges-of-india/featureshow/113515408.cms',\n",
       " 'https://timesofindia.indiatimes.com/city/erode',\n",
       " 'https://timesofindia.indiatimes.com/education/web-stories/9-proven-strategies-to-impress-your-teacher-with-exceptional-work/photostory/114342256.cms',\n",
       " 'https://timesofindia.indiatimes.com/india/dadra-and-nagar-haveli',\n",
       " 'https://timesofindia.indiatimes.com/entertainment/hindi/bollywood/news/inside-radhika-merchants-birthday-bash-aryan-khan-ananya-panday-suhana-ms-dhoni-and-ranveer-singh-have-a-gala-time-with-the-ambanis/articleshow/114327273.cms',\n",
       " 'https://timesofindia.indiatimes.com/life-style/health-fitness/health-news/understanding-cervical-cancer-in-india-prevention-symptoms-and-treatment-options/articleshow/114353621.cms',\n",
       " 'https://timesofindia.indiatimes.com/business/india-business',\n",
       " 'https://timesofindia.indiatimes.com/newsletterhome.cms',\n",
       " 'https://timesofindia.indiatimes.com/sports',\n",
       " 'https://timesofindia.indiatimes.com/life-style/parenting/web-stories/8-things-kids-secretly-observe-in-their-parents/photostory/114341474.cms',\n",
       " 'https://timesofindia.indiatimes.com/entertainment/music',\n",
       " 'https://timesofindia.indiatimes.com/city/delhi/salman-khan-house-firing-case-navi-mumbai-police-arrest-accused-from-haryana/articleshow/114299855.cms',\n",
       " 'https://timesofindia.indiatimes.com/city/lucknow/uttar-pradesh-achieves-zero-encephalitis-deaths-in-2024-a-public-health-triumph/articleshow/114324949.cms',\n",
       " 'https://timesofindia.indiatimes.com/sports/cricket/icc-womens-t20-world-cup/new-zealand-edge-west-indies-to-set-up-womens-t20-world-cup-final-clash-against-south-africa/articleshow/114358126.cms',\n",
       " 'https://timesofindia.indiatimes.com/astrology/numerology-tarot/numerology-in-business-choosing-the-right-name-for-success/articleshow/114343951.cms',\n",
       " 'https://timesofindia.indiatimes.com/india/orissa',\n",
       " 'https://timesofindia.indiatimes.com/india/telangana',\n",
       " 'https://timesofindia.indiatimes.com/india/daman-and-diu',\n",
       " 'https://timesofindia.indiatimes.com/life-style/fashion/celeb-style/ananya-panday-or-radhika-merchant-who-wore-the-rohit-bal-lehenga-better/articleshow/114351191.cms',\n",
       " 'https://timesofindia.indiatimes.com/world/rest-of-world/canada-tracks-indian-media-journos-and-submits-report-to-foreign-interference-inquiry/articleshow/114360499.cms',\n",
       " 'https://timesofindia.indiatimes.com/life-style/food-news/broccoli-vs-cauliflower-which-one-is-healthier/articleshow/114193352.cms',\n",
       " 'https://timesofindia.indiatimes.com/life-style/food-news/can-a-dash-of-cinnamon-in-your-coffee-speed-up-belly-fat-loss/articleshow/114169050.cms',\n",
       " 'https://timesofindia.indiatimes.com/city/agra',\n",
       " 'https://timesofindia.indiatimes.com/tv/hindi/bigg-boss',\n",
       " 'https://timesofindia.indiatimes.com/life-style/health-fitness',\n",
       " 'https://timesofindia.indiatimes.com/life-style/events/karwa-chauth-moon-timing-check-moonrise-timing-in-your-city-wise/featureshow/114139601.cms',\n",
       " 'https://timesofindia.indiatimes.com/city/vijayawada',\n",
       " 'https://timesofindia.indiatimes.com/life-style/beauty/web-stories/best-mehendi-designs-for-karwa-chauth-2024/photostory/114307731.cms',\n",
       " 'https://timesofindia.indiatimes.com/india/canada-invokes-allies-support-to-threaten-sanctions-on-india/articleshow/114260003.cms',\n",
       " 'https://timesofindia.indiatimes.com/elections/assembly-elections/jharkhand/schedule',\n",
       " 'https://timesofindia.indiatimes.com/travel/destinations',\n",
       " 'https://timesofindia.indiatimes.com/entertainment/tamil/movies/box-office/vettaiyan-box-office-collection-day-8-rajinikanth-amitabh-bachchans-film-mints-rs-3-15-crore/articleshow/114331565.cms',\n",
       " 'https://timesofindia.indiatimes.com/entertainment/events/delhi/olympians-maheshwari-chauhan-manu-bhaker-visit-alma-mater-lady-shri-ram-college-for-women/articleshow/114183530.cms',\n",
       " 'https://timesofindia.indiatimes.com/city/faridabad',\n",
       " 'https://timesofindia.indiatimes.com/entertainment/hindi/bollywood/news/salman-khans-ex-girlfriend-somy-ali-reaches-out-to-lawrence-bishnoi-asks-for-phone-number-mujhe-aapse-kuch-baatain-karne-hain/articleshow/114308932.cms',\n",
       " 'https://timesofindia.indiatimes.com/world/us/us-presidential-elections',\n",
       " 'https://timesofindia.indiatimes.com/india/omar-abdullah-comes-under-opposition-fire-for-silence-on-370-restoration/articleshow/114360321.cms',\n",
       " 'https://timesofindia.indiatimes.com/india/goa',\n",
       " 'https://timesofindia.indiatimes.com/toi-mastery/usv-webinar?utm_source=l2Nav&utm_medium=tag&utm_campaign=USV',\n",
       " 'https://timesofindia.indiatimes.com/sports/nfl/news/kelce-brothers-take-aim-at-blake-livelys-athletic-abilities-during-their-review-of-the-sisterhood-of-the-traveling-pants/articleshow/114356436.cms',\n",
       " 'https://timesofindia.indiatimes.com/city/nashik',\n",
       " 'https://timesofindia.indiatimes.com/city/udaipur',\n",
       " 'https://timesofindia.indiatimes.com/city/bhopal/ujjain-type-vedic-clock-soon-on-your-wrist/articleshow/114342999.cms',\n",
       " 'https://timesofindia.indiatimes.com/sports/cricket/news/ranji-trophy-tamil-nadu-get-washington-sundar-boost-ahead-of-delhi-tie/articleshow/114335260.cms',\n",
       " 'https://timesofindia.indiatimes.com/world/rest-of-world/former-australian-pilot-greg-lynn-sentenced-to-32-years-for-brutal-murder-of-carol-clay/articleshow/114342967.cms',\n",
       " 'https://timesofindia.indiatimes.com/entertainment/hindi/bollywood/news/salim-khan-says-salman-khan-has-no-reason-to-apologise-to-bishnoi-community-as-he-never-killed-the-blackbuck-humne-cockroach-ko-bhi-nahi-maara/articleshow/114358605.cms',\n",
       " 'https://timesofindia.indiatimes.com/astrology',\n",
       " 'https://timesofindia.indiatimes.com/mostcommented.cms',\n",
       " 'https://timesofindia.indiatimes.com/sports/cricket/new-zealand-in-india/virat-kohli-joins-tendulkar-dravid-gavaskar-in-this-elite-list/articleshow/114350347.cms',\n",
       " 'https://timesofindia.indiatimes.com/tv/news/hindi/from-the-challenges-of-single-parenting-to-her-decision-to-seek-divorce-when-samaira-was-3-juhi-parmar-details-her-parenthood-journey-with-her-tween-daughter/photostory/114317288.cms',\n",
       " 'https://timesofindia.indiatimes.com/sports/wwe/top-stories/londons-wrestlemania-dream-crumbles-as-nfl-super-bowl-eyeing-wembley/articleshow/114357094.cms',\n",
       " 'https://timesofindia.indiatimes.com/life-style/home-garden/web-stories/10-indoor-plants-that-easily-live-for-over-50-years/photostory/114283799.cms',\n",
       " 'https://timesofindia.indiatimes.com/business/india-business/zee-reappoints-punit-goenka-as-md-ceo/articleshow/114351566.cms',\n",
       " 'https://timesofindia.indiatimes.com/etimes',\n",
       " 'https://timesofindia.indiatimes.com/education/exams/other-exams/upsc-prelims-question-papers-for-the-last-5-years/featureshow/114251349.cms',\n",
       " 'https://timesofindia.indiatimes.com/spotlight/elevating-indias-urban-landscape-with-visionary-excellence/articleshow/114148322.cms',\n",
       " 'https://timesofindia.indiatimes.com/sports/cricket/new-zealand-in-india/historic-first-in-147-years-team-india-shatters-test-cricket-record/articleshow/114355910.cms',\n",
       " 'https://timesofindia.indiatimes.com/sports/nfl/news/taylor-swift-and-travis-kelce-at-the-center-of-controversy-as-swifts-possible-ownership-of-the-chiefs-raises-eyebrows-following-tom-bradys-investment-in-the-raiders/articleshow/114322712.cms',\n",
       " 'https://timesofindia.indiatimes.com/business/india-business/eruditus-bags-150-million-funding-at-3-1-billion-valuation/articleshow/114354480.cms',\n",
       " 'https://timesofindia.indiatimes.com/topic/Joe-Biden',\n",
       " 'https://timesofindia.indiatimes.com/city/gurgaon',\n",
       " 'https://timesofindia.indiatimes.com/education/news/why-did-nmcs-revised-competency-based-medical-education-curriculum-draw-backlash-from-activists/articleshow/114349376.cms',\n",
       " 'https://timesofindia.indiatimes.com/entertainment/hindi/bollywood/box-office/shraddha-kapoors-stree-2-is-just-rs-4-crore-short-of-the-rs-600-crore-mark/articleshow/114105117.cms',\n",
       " 'https://timesofindia.indiatimes.com/videos/entertainment/english/liam-paynes-last-video-from-argentina-hotel-leaves-fans-shocked/videoshow/114303032.cms',\n",
       " 'https://timesofindia.indiatimes.com/city/thiruvananthapuram',\n",
       " 'https://timesofindia.indiatimes.com/entertainment/tamil/movies/news/nithya-menen-hits-back-at-critics-stating-the-actress-does-not-deserve-the-national-award-for-thiruchitrambalam/articleshow/114304516.cms',\n",
       " 'https://timesofindia.indiatimes.com/hot-picks',\n",
       " 'https://timesofindia.indiatimes.com/city/lucknow/pm-visit-to-bolster-bjps-efforts-to-woo-jats/articleshow/86184102.cms',\n",
       " 'https://timesofindia.indiatimes.com/india/nagaland',\n",
       " 'https://timesofindia.indiatimes.com/entertainment/events/delhi/sonal-mansingh-performs-natya-katha-meera-international-acts-start-today/articleshow/114313464.cms']"
      ]
     },
     "execution_count": 20,
     "metadata": {},
     "output_type": "execute_result"
    }
   ],
   "source": [
    "get_domain_hyperlinks(local_domain, url)"
   ]
  },
  {
   "cell_type": "code",
   "execution_count": 2,
   "id": "16b1f2c0-0f56-453c-9109-21e3226b034e",
   "metadata": {},
   "outputs": [],
   "source": [
    "import re\n",
    "\n",
    "def get_localdomain(url):\n",
    "    regex_pattern = r\"https://([^/]+\\.com)\"\n",
    "    match = re.search(regex_pattern, url)\n",
    "    extracted_string = match.group(1) if match else None\n",
    "    return extracted_string"
   ]
  },
  {
   "cell_type": "code",
   "execution_count": 21,
   "id": "2501e32f-7e26-4478-a827-6a73b8c0d205",
   "metadata": {},
   "outputs": [],
   "source": [
    "def clean_text(text):\n",
    "    # Remove unwanted symbols (like \\' or \\n or any other special characters)\n",
    "    cleaned_text = re.sub(r\"[^\\w\\s,.]\", \"\", text)  # Keeps letters, numbers, spaces, commas, and periods\n",
    "\n",
    "    # Replace multiple spaces with a single space\n",
    "    cleaned_text = re.sub(r\"\\s+\", \" \", cleaned_text)\n",
    "\n",
    "    #cleaned_text = cleaned_text.replace(\"\\n\", \" \")\n",
    "\n",
    "    # Trim leading and trailing spaces\n",
    "    cleaned_text = cleaned_text.strip()\n",
    "    \n",
    "    return cleaned_text"
   ]
  },
  {
   "cell_type": "code",
   "execution_count": 22,
   "id": "ef93d580-9179-4f9a-bafb-a82534c80720",
   "metadata": {},
   "outputs": [],
   "source": [
    "def get_webtext(url):\n",
    "    local_domain = get_localdomain(url)\n",
    "\n",
    "    if not os.path.exists(\"text/\"+local_domain+\"/\"):\n",
    "        os.mkdir(\"text/\" + local_domain + \"/\")\n",
    "    with open('text/'+local_domain+'/'+url[8:].replace(\"/\", \"_\") + \".txt\", \"w\", encoding=\"UTF-8\") as f:\n",
    "\n",
    "        # Get the text from the URL using BeautifulSoup\n",
    "        soup = BeautifulSoup(requests.get(url).text, \"html.parser\")\n",
    "\n",
    "\n",
    "        text = soup.get_text()\n",
    "\n",
    "        cleaned_text = clean_text(text)\n",
    "\n",
    "        # If the crawler gets to a page that requires JavaScript, it will stop the crawl\n",
    "        if (\"You need to enable JavaScript to run this app.\" in cleaned_text):\n",
    "            print(\"Unable to parse page \" + url + \" due to JavaScript being required\")\n",
    "        \n",
    "        f.write(cleaned_text)"
   ]
  },
  {
   "cell_type": "code",
   "execution_count": 23,
   "id": "5cd67501-3773-4e6f-b4b2-c974514fc2a6",
   "metadata": {},
   "outputs": [],
   "source": [
    "get_webtext(\"https://edition.cnn.com/2024/10/19/politics/us-israel-iran-intelligence-documents/index.html\")"
   ]
  },
  {
   "cell_type": "code",
   "execution_count": 26,
   "id": "dbdb07b6-3483-456d-91eb-46495cc56428",
   "metadata": {},
   "outputs": [],
   "source": [
    "from sentence_transformers import SentenceTransformer\n",
    "\n",
    "model = SentenceTransformer('sentence-transformers/all-MiniLM-L6-v2')"
   ]
  },
  {
   "cell_type": "code",
   "execution_count": 52,
   "id": "5515a5a7-f6fb-41d3-9e77-7aee96d57f35",
   "metadata": {},
   "outputs": [],
   "source": [
    "def embed_text_file(file_path):\n",
    "    # Load the pre-trained model\n",
    "    # model = SentenceTransformer(model_name)\n",
    "\n",
    "    # Read the plain text from the file (scraped content)\n",
    "    with open(file_path, 'r', encoding='utf-8') as f:\n",
    "        text = f.read()\n",
    "\n",
    "    cleaned_text = re.sub(r'[\\\\\\d]+', '', text)  # Removes backslashes and sequences like \\80\n",
    "    cleaned_text = re.sub(r'\\.+', ' ', cleaned_text)  # Removes dots and replaces with space\n",
    "    # Split the text into sentences or paragraphs (based on how you want to embed it)\n",
    "    sentences = cleaned_text.split('\\n')  # Splitting by new lines or use sentence tokenization\n",
    "\n",
    "    # Filter out any empty lines\n",
    "    sentences = [sentence.strip() for sentence in sentences if sentence.strip()]\n",
    "\n",
    "    # Generate embeddings for each sentence\n",
    "    embeddings = model.encode(sentences)\n",
    "\n",
    "    return embeddings,  sentences"
   ]
  },
  {
   "cell_type": "code",
   "execution_count": 53,
   "id": "29c55f1b-1875-4af1-8e1d-22b3c984f2f0",
   "metadata": {},
   "outputs": [],
   "source": [
    "file_embed, file_sentence = embed_text_file(\"/home/antash/workspace/snatched-crawler/text/timesofindia.indiatimes.com/timesofindia.indiatimes.com_world_south-asia_102965864-from-prison-to-a-hospital-less-than-a-day-after-he-returned-to-thailand-from-exile_articleshow_102965864.cms.txt\")"
   ]
  },
  {
   "cell_type": "code",
   "execution_count": 62,
   "id": "01f61923-6f45-4b6e-abdc-a17bf1344223",
   "metadata": {},
   "outputs": [],
   "source": [
    "from sklearn.metrics.pairwise import cosine_similarity\n",
    "import numpy as np\n",
    "\n",
    "# Function to calculate cosine similarity and get the best matching sentence\n",
    "def find_best_match(question, embeddings, sentences):\n",
    "    # Embed the question\n",
    "    question_embedding = model.encode([question])\n",
    "    print(type(question_embedding))\n",
    "    # Calculate cosine similarity between the question and each sentence\n",
    "    similarities = cosine_similarity(question_embedding, embeddings)\n",
    "    \n",
    "    # Find the index of the highest similarity score\n",
    "    best_index = np.argmax(similarities)\n",
    "    \n",
    "    # Return the most similar sentence and its similarity score\n",
    "    return sentences[best_index], similarities[0][best_index]"
   ]
  },
  {
   "cell_type": "code",
   "execution_count": 65,
   "id": "ebc940fd-4ec2-4c6c-8a18-da4ee1b3a965",
   "metadata": {},
   "outputs": [
    {
     "name": "stdout",
     "output_type": "stream",
     "text": [
      "<class 'numpy.ndarray'>\n"
     ]
    }
   ],
   "source": [
    "best_match_sentence, similarity_score = find_best_match(\"What is the description of the article?\", file_embed, file_sentence)"
   ]
  },
  {
   "cell_type": "code",
   "execution_count": 66,
   "id": "63be9232-5e69-4f09-ab7d-1deb88611765",
   "metadata": {},
   "outputs": [
    {
     "data": {
      "text/plain": [
       "'Thaksin Shinawatra: Thaksin moved from prison to a hospital less than a day after he returned to Thailand from exile - Times of IndiaEditionININUSSign InTOIworldSouth AsiaUS Presidential ElectionsUSPakistanUKEuropeChinaMiddle EastRest of WorldMad, Mad WorldPhotosVideosWeb StoriesToday\\'s ePaperNewsWorld NewsSouth Asia NewsThaksin moved from prison to a hospital less than a day after he returned to Thailand from exileTrendingDiddyJD VanceMark ZuckerbergJennifer AnistonPrince HarryIsrael Hezbollah WarGreen Card GuidelinesDiddyJD VanceMark ZuckerbergJennifer AnistonPrince HarryIsrael Hezbollah WarGreen Card GuidelinesDiddyJD VanceMark ZuckerbergJennifer AnistonPrince HarryIsrael Hezbollah WarGreen Card GuidelinesThis story is from August , Thaksin moved from prison to a hospital less than a day after he returned to Thailand from exileAP / Updated: Aug , , : ISTShareAA+Text SizeSmallMediumLargeFollow us Less than a day after returning from a protracted exile and beginning his -year sentence, Thailand\\'s contentious former prime minister Thaksin Shinawatra was moved from prison to a hospital  On the same day that a party associated with him won a legislative vote to create a new government, he had returned to Thailand after spending  years overseas  After being found guilty of various crimes in absentia that he had criticized as being politically motivated, Thaksin was then sentenced to prison to serve his time  Thakshin Shinawatra/ AP BANGKOK: Thailand\\'s divisive former Prime Minister Thaksin Shinawatra was transferred from prison to a hospital early Wednesday, less than a day after he returned from an extended exile and started serving an -year sentence  He had returned to Thailand after  years abroad on the same day a party linked to him won a parliamentary vote to form a new government  Thaksin was then sent to prison to serve sentences from several criminal convictions made in absentia that he had decried as politically motivated  The prison reported Thaksin had high blood pressure and low oxygen, he could not sleep and felt tightness in his chest, according to a statement from Sitthi Sutivong, deputy director-general of the Corrections Department  Doctors at the prison\\'s hospital said he should be transferred to prevent life-threatening risks, the statement said  Corrections officials previously had said Thaksin, , was considered vulnerable due to his age and chronic conditions of his heart and lungs, high blood pressure, and back problems  Hours after Thaksin\\'s return to Thailand, Pheu Thai party candidate Srettha Thavisin secured enough votes to become prime minister, ending over three months of suspense, legal wrangling and horse trading that followed May elections  The party had entered a coalition with military parties linked to a coup that removed it from power in , and excluded the progressive Move Forward Party that won the most votes in the elections  Srettha is expected to receive a royal endorsement as prime minister later Wednesday, according to Thai media  Pheu Thai is the latest in a string of parties affiliated with Thaksin, who was ousted in a  military coup  The coup that ousted him triggered nearly two decades of deep political divisions that pitted a mostly poor, rural majority in the north that supports Thaksin against royalists, the military and their urban backers  A Pheu Thai government led by Thaksin\\'s sister, Yingluck Shinawatra, was ousted in the  coup by then-army chief Prayuth Chan-ocha, who is now the outgoing prime minister  It is widely speculated Thaksin returned out of hope that a friendly government will reduce his sentence, although he has said his decision had nothing to do with the Pheu Thai party\\'s bid for power and that he was ready to follow the legal process  The outgoing government has said Thaksin can request a royal pardon like any other inmate End of ArticleFOLLOW US ON SOCIAL MEDIA Visual Stories   Previousâ\\x80\\x8b heaviest animals on EarthLifestyle plants that look best in hanging pots and basketsLifestyle animals that start hibernating in OctoberLifestyleâ\\x80\\x8bâ\\x80\\x8bHow to make Vrat-friendly South Indian-style curd rice for Navratriâ\\x80\\x8bFoodExpert tips to boost brainpower in kids during their growing yearsLifestyleHow to make Sweet Potato Cutlets for vrat feastingFood tiger sanctuaries in India that are best explored by jeeptravelA -day Himachal itinerary for Navratri long weekendtravelDurga Puja : Mouni Roy\\'s pujo-perfect drapes that redefine graceEntertainmentThis iron-calcium rich Ragi Gajar Paratha is perfect for a strong immunityFood Next Photostories   countries with the best anti-aircraft missile systems in the worldFrom Bharti Singh- Elvish Yadav getting summoned in Rs  crore fraud case to Khushi Mali replacing Palak Sindhwani in Taarak Mehta: Top TV newsOptical illusion psychology test: The first thing you see reveals the hidden flaw affecting your relationshipsSunny Deol\\'s \\'Gadar\\', Shah Rukh Khan\\'s \\'Devdas\\', Rishi Kapoor\\'s \\'Chandni\\': Movies allegedly rejected by GovindaTop  richest Indian states in Bigg Boss  House: A sneak peek into Salman Khan\\'s show with a Turkish Hammam Bathroom, Prehistoric Jail, and Cave-Inspired Bedroomâ\\x80\\x8b most educated countries of the worldâ\\x80\\x8bFrom their moving-in together plans to Krishna Mukherjee hinting at the Bigg Boss couple\\'swedding next year; A look at Jasmine Bhasin and Aly Goni\\'s emotional reunionAnimal Park, Dhoom , Ramayana:  upcoming blockbuster movies of Ranbir KapoorWhere the zodiac signs would prefer to liveThe Great Indian Kapil Show :From high-end car collection to net worth, lavish apartment, farmhouse and more: Luxurious life of Kapil Sharma signs you are unknowingly being toxic to yourself, as per psychologyHot PicksExit Polls  LiveJK Election Exit Polls  LivePatrick MahomesMarshawn LynchDavante AdamsMike FlorioSean CombsTOP TRENDINGWWE Smackdown HighlightsPrince WilliamKing CharlesPrince HarryElon MuskWorld Richest FamilySadhguru QuotesDonald TrumpAmerican Airlines FlightIAF ChiefTrending StoriesIn WorldEntire WebsiteIsrael Hezbollah War Live Updates: Hamas\\' armed wing leader Saeed Atallah killed in Israeli strike on north LebanonHaryana Assembly Election  Live Updates: Dushyant Chautala, Babita Phogat vote as  % voter turnout recorded till am\"Travis Kelce\\'s career is over\": Travis Kelceâ\\x80\\x99s time in Kansas City may be numbered as the Chiefs decided to re-sign one of their familiar facesDurga Puja  Start and End Date: Puja Rituals and Significance\\'Rape, murdered, body found in marshy land\\': Massive protests erupt in West Bengal\\'I will behave myself   \\': What Jaishankar said on his visit to Pakistan for SCO meetTamil Nadu: -year-old boy killed for resisting sex assault bid in KancheepuramWatch: Rohit Sharma shares spotlight with Thierry Henry, Ronaldinho during NBA Abu Dhabi GameSeek science milestones, not personal glory: Gaganyaan astronaut; next batch selection soon: Isro ChiefFlight slams brakes mid-takeoff to avoid collision with crossing plane: \\'Stopped so quickly\\'Islamabad on edge: Army deployed, internet shut as Imran Khan\\'s supporters plan massive rallyPoll of exit polls: Cong to sweep Haryana; alliance with NC has edge in J&K runways,  terminals: Indiaâ\\x80\\x99s largest airport is taking shape near DelhiIsrael military official says \\'preparing response\\' to Iran attackRG Kar case: Protesting docs begin hunger strike against Mamata govtExit polls predict return of Cong govt in Haryana with big win over BJPWhy the time has come to free temples from state controlCustoms at Delhi Airport seize  iPhone  Pro Max from passengersShivam Dube ruled out of India-Bangladesh TI seriesTrump goes nuclear for IsraelAbout usCreate Your Own AdTerms of Use and Grievance Redressal Policy Privacy policyAdvertise with usRSSNewsletterFeedbackePaperSitemapArchivesFOLLOW US ONOther Times Group News SitesThe Economic TimesHindi Economic TimesNavbharat TimesMaharashtra TimesVijaya KarnatakaTelugu SamayamTamil SamayamMalayalam SamayamI am GujaratTimesPointsIndiatimesBrand CapitalEducation TimesTimes FoodMumbai MirrorBangalore MirrorMX PlayerHindi PodcastPopular CategoriesHeadlinesSports NewsBusiness NewsIndia NewsWorld NewsBollywood NewsHealth+ TipsIndian TV ShowsCelebrity PhotosTechnology NewsHot on the WebNavratri ColorsTriptii DimriAnanya PandayAnar BenefitsArjun KapoorVitamin BViral NewsGenelia Dâ\\x80\\x99SouzaAamir KhanShah Rukh KhanTop TrendsExit Poll ResultsJ&K Election Exit Poll ResultHaryana Election Exit Poll ResultTravis KelceAUS vs SL Live ScoreWomen T World Cup ScenarioAmethi Murder CaseIsrael Iran WarJ&K Exit PollHulk HoganUGC NET ResultDiddyWomen\\'s T World CupTop MBA Colleges of IndiaT WC ScheduleWomen T World Cup Points TableLive Cricket ScoreTrending TopicsBigg Boss  House PhotoNavratri Colours Navratri Day  ColourTMKOC New SonuNaga ChaitanyaDevara CollectionGOAT OTT ReleaseRajinikanthDeepika PadukoneGovindaDevaraGovinda NewsDevara Movie ReviewHealthy RaitasSwatantrya Veer SavarkarColdplay India tour Maa Durga  NamesNavratri JewellerySony Bravia  inch k Ultra HD TVWordle AnswerLiving and entertainmentETimesTravel DestinationsCricbuzz comTVLifestyleNewspaper SubscriptionFood NewsTimes PrimeWhats HotServicesCouponDuniaTechGigTimesJobsBollywood NewsTimes MobileGadgetsCareersColombiaLatest NewsICC Womenâ\\x80\\x99s T World Cup India schedule: Key players, where to watch, match details, and other information must follow rules of Ayurveda to lose kg in  daysBigg Boss Tamil : Sunitha Gogoi to dazzle with dance performance from Vijayâ\\x80\\x99s film \\'GOAT\\'IIT-JEE aspirant dies by suicide after jumping from th floor of high-rise in LucknowYeh Rishta Kya Kehlata Hai: Ruhi Discovers Abhiraâ\\x80\\x99s True Identity, Family Feud IntensifiesHaryana assembly elections: BJP MP Naveen Jindal reaches polling station on horseInd vs Ban TI: New Gwalior stadium set to alternate hosting India matches with Indore says MPCA chiefWWE Unveils Bad Blood  Opening Video Package, Featuring Triple H, Cody Rhodes, and Metro BoominNaga Chaitanya looks dashing in an ethnic outfit as he attends Navratri festivitiesHaryana assembly polls:  per cent voter turnout recorded till  pmSamantha Ruth Prabhu showers praise on Ananya Panday\\'s \\'CTRL\\'; calls her \\'outstanding\\'Venus In Aries: What Does It Mean For Your RelationshipCR Park street food vendors gear up for Durga Puja rushAfter Defmation case, Nagarjuna to pursue another Rs  crore lawsuit against Konda SurekhaExclusive - Omung Kumar on Bigg Boss  house: My inspiration came from staying in cave hotels abroad, especially in Turkey, but this set reflects our India, with its carvings, sculptures Greatest matches of the â\\x80\\x9cPhenomenal Oneâ\\x80\\x9d AJ Styles in WWEâ\\x80\\x98Hamas and Hezbollah part of global Leftâ\\x80\\x99: American philosopher Judith Butler\\'s comment resurfaces on social mediaWhy walking for  minutes daily might be the best workout?Copyright Â©  Bennett, Coleman & Co  Ltd  All rights reserved  For reprint rights: Times Syndication Service'"
      ]
     },
     "execution_count": 66,
     "metadata": {},
     "output_type": "execute_result"
    }
   ],
   "source": [
    "best_match_sentence"
   ]
  },
  {
   "cell_type": "code",
   "execution_count": 42,
   "id": "bcdc8237-ce14-4cb0-af51-26bdb115afe3",
   "metadata": {},
   "outputs": [
    {
     "data": {
      "text/plain": [
       "numpy.ndarray"
      ]
     },
     "execution_count": 42,
     "metadata": {},
     "output_type": "execute_result"
    }
   ],
   "source": [
    "type(file_embed)"
   ]
  },
  {
   "cell_type": "code",
   "execution_count": 58,
   "id": "6f77a932-691b-45a3-b5e4-d64a0be490c4",
   "metadata": {},
   "outputs": [
    {
     "data": {
      "text/plain": [
       "['Thaksin Shinawatra: Thaksin moved from prison to a hospital less than a day after he returned to Thailand from exile - Times of IndiaEditionININUSSign InTOIworldSouth AsiaUS Presidential ElectionsUSPakistanUKEuropeChinaMiddle EastRest of WorldMad, Mad WorldPhotosVideosWeb StoriesToday\\'s ePaperNewsWorld NewsSouth Asia NewsThaksin moved from prison to a hospital less than a day after he returned to Thailand from exileTrendingDiddyJD VanceMark ZuckerbergJennifer AnistonPrince HarryIsrael Hezbollah WarGreen Card GuidelinesDiddyJD VanceMark ZuckerbergJennifer AnistonPrince HarryIsrael Hezbollah WarGreen Card GuidelinesDiddyJD VanceMark ZuckerbergJennifer AnistonPrince HarryIsrael Hezbollah WarGreen Card GuidelinesThis story is from August , Thaksin moved from prison to a hospital less than a day after he returned to Thailand from exileAP / Updated: Aug , , : ISTShareAA+Text SizeSmallMediumLargeFollow us Less than a day after returning from a protracted exile and beginning his -year sentence, Thailand\\'s contentious former prime minister Thaksin Shinawatra was moved from prison to a hospital  On the same day that a party associated with him won a legislative vote to create a new government, he had returned to Thailand after spending  years overseas  After being found guilty of various crimes in absentia that he had criticized as being politically motivated, Thaksin was then sentenced to prison to serve his time  Thakshin Shinawatra/ AP BANGKOK: Thailand\\'s divisive former Prime Minister Thaksin Shinawatra was transferred from prison to a hospital early Wednesday, less than a day after he returned from an extended exile and started serving an -year sentence  He had returned to Thailand after  years abroad on the same day a party linked to him won a parliamentary vote to form a new government  Thaksin was then sent to prison to serve sentences from several criminal convictions made in absentia that he had decried as politically motivated  The prison reported Thaksin had high blood pressure and low oxygen, he could not sleep and felt tightness in his chest, according to a statement from Sitthi Sutivong, deputy director-general of the Corrections Department  Doctors at the prison\\'s hospital said he should be transferred to prevent life-threatening risks, the statement said  Corrections officials previously had said Thaksin, , was considered vulnerable due to his age and chronic conditions of his heart and lungs, high blood pressure, and back problems  Hours after Thaksin\\'s return to Thailand, Pheu Thai party candidate Srettha Thavisin secured enough votes to become prime minister, ending over three months of suspense, legal wrangling and horse trading that followed May elections  The party had entered a coalition with military parties linked to a coup that removed it from power in , and excluded the progressive Move Forward Party that won the most votes in the elections  Srettha is expected to receive a royal endorsement as prime minister later Wednesday, according to Thai media  Pheu Thai is the latest in a string of parties affiliated with Thaksin, who was ousted in a  military coup  The coup that ousted him triggered nearly two decades of deep political divisions that pitted a mostly poor, rural majority in the north that supports Thaksin against royalists, the military and their urban backers  A Pheu Thai government led by Thaksin\\'s sister, Yingluck Shinawatra, was ousted in the  coup by then-army chief Prayuth Chan-ocha, who is now the outgoing prime minister  It is widely speculated Thaksin returned out of hope that a friendly government will reduce his sentence, although he has said his decision had nothing to do with the Pheu Thai party\\'s bid for power and that he was ready to follow the legal process  The outgoing government has said Thaksin can request a royal pardon like any other inmate End of ArticleFOLLOW US ON SOCIAL MEDIA Visual Stories   Previousâ\\x80\\x8b heaviest animals on EarthLifestyle plants that look best in hanging pots and basketsLifestyle animals that start hibernating in OctoberLifestyleâ\\x80\\x8bâ\\x80\\x8bHow to make Vrat-friendly South Indian-style curd rice for Navratriâ\\x80\\x8bFoodExpert tips to boost brainpower in kids during their growing yearsLifestyleHow to make Sweet Potato Cutlets for vrat feastingFood tiger sanctuaries in India that are best explored by jeeptravelA -day Himachal itinerary for Navratri long weekendtravelDurga Puja : Mouni Roy\\'s pujo-perfect drapes that redefine graceEntertainmentThis iron-calcium rich Ragi Gajar Paratha is perfect for a strong immunityFood Next Photostories   countries with the best anti-aircraft missile systems in the worldFrom Bharti Singh- Elvish Yadav getting summoned in Rs  crore fraud case to Khushi Mali replacing Palak Sindhwani in Taarak Mehta: Top TV newsOptical illusion psychology test: The first thing you see reveals the hidden flaw affecting your relationshipsSunny Deol\\'s \\'Gadar\\', Shah Rukh Khan\\'s \\'Devdas\\', Rishi Kapoor\\'s \\'Chandni\\': Movies allegedly rejected by GovindaTop  richest Indian states in Bigg Boss  House: A sneak peek into Salman Khan\\'s show with a Turkish Hammam Bathroom, Prehistoric Jail, and Cave-Inspired Bedroomâ\\x80\\x8b most educated countries of the worldâ\\x80\\x8bFrom their moving-in together plans to Krishna Mukherjee hinting at the Bigg Boss couple\\'swedding next year; A look at Jasmine Bhasin and Aly Goni\\'s emotional reunionAnimal Park, Dhoom , Ramayana:  upcoming blockbuster movies of Ranbir KapoorWhere the zodiac signs would prefer to liveThe Great Indian Kapil Show :From high-end car collection to net worth, lavish apartment, farmhouse and more: Luxurious life of Kapil Sharma signs you are unknowingly being toxic to yourself, as per psychologyHot PicksExit Polls  LiveJK Election Exit Polls  LivePatrick MahomesMarshawn LynchDavante AdamsMike FlorioSean CombsTOP TRENDINGWWE Smackdown HighlightsPrince WilliamKing CharlesPrince HarryElon MuskWorld Richest FamilySadhguru QuotesDonald TrumpAmerican Airlines FlightIAF ChiefTrending StoriesIn WorldEntire WebsiteIsrael Hezbollah War Live Updates: Hamas\\' armed wing leader Saeed Atallah killed in Israeli strike on north LebanonHaryana Assembly Election  Live Updates: Dushyant Chautala, Babita Phogat vote as  % voter turnout recorded till am\"Travis Kelce\\'s career is over\": Travis Kelceâ\\x80\\x99s time in Kansas City may be numbered as the Chiefs decided to re-sign one of their familiar facesDurga Puja  Start and End Date: Puja Rituals and Significance\\'Rape, murdered, body found in marshy land\\': Massive protests erupt in West Bengal\\'I will behave myself   \\': What Jaishankar said on his visit to Pakistan for SCO meetTamil Nadu: -year-old boy killed for resisting sex assault bid in KancheepuramWatch: Rohit Sharma shares spotlight with Thierry Henry, Ronaldinho during NBA Abu Dhabi GameSeek science milestones, not personal glory: Gaganyaan astronaut; next batch selection soon: Isro ChiefFlight slams brakes mid-takeoff to avoid collision with crossing plane: \\'Stopped so quickly\\'Islamabad on edge: Army deployed, internet shut as Imran Khan\\'s supporters plan massive rallyPoll of exit polls: Cong to sweep Haryana; alliance with NC has edge in J&K runways,  terminals: Indiaâ\\x80\\x99s largest airport is taking shape near DelhiIsrael military official says \\'preparing response\\' to Iran attackRG Kar case: Protesting docs begin hunger strike against Mamata govtExit polls predict return of Cong govt in Haryana with big win over BJPWhy the time has come to free temples from state controlCustoms at Delhi Airport seize  iPhone  Pro Max from passengersShivam Dube ruled out of India-Bangladesh TI seriesTrump goes nuclear for IsraelAbout usCreate Your Own AdTerms of Use and Grievance Redressal Policy Privacy policyAdvertise with usRSSNewsletterFeedbackePaperSitemapArchivesFOLLOW US ONOther Times Group News SitesThe Economic TimesHindi Economic TimesNavbharat TimesMaharashtra TimesVijaya KarnatakaTelugu SamayamTamil SamayamMalayalam SamayamI am GujaratTimesPointsIndiatimesBrand CapitalEducation TimesTimes FoodMumbai MirrorBangalore MirrorMX PlayerHindi PodcastPopular CategoriesHeadlinesSports NewsBusiness NewsIndia NewsWorld NewsBollywood NewsHealth+ TipsIndian TV ShowsCelebrity PhotosTechnology NewsHot on the WebNavratri ColorsTriptii DimriAnanya PandayAnar BenefitsArjun KapoorVitamin BViral NewsGenelia Dâ\\x80\\x99SouzaAamir KhanShah Rukh KhanTop TrendsExit Poll ResultsJ&K Election Exit Poll ResultHaryana Election Exit Poll ResultTravis KelceAUS vs SL Live ScoreWomen T World Cup ScenarioAmethi Murder CaseIsrael Iran WarJ&K Exit PollHulk HoganUGC NET ResultDiddyWomen\\'s T World CupTop MBA Colleges of IndiaT WC ScheduleWomen T World Cup Points TableLive Cricket ScoreTrending TopicsBigg Boss  House PhotoNavratri Colours Navratri Day  ColourTMKOC New SonuNaga ChaitanyaDevara CollectionGOAT OTT ReleaseRajinikanthDeepika PadukoneGovindaDevaraGovinda NewsDevara Movie ReviewHealthy RaitasSwatantrya Veer SavarkarColdplay India tour Maa Durga  NamesNavratri JewellerySony Bravia  inch k Ultra HD TVWordle AnswerLiving and entertainmentETimesTravel DestinationsCricbuzz comTVLifestyleNewspaper SubscriptionFood NewsTimes PrimeWhats HotServicesCouponDuniaTechGigTimesJobsBollywood NewsTimes MobileGadgetsCareersColombiaLatest NewsICC Womenâ\\x80\\x99s T World Cup India schedule: Key players, where to watch, match details, and other information must follow rules of Ayurveda to lose kg in  daysBigg Boss Tamil : Sunitha Gogoi to dazzle with dance performance from Vijayâ\\x80\\x99s film \\'GOAT\\'IIT-JEE aspirant dies by suicide after jumping from th floor of high-rise in LucknowYeh Rishta Kya Kehlata Hai: Ruhi Discovers Abhiraâ\\x80\\x99s True Identity, Family Feud IntensifiesHaryana assembly elections: BJP MP Naveen Jindal reaches polling station on horseInd vs Ban TI: New Gwalior stadium set to alternate hosting India matches with Indore says MPCA chiefWWE Unveils Bad Blood  Opening Video Package, Featuring Triple H, Cody Rhodes, and Metro BoominNaga Chaitanya looks dashing in an ethnic outfit as he attends Navratri festivitiesHaryana assembly polls:  per cent voter turnout recorded till  pmSamantha Ruth Prabhu showers praise on Ananya Panday\\'s \\'CTRL\\'; calls her \\'outstanding\\'Venus In Aries: What Does It Mean For Your RelationshipCR Park street food vendors gear up for Durga Puja rushAfter Defmation case, Nagarjuna to pursue another Rs  crore lawsuit against Konda SurekhaExclusive - Omung Kumar on Bigg Boss  house: My inspiration came from staying in cave hotels abroad, especially in Turkey, but this set reflects our India, with its carvings, sculptures Greatest matches of the â\\x80\\x9cPhenomenal Oneâ\\x80\\x9d AJ Styles in WWEâ\\x80\\x98Hamas and Hezbollah part of global Leftâ\\x80\\x99: American philosopher Judith Butler\\'s comment resurfaces on social mediaWhy walking for  minutes daily might be the best workout?Copyright Â©  Bennett, Coleman & Co  Ltd  All rights reserved  For reprint rights: Times Syndication Service']"
      ]
     },
     "execution_count": 58,
     "metadata": {},
     "output_type": "execute_result"
    }
   ],
   "source": [
    "file_sentence"
   ]
  },
  {
   "cell_type": "code",
   "execution_count": 9,
   "id": "83536886-4aaa-48f8-a10e-0bcd69ff7bcb",
   "metadata": {},
   "outputs": [
    {
     "name": "stdout",
     "output_type": "stream",
     "text": [
      "Note: you may need to restart the kernel to use updated packages.\n"
     ]
    }
   ],
   "source": [
    "%pip install -qU langchain-huggingface"
   ]
  },
  {
   "cell_type": "code",
   "execution_count": 1,
   "id": "ff8390aa-1630-4de8-bf69-27a1b370e223",
   "metadata": {},
   "outputs": [],
   "source": [
    "import getpass\n",
    "import os\n",
    "\n",
    "os.environ[\"GROQ_API_KEY\"] = \"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\"\n",
    "\n",
    "from langchain_groq import ChatGroq\n",
    "\n",
    "llm = ChatGroq(model=\"llama3-8b-8192\")"
   ]
  },
  {
   "cell_type": "code",
   "execution_count": 4,
   "id": "ea075c88-bdef-4f07-9dc1-929d093cc93d",
   "metadata": {},
   "outputs": [],
   "source": [
    "import bs4\n",
    "from langchain import hub\n",
    "from langchain_chroma import Chroma\n",
    "from langchain_community.document_loaders import WebBaseLoader, TextLoader\n",
    "from langchain_core.output_parsers import StrOutputParser\n",
    "from langchain_core.runnables import RunnablePassthrough\n",
    "from langchain_openai import OpenAIEmbeddings\n",
    "from langchain_text_splitters import RecursiveCharacterTextSplitter"
   ]
  },
  {
   "cell_type": "code",
   "execution_count": 11,
   "id": "55625c3f-52b9-4b7e-872b-1cf39cb18891",
   "metadata": {},
   "outputs": [],
   "source": [
    "from langchain_huggingface import HuggingFaceEmbeddings"
   ]
  },
  {
   "cell_type": "code",
   "execution_count": 14,
   "id": "e027852f-b44c-4bac-b908-b51b8cb9ad82",
   "metadata": {},
   "outputs": [
    {
     "name": "stderr",
     "output_type": "stream",
     "text": [
      "/home/antash/workspace/snatched-crawler/.venv/lib/python3.12/site-packages/sentence_transformers/cross_encoder/CrossEncoder.py:13: TqdmWarning: IProgress not found. Please update jupyter and ipywidgets. See https://ipywidgets.readthedocs.io/en/stable/user_install.html\n",
      "  from tqdm.autonotebook import tqdm, trange\n"
     ]
    }
   ],
   "source": [
    "embeddings = HuggingFaceEmbeddings(model_name=\"sentence-transformers/all-mpnet-base-v2\")"
   ]
  },
  {
   "cell_type": "code",
   "execution_count": 5,
   "id": "8d545e9f-4689-4008-a4fa-f6acbf36ea1c",
   "metadata": {},
   "outputs": [],
   "source": [
    "loader = TextLoader(\"/home/antash/workspace/snatched-crawler/text/timesofindia.indiatimes.com/timesofindia.indiatimes.com_world_south-asia_102965864-from-prison-to-a-hospital-less-than-a-day-after-he-returned-to-thailand-from-exile_articleshow_102965864.cms.txt\")"
   ]
  },
  {
   "cell_type": "code",
   "execution_count": 6,
   "id": "afcc2abb-aabd-4abb-88a8-f88e4546a8c2",
   "metadata": {},
   "outputs": [],
   "source": [
    "docs = loader.load()"
   ]
  },
  {
   "cell_type": "code",
   "execution_count": 15,
   "id": "41d12c8f-7d8e-4094-b653-0b179befbe9d",
   "metadata": {},
   "outputs": [],
   "source": [
    "text_splitter = RecursiveCharacterTextSplitter(chunk_size=1000, chunk_overlap=200)\n",
    "splits = text_splitter.split_documents(docs)\n",
    "vectorstore = Chroma.from_documents(documents=splits, embedding=embeddings)"
   ]
  },
  {
   "cell_type": "code",
   "execution_count": 20,
   "id": "67beb3e7-0a8c-49cf-9633-9e7834beae0f",
   "metadata": {},
   "outputs": [
    {
     "name": "stderr",
     "output_type": "stream",
     "text": [
      "/home/antash/workspace/snatched-crawler/.venv/lib/python3.12/site-packages/langsmith/client.py:354: LangSmithMissingAPIKeyWarning: API key must be provided when using hosted LangSmith API\n",
      "  warnings.warn(\n"
     ]
    }
   ],
   "source": [
    "# Retrieve and generate using the relevant snippets of the blog.\n",
    "retriever = vectorstore.as_retriever(search_type=\"similarity\", search_kwargs={\"k\": 6})\n",
    "prompt = hub.pull(\"rlm/rag-prompt\")"
   ]
  },
  {
   "cell_type": "code",
   "execution_count": 17,
   "id": "12353159-2728-40de-ba58-d8e0ae24ae94",
   "metadata": {},
   "outputs": [],
   "source": [
    "def format_docs(docs):\n",
    "    return \"\\n\\n\".join(doc.page_content for doc in docs)"
   ]
  },
  {
   "cell_type": "code",
   "execution_count": 19,
   "id": "f7a182df-c8ee-42f8-8e8c-e92e50b81750",
   "metadata": {},
   "outputs": [
    {
     "data": {
      "text/plain": [
       "\"I don't know the answer. The provided context is a collection of various news articles and updates, but it does not mention the title of a specific page.\""
      ]
     },
     "execution_count": 19,
     "metadata": {},
     "output_type": "execute_result"
    }
   ],
   "source": [
    "rag_chain = (\n",
    "    {\"context\": retriever | format_docs, \"question\": RunnablePassthrough()}\n",
    "    | prompt\n",
    "    | llm\n",
    "    | StrOutputParser()\n",
    ")\n",
    "rag_chain.invoke(\"What is title of page?\")"
   ]
  },
  {
   "cell_type": "code",
   "execution_count": 31,
   "id": "be935589-3567-482b-8f15-73d8bee6fd60",
   "metadata": {},
   "outputs": [],
   "source": [
    "retrieved_docs = retriever.invoke(\"What is the title of the article?\")"
   ]
  },
  {
   "cell_type": "code",
   "execution_count": 32,
   "id": "213ba7b6-0cf0-47a8-b0ab-ec9c8319a2fc",
   "metadata": {},
   "outputs": [
    {
     "data": {
      "text/plain": [
       "6"
      ]
     },
     "execution_count": 32,
     "metadata": {},
     "output_type": "execute_result"
    }
   ],
   "source": [
    "len(retrieved_docs)"
   ]
  },
  {
   "cell_type": "code",
   "execution_count": 33,
   "id": "648e0373-54c8-48d7-a516-ad945dd73e41",
   "metadata": {},
   "outputs": [
    {
     "data": {
      "text/plain": [
       "\"City may be numbered as the Chiefs decided to re-sign one of their familiar facesDurga Puja 2024 Start and End Date: Puja Rituals and Significance'Rape, murdered, body found in marshy land': Massive protests erupt in West Bengal'I will behave myself ... ': What Jaishankar said on his visit to Pakistan for SCO meetTamil Nadu: 5-year-old boy killed for resisting sex assault bid in KancheepuramWatch: Rohit Sharma shares spotlight with Thierry Henry, Ronaldinho during NBA Abu Dhabi GameSeek science milestones, not personal glory: Gaganyaan astronaut; next batch selection soon: Isro ChiefFlight slams brakes mid-takeoff to avoid collision with crossing plane: 'Stopped so quickly'Islamabad on edge: Army deployed, internet shut as Imran Khan's supporters plan massive rallyPoll of exit polls: Cong to sweep Haryana; alliance with NC has edge in J&K5 runways, 2 terminals: Indiaâ\\x80\\x99s largest airport is taking shape near DelhiIsrael military official says 'preparing response' to Iran attackRG Kar\""
      ]
     },
     "execution_count": 33,
     "metadata": {},
     "output_type": "execute_result"
    }
   ],
   "source": [
    "retrieved_docs[1].page_content"
   ]
  },
  {
   "cell_type": "code",
   "execution_count": 24,
   "id": "b78ed85e-bfcc-4528-8d48-5870b0f8056a",
   "metadata": {},
   "outputs": [
    {
     "name": "stderr",
     "output_type": "stream",
     "text": [
      "/home/antash/workspace/snatched-crawler/.venv/lib/python3.12/site-packages/tqdm/auto.py:21: TqdmWarning: IProgress not found. Please update jupyter and ipywidgets. See https://ipywidgets.readthedocs.io/en/stable/user_install.html\n",
      "  from .autonotebook import tqdm as notebook_tqdm\n"
     ]
    }
   ],
   "source": [
    "from transformers import pipeline"
   ]
  },
  {
   "cell_type": "code",
   "execution_count": 29,
   "id": "e94cae9c-2136-491e-8554-0fe94f0df503",
   "metadata": {},
   "outputs": [
    {
     "name": "stderr",
     "output_type": "stream",
     "text": [
      "Hardware accelerator e.g. GPU is available in the environment, but no `device` argument is passed to the `Pipeline` object. Model will be on CPU.\n"
     ]
    }
   ],
   "source": [
    "import torch\n",
    "summarizer = pipeline(\"summarization\", model=\"facebook/bart-large-cnn\")"
   ]
  },
  {
   "cell_type": "code",
   "execution_count": 30,
   "id": "688e54c2-c02b-4ebe-a96a-10a9910749a7",
   "metadata": {},
   "outputs": [],
   "source": [
    "with open(\"text/edition.cnn.com/edition.cnn.com_2024_10_19_politics_us-israel-iran-intelligence-documents_index.html.txt\", 'r', encoding='utf-8') as f:\n",
    "    text = f.read()"
   ]
  },
  {
   "cell_type": "code",
   "execution_count": 33,
   "id": "6d681477-8046-4842-8ff3-f4fc5730b4d3",
   "metadata": {},
   "outputs": [
    {
     "ename": "IndexError",
     "evalue": "index out of range in self",
     "output_type": "error",
     "traceback": [
      "\u001b[0;31m---------------------------------------------------------------------------\u001b[0m",
      "\u001b[0;31mIndexError\u001b[0m                                Traceback (most recent call last)",
      "Cell \u001b[0;32mIn[33], line 1\u001b[0m\n\u001b[0;32m----> 1\u001b[0m \u001b[38;5;28mprint\u001b[39m(\u001b[43msummarizer\u001b[49m\u001b[43m(\u001b[49m\u001b[43mtext\u001b[49m\u001b[43m,\u001b[49m\u001b[43m \u001b[49m\u001b[43mmax_length\u001b[49m\u001b[38;5;241;43m=\u001b[39;49m\u001b[38;5;241;43m130\u001b[39;49m\u001b[43m,\u001b[49m\u001b[43m \u001b[49m\u001b[43mmin_length\u001b[49m\u001b[38;5;241;43m=\u001b[39;49m\u001b[38;5;241;43m30\u001b[39;49m\u001b[43m,\u001b[49m\u001b[43m \u001b[49m\u001b[43mdo_sample\u001b[49m\u001b[38;5;241;43m=\u001b[39;49m\u001b[38;5;28;43;01mFalse\u001b[39;49;00m\u001b[43m)\u001b[49m)\n",
      "File \u001b[0;32m~/workspace/snatched-crawler/.venv/lib/python3.12/site-packages/transformers/pipelines/text2text_generation.py:274\u001b[0m, in \u001b[0;36mSummarizationPipeline.__call__\u001b[0;34m(self, *args, **kwargs)\u001b[0m\n\u001b[1;32m    250\u001b[0m \u001b[38;5;28;01mdef\u001b[39;00m \u001b[38;5;21m__call__\u001b[39m(\u001b[38;5;28mself\u001b[39m, \u001b[38;5;241m*\u001b[39margs, \u001b[38;5;241m*\u001b[39m\u001b[38;5;241m*\u001b[39mkwargs):\n\u001b[1;32m    251\u001b[0m \u001b[38;5;250m    \u001b[39m\u001b[38;5;124mr\u001b[39m\u001b[38;5;124;03m\"\"\"\u001b[39;00m\n\u001b[1;32m    252\u001b[0m \u001b[38;5;124;03m    Summarize the text(s) given as inputs.\u001b[39;00m\n\u001b[1;32m    253\u001b[0m \n\u001b[0;32m   (...)\u001b[0m\n\u001b[1;32m    272\u001b[0m \u001b[38;5;124;03m          ids of the summary.\u001b[39;00m\n\u001b[1;32m    273\u001b[0m \u001b[38;5;124;03m    \"\"\"\u001b[39;00m\n\u001b[0;32m--> 274\u001b[0m     \u001b[38;5;28;01mreturn\u001b[39;00m \u001b[38;5;28;43msuper\u001b[39;49m\u001b[43m(\u001b[49m\u001b[43m)\u001b[49m\u001b[38;5;241;43m.\u001b[39;49m\u001b[38;5;21;43m__call__\u001b[39;49m\u001b[43m(\u001b[49m\u001b[38;5;241;43m*\u001b[39;49m\u001b[43margs\u001b[49m\u001b[43m,\u001b[49m\u001b[43m \u001b[49m\u001b[38;5;241;43m*\u001b[39;49m\u001b[38;5;241;43m*\u001b[39;49m\u001b[43mkwargs\u001b[49m\u001b[43m)\u001b[49m\n",
      "File \u001b[0;32m~/workspace/snatched-crawler/.venv/lib/python3.12/site-packages/transformers/pipelines/text2text_generation.py:167\u001b[0m, in \u001b[0;36mText2TextGenerationPipeline.__call__\u001b[0;34m(self, *args, **kwargs)\u001b[0m\n\u001b[1;32m    138\u001b[0m \u001b[38;5;28;01mdef\u001b[39;00m \u001b[38;5;21m__call__\u001b[39m(\u001b[38;5;28mself\u001b[39m, \u001b[38;5;241m*\u001b[39margs, \u001b[38;5;241m*\u001b[39m\u001b[38;5;241m*\u001b[39mkwargs):\n\u001b[1;32m    139\u001b[0m \u001b[38;5;250m    \u001b[39m\u001b[38;5;124mr\u001b[39m\u001b[38;5;124;03m\"\"\"\u001b[39;00m\n\u001b[1;32m    140\u001b[0m \u001b[38;5;124;03m    Generate the output text(s) using text(s) given as inputs.\u001b[39;00m\n\u001b[1;32m    141\u001b[0m \n\u001b[0;32m   (...)\u001b[0m\n\u001b[1;32m    164\u001b[0m \u001b[38;5;124;03m          ids of the generated text.\u001b[39;00m\n\u001b[1;32m    165\u001b[0m \u001b[38;5;124;03m    \"\"\"\u001b[39;00m\n\u001b[0;32m--> 167\u001b[0m     result \u001b[38;5;241m=\u001b[39m \u001b[38;5;28;43msuper\u001b[39;49m\u001b[43m(\u001b[49m\u001b[43m)\u001b[49m\u001b[38;5;241;43m.\u001b[39;49m\u001b[38;5;21;43m__call__\u001b[39;49m\u001b[43m(\u001b[49m\u001b[38;5;241;43m*\u001b[39;49m\u001b[43margs\u001b[49m\u001b[43m,\u001b[49m\u001b[43m \u001b[49m\u001b[38;5;241;43m*\u001b[39;49m\u001b[38;5;241;43m*\u001b[39;49m\u001b[43mkwargs\u001b[49m\u001b[43m)\u001b[49m\n\u001b[1;32m    168\u001b[0m     \u001b[38;5;28;01mif\u001b[39;00m (\n\u001b[1;32m    169\u001b[0m         \u001b[38;5;28misinstance\u001b[39m(args[\u001b[38;5;241m0\u001b[39m], \u001b[38;5;28mlist\u001b[39m)\n\u001b[1;32m    170\u001b[0m         \u001b[38;5;129;01mand\u001b[39;00m \u001b[38;5;28mall\u001b[39m(\u001b[38;5;28misinstance\u001b[39m(el, \u001b[38;5;28mstr\u001b[39m) \u001b[38;5;28;01mfor\u001b[39;00m el \u001b[38;5;129;01min\u001b[39;00m args[\u001b[38;5;241m0\u001b[39m])\n\u001b[1;32m    171\u001b[0m         \u001b[38;5;129;01mand\u001b[39;00m \u001b[38;5;28mall\u001b[39m(\u001b[38;5;28mlen\u001b[39m(res) \u001b[38;5;241m==\u001b[39m \u001b[38;5;241m1\u001b[39m \u001b[38;5;28;01mfor\u001b[39;00m res \u001b[38;5;129;01min\u001b[39;00m result)\n\u001b[1;32m    172\u001b[0m     ):\n\u001b[1;32m    173\u001b[0m         \u001b[38;5;28;01mreturn\u001b[39;00m [res[\u001b[38;5;241m0\u001b[39m] \u001b[38;5;28;01mfor\u001b[39;00m res \u001b[38;5;129;01min\u001b[39;00m result]\n",
      "File \u001b[0;32m~/workspace/snatched-crawler/.venv/lib/python3.12/site-packages/transformers/pipelines/base.py:1268\u001b[0m, in \u001b[0;36mPipeline.__call__\u001b[0;34m(self, inputs, num_workers, batch_size, *args, **kwargs)\u001b[0m\n\u001b[1;32m   1260\u001b[0m     \u001b[38;5;28;01mreturn\u001b[39;00m \u001b[38;5;28mnext\u001b[39m(\n\u001b[1;32m   1261\u001b[0m         \u001b[38;5;28miter\u001b[39m(\n\u001b[1;32m   1262\u001b[0m             \u001b[38;5;28mself\u001b[39m\u001b[38;5;241m.\u001b[39mget_iterator(\n\u001b[0;32m   (...)\u001b[0m\n\u001b[1;32m   1265\u001b[0m         )\n\u001b[1;32m   1266\u001b[0m     )\n\u001b[1;32m   1267\u001b[0m \u001b[38;5;28;01melse\u001b[39;00m:\n\u001b[0;32m-> 1268\u001b[0m     \u001b[38;5;28;01mreturn\u001b[39;00m \u001b[38;5;28;43mself\u001b[39;49m\u001b[38;5;241;43m.\u001b[39;49m\u001b[43mrun_single\u001b[49m\u001b[43m(\u001b[49m\u001b[43minputs\u001b[49m\u001b[43m,\u001b[49m\u001b[43m \u001b[49m\u001b[43mpreprocess_params\u001b[49m\u001b[43m,\u001b[49m\u001b[43m \u001b[49m\u001b[43mforward_params\u001b[49m\u001b[43m,\u001b[49m\u001b[43m \u001b[49m\u001b[43mpostprocess_params\u001b[49m\u001b[43m)\u001b[49m\n",
      "File \u001b[0;32m~/workspace/snatched-crawler/.venv/lib/python3.12/site-packages/transformers/pipelines/base.py:1275\u001b[0m, in \u001b[0;36mPipeline.run_single\u001b[0;34m(self, inputs, preprocess_params, forward_params, postprocess_params)\u001b[0m\n\u001b[1;32m   1273\u001b[0m \u001b[38;5;28;01mdef\u001b[39;00m \u001b[38;5;21mrun_single\u001b[39m(\u001b[38;5;28mself\u001b[39m, inputs, preprocess_params, forward_params, postprocess_params):\n\u001b[1;32m   1274\u001b[0m     model_inputs \u001b[38;5;241m=\u001b[39m \u001b[38;5;28mself\u001b[39m\u001b[38;5;241m.\u001b[39mpreprocess(inputs, \u001b[38;5;241m*\u001b[39m\u001b[38;5;241m*\u001b[39mpreprocess_params)\n\u001b[0;32m-> 1275\u001b[0m     model_outputs \u001b[38;5;241m=\u001b[39m \u001b[38;5;28;43mself\u001b[39;49m\u001b[38;5;241;43m.\u001b[39;49m\u001b[43mforward\u001b[49m\u001b[43m(\u001b[49m\u001b[43mmodel_inputs\u001b[49m\u001b[43m,\u001b[49m\u001b[43m \u001b[49m\u001b[38;5;241;43m*\u001b[39;49m\u001b[38;5;241;43m*\u001b[39;49m\u001b[43mforward_params\u001b[49m\u001b[43m)\u001b[49m\n\u001b[1;32m   1276\u001b[0m     outputs \u001b[38;5;241m=\u001b[39m \u001b[38;5;28mself\u001b[39m\u001b[38;5;241m.\u001b[39mpostprocess(model_outputs, \u001b[38;5;241m*\u001b[39m\u001b[38;5;241m*\u001b[39mpostprocess_params)\n\u001b[1;32m   1277\u001b[0m     \u001b[38;5;28;01mreturn\u001b[39;00m outputs\n",
      "File \u001b[0;32m~/workspace/snatched-crawler/.venv/lib/python3.12/site-packages/transformers/pipelines/base.py:1175\u001b[0m, in \u001b[0;36mPipeline.forward\u001b[0;34m(self, model_inputs, **forward_params)\u001b[0m\n\u001b[1;32m   1173\u001b[0m     \u001b[38;5;28;01mwith\u001b[39;00m inference_context():\n\u001b[1;32m   1174\u001b[0m         model_inputs \u001b[38;5;241m=\u001b[39m \u001b[38;5;28mself\u001b[39m\u001b[38;5;241m.\u001b[39m_ensure_tensor_on_device(model_inputs, device\u001b[38;5;241m=\u001b[39m\u001b[38;5;28mself\u001b[39m\u001b[38;5;241m.\u001b[39mdevice)\n\u001b[0;32m-> 1175\u001b[0m         model_outputs \u001b[38;5;241m=\u001b[39m \u001b[38;5;28;43mself\u001b[39;49m\u001b[38;5;241;43m.\u001b[39;49m\u001b[43m_forward\u001b[49m\u001b[43m(\u001b[49m\u001b[43mmodel_inputs\u001b[49m\u001b[43m,\u001b[49m\u001b[43m \u001b[49m\u001b[38;5;241;43m*\u001b[39;49m\u001b[38;5;241;43m*\u001b[39;49m\u001b[43mforward_params\u001b[49m\u001b[43m)\u001b[49m\n\u001b[1;32m   1176\u001b[0m         model_outputs \u001b[38;5;241m=\u001b[39m \u001b[38;5;28mself\u001b[39m\u001b[38;5;241m.\u001b[39m_ensure_tensor_on_device(model_outputs, device\u001b[38;5;241m=\u001b[39mtorch\u001b[38;5;241m.\u001b[39mdevice(\u001b[38;5;124m\"\u001b[39m\u001b[38;5;124mcpu\u001b[39m\u001b[38;5;124m\"\u001b[39m))\n\u001b[1;32m   1177\u001b[0m \u001b[38;5;28;01melse\u001b[39;00m:\n",
      "File \u001b[0;32m~/workspace/snatched-crawler/.venv/lib/python3.12/site-packages/transformers/pipelines/text2text_generation.py:196\u001b[0m, in \u001b[0;36mText2TextGenerationPipeline._forward\u001b[0;34m(self, model_inputs, **generate_kwargs)\u001b[0m\n\u001b[1;32m    193\u001b[0m \u001b[38;5;28;01mif\u001b[39;00m \u001b[38;5;124m\"\u001b[39m\u001b[38;5;124mgeneration_config\u001b[39m\u001b[38;5;124m\"\u001b[39m \u001b[38;5;129;01mnot\u001b[39;00m \u001b[38;5;129;01min\u001b[39;00m generate_kwargs:\n\u001b[1;32m    194\u001b[0m     generate_kwargs[\u001b[38;5;124m\"\u001b[39m\u001b[38;5;124mgeneration_config\u001b[39m\u001b[38;5;124m\"\u001b[39m] \u001b[38;5;241m=\u001b[39m \u001b[38;5;28mself\u001b[39m\u001b[38;5;241m.\u001b[39mgeneration_config\n\u001b[0;32m--> 196\u001b[0m output_ids \u001b[38;5;241m=\u001b[39m \u001b[38;5;28;43mself\u001b[39;49m\u001b[38;5;241;43m.\u001b[39;49m\u001b[43mmodel\u001b[49m\u001b[38;5;241;43m.\u001b[39;49m\u001b[43mgenerate\u001b[49m\u001b[43m(\u001b[49m\u001b[38;5;241;43m*\u001b[39;49m\u001b[38;5;241;43m*\u001b[39;49m\u001b[43mmodel_inputs\u001b[49m\u001b[43m,\u001b[49m\u001b[43m \u001b[49m\u001b[38;5;241;43m*\u001b[39;49m\u001b[38;5;241;43m*\u001b[39;49m\u001b[43mgenerate_kwargs\u001b[49m\u001b[43m)\u001b[49m\n\u001b[1;32m    197\u001b[0m out_b \u001b[38;5;241m=\u001b[39m output_ids\u001b[38;5;241m.\u001b[39mshape[\u001b[38;5;241m0\u001b[39m]\n\u001b[1;32m    198\u001b[0m \u001b[38;5;28;01mif\u001b[39;00m \u001b[38;5;28mself\u001b[39m\u001b[38;5;241m.\u001b[39mframework \u001b[38;5;241m==\u001b[39m \u001b[38;5;124m\"\u001b[39m\u001b[38;5;124mpt\u001b[39m\u001b[38;5;124m\"\u001b[39m:\n",
      "File \u001b[0;32m~/workspace/snatched-crawler/.venv/lib/python3.12/site-packages/torch/utils/_contextlib.py:116\u001b[0m, in \u001b[0;36mcontext_decorator.<locals>.decorate_context\u001b[0;34m(*args, **kwargs)\u001b[0m\n\u001b[1;32m    113\u001b[0m \u001b[38;5;129m@functools\u001b[39m\u001b[38;5;241m.\u001b[39mwraps(func)\n\u001b[1;32m    114\u001b[0m \u001b[38;5;28;01mdef\u001b[39;00m \u001b[38;5;21mdecorate_context\u001b[39m(\u001b[38;5;241m*\u001b[39margs, \u001b[38;5;241m*\u001b[39m\u001b[38;5;241m*\u001b[39mkwargs):\n\u001b[1;32m    115\u001b[0m     \u001b[38;5;28;01mwith\u001b[39;00m ctx_factory():\n\u001b[0;32m--> 116\u001b[0m         \u001b[38;5;28;01mreturn\u001b[39;00m \u001b[43mfunc\u001b[49m\u001b[43m(\u001b[49m\u001b[38;5;241;43m*\u001b[39;49m\u001b[43margs\u001b[49m\u001b[43m,\u001b[49m\u001b[43m \u001b[49m\u001b[38;5;241;43m*\u001b[39;49m\u001b[38;5;241;43m*\u001b[39;49m\u001b[43mkwargs\u001b[49m\u001b[43m)\u001b[49m\n",
      "File \u001b[0;32m~/workspace/snatched-crawler/.venv/lib/python3.12/site-packages/transformers/generation/utils.py:1864\u001b[0m, in \u001b[0;36mGenerationMixin.generate\u001b[0;34m(self, inputs, generation_config, logits_processor, stopping_criteria, prefix_allowed_tokens_fn, synced_gpus, assistant_model, streamer, negative_prompt_ids, negative_prompt_attention_mask, **kwargs)\u001b[0m\n\u001b[1;32m   1860\u001b[0m         \u001b[38;5;28;01mraise\u001b[39;00m \u001b[38;5;167;01mValueError\u001b[39;00m(\u001b[38;5;124m\"\u001b[39m\u001b[38;5;124m`attention_mask` passed to `generate` must be 2D.\u001b[39m\u001b[38;5;124m\"\u001b[39m)\n\u001b[1;32m   1862\u001b[0m \u001b[38;5;28;01mif\u001b[39;00m \u001b[38;5;28mself\u001b[39m\u001b[38;5;241m.\u001b[39mconfig\u001b[38;5;241m.\u001b[39mis_encoder_decoder \u001b[38;5;129;01mand\u001b[39;00m \u001b[38;5;124m\"\u001b[39m\u001b[38;5;124mencoder_outputs\u001b[39m\u001b[38;5;124m\"\u001b[39m \u001b[38;5;129;01mnot\u001b[39;00m \u001b[38;5;129;01min\u001b[39;00m model_kwargs:\n\u001b[1;32m   1863\u001b[0m     \u001b[38;5;66;03m# if model is encoder decoder encoder_outputs are created and added to `model_kwargs`\u001b[39;00m\n\u001b[0;32m-> 1864\u001b[0m     model_kwargs \u001b[38;5;241m=\u001b[39m \u001b[38;5;28;43mself\u001b[39;49m\u001b[38;5;241;43m.\u001b[39;49m\u001b[43m_prepare_encoder_decoder_kwargs_for_generation\u001b[49m\u001b[43m(\u001b[49m\n\u001b[1;32m   1865\u001b[0m \u001b[43m        \u001b[49m\u001b[43minputs_tensor\u001b[49m\u001b[43m,\u001b[49m\u001b[43m \u001b[49m\u001b[43mmodel_kwargs\u001b[49m\u001b[43m,\u001b[49m\u001b[43m \u001b[49m\u001b[43mmodel_input_name\u001b[49m\u001b[43m,\u001b[49m\u001b[43m \u001b[49m\u001b[43mgeneration_config\u001b[49m\n\u001b[1;32m   1866\u001b[0m \u001b[43m    \u001b[49m\u001b[43m)\u001b[49m\n\u001b[1;32m   1868\u001b[0m \u001b[38;5;66;03m# 5. Prepare `input_ids` which will be used for auto-regressive generation\u001b[39;00m\n\u001b[1;32m   1869\u001b[0m \u001b[38;5;28;01mif\u001b[39;00m \u001b[38;5;28mself\u001b[39m\u001b[38;5;241m.\u001b[39mconfig\u001b[38;5;241m.\u001b[39mis_encoder_decoder:\n",
      "File \u001b[0;32m~/workspace/snatched-crawler/.venv/lib/python3.12/site-packages/transformers/generation/utils.py:512\u001b[0m, in \u001b[0;36mGenerationMixin._prepare_encoder_decoder_kwargs_for_generation\u001b[0;34m(self, inputs_tensor, model_kwargs, model_input_name, generation_config)\u001b[0m\n\u001b[1;32m    510\u001b[0m encoder_kwargs[\u001b[38;5;124m\"\u001b[39m\u001b[38;5;124mreturn_dict\u001b[39m\u001b[38;5;124m\"\u001b[39m] \u001b[38;5;241m=\u001b[39m \u001b[38;5;28;01mTrue\u001b[39;00m\n\u001b[1;32m    511\u001b[0m encoder_kwargs[model_input_name] \u001b[38;5;241m=\u001b[39m inputs_tensor\n\u001b[0;32m--> 512\u001b[0m model_kwargs[\u001b[38;5;124m\"\u001b[39m\u001b[38;5;124mencoder_outputs\u001b[39m\u001b[38;5;124m\"\u001b[39m]: ModelOutput \u001b[38;5;241m=\u001b[39m \u001b[43mencoder\u001b[49m\u001b[43m(\u001b[49m\u001b[38;5;241;43m*\u001b[39;49m\u001b[38;5;241;43m*\u001b[39;49m\u001b[43mencoder_kwargs\u001b[49m\u001b[43m)\u001b[49m\n\u001b[1;32m    514\u001b[0m \u001b[38;5;28;01mreturn\u001b[39;00m model_kwargs\n",
      "File \u001b[0;32m~/workspace/snatched-crawler/.venv/lib/python3.12/site-packages/torch/nn/modules/module.py:1736\u001b[0m, in \u001b[0;36mModule._wrapped_call_impl\u001b[0;34m(self, *args, **kwargs)\u001b[0m\n\u001b[1;32m   1734\u001b[0m     \u001b[38;5;28;01mreturn\u001b[39;00m \u001b[38;5;28mself\u001b[39m\u001b[38;5;241m.\u001b[39m_compiled_call_impl(\u001b[38;5;241m*\u001b[39margs, \u001b[38;5;241m*\u001b[39m\u001b[38;5;241m*\u001b[39mkwargs)  \u001b[38;5;66;03m# type: ignore[misc]\u001b[39;00m\n\u001b[1;32m   1735\u001b[0m \u001b[38;5;28;01melse\u001b[39;00m:\n\u001b[0;32m-> 1736\u001b[0m     \u001b[38;5;28;01mreturn\u001b[39;00m \u001b[38;5;28;43mself\u001b[39;49m\u001b[38;5;241;43m.\u001b[39;49m\u001b[43m_call_impl\u001b[49m\u001b[43m(\u001b[49m\u001b[38;5;241;43m*\u001b[39;49m\u001b[43margs\u001b[49m\u001b[43m,\u001b[49m\u001b[43m \u001b[49m\u001b[38;5;241;43m*\u001b[39;49m\u001b[38;5;241;43m*\u001b[39;49m\u001b[43mkwargs\u001b[49m\u001b[43m)\u001b[49m\n",
      "File \u001b[0;32m~/workspace/snatched-crawler/.venv/lib/python3.12/site-packages/torch/nn/modules/module.py:1747\u001b[0m, in \u001b[0;36mModule._call_impl\u001b[0;34m(self, *args, **kwargs)\u001b[0m\n\u001b[1;32m   1742\u001b[0m \u001b[38;5;66;03m# If we don't have any hooks, we want to skip the rest of the logic in\u001b[39;00m\n\u001b[1;32m   1743\u001b[0m \u001b[38;5;66;03m# this function, and just call forward.\u001b[39;00m\n\u001b[1;32m   1744\u001b[0m \u001b[38;5;28;01mif\u001b[39;00m \u001b[38;5;129;01mnot\u001b[39;00m (\u001b[38;5;28mself\u001b[39m\u001b[38;5;241m.\u001b[39m_backward_hooks \u001b[38;5;129;01mor\u001b[39;00m \u001b[38;5;28mself\u001b[39m\u001b[38;5;241m.\u001b[39m_backward_pre_hooks \u001b[38;5;129;01mor\u001b[39;00m \u001b[38;5;28mself\u001b[39m\u001b[38;5;241m.\u001b[39m_forward_hooks \u001b[38;5;129;01mor\u001b[39;00m \u001b[38;5;28mself\u001b[39m\u001b[38;5;241m.\u001b[39m_forward_pre_hooks\n\u001b[1;32m   1745\u001b[0m         \u001b[38;5;129;01mor\u001b[39;00m _global_backward_pre_hooks \u001b[38;5;129;01mor\u001b[39;00m _global_backward_hooks\n\u001b[1;32m   1746\u001b[0m         \u001b[38;5;129;01mor\u001b[39;00m _global_forward_hooks \u001b[38;5;129;01mor\u001b[39;00m _global_forward_pre_hooks):\n\u001b[0;32m-> 1747\u001b[0m     \u001b[38;5;28;01mreturn\u001b[39;00m \u001b[43mforward_call\u001b[49m\u001b[43m(\u001b[49m\u001b[38;5;241;43m*\u001b[39;49m\u001b[43margs\u001b[49m\u001b[43m,\u001b[49m\u001b[43m \u001b[49m\u001b[38;5;241;43m*\u001b[39;49m\u001b[38;5;241;43m*\u001b[39;49m\u001b[43mkwargs\u001b[49m\u001b[43m)\u001b[49m\n\u001b[1;32m   1749\u001b[0m result \u001b[38;5;241m=\u001b[39m \u001b[38;5;28;01mNone\u001b[39;00m\n\u001b[1;32m   1750\u001b[0m called_always_called_hooks \u001b[38;5;241m=\u001b[39m \u001b[38;5;28mset\u001b[39m()\n",
      "File \u001b[0;32m~/workspace/snatched-crawler/.venv/lib/python3.12/site-packages/transformers/models/bart/modeling_bart.py:1062\u001b[0m, in \u001b[0;36mBartEncoder.forward\u001b[0;34m(self, input_ids, attention_mask, head_mask, inputs_embeds, output_attentions, output_hidden_states, return_dict)\u001b[0m\n\u001b[1;32m   1059\u001b[0m \u001b[38;5;28;01mif\u001b[39;00m inputs_embeds \u001b[38;5;129;01mis\u001b[39;00m \u001b[38;5;28;01mNone\u001b[39;00m:\n\u001b[1;32m   1060\u001b[0m     inputs_embeds \u001b[38;5;241m=\u001b[39m \u001b[38;5;28mself\u001b[39m\u001b[38;5;241m.\u001b[39membed_tokens(input_ids)\n\u001b[0;32m-> 1062\u001b[0m embed_pos \u001b[38;5;241m=\u001b[39m \u001b[38;5;28;43mself\u001b[39;49m\u001b[38;5;241;43m.\u001b[39;49m\u001b[43membed_positions\u001b[49m\u001b[43m(\u001b[49m\u001b[38;5;28;43minput\u001b[39;49m\u001b[43m)\u001b[49m\n\u001b[1;32m   1063\u001b[0m embed_pos \u001b[38;5;241m=\u001b[39m embed_pos\u001b[38;5;241m.\u001b[39mto(inputs_embeds\u001b[38;5;241m.\u001b[39mdevice)\n\u001b[1;32m   1065\u001b[0m hidden_states \u001b[38;5;241m=\u001b[39m inputs_embeds \u001b[38;5;241m+\u001b[39m embed_pos\n",
      "File \u001b[0;32m~/workspace/snatched-crawler/.venv/lib/python3.12/site-packages/torch/nn/modules/module.py:1736\u001b[0m, in \u001b[0;36mModule._wrapped_call_impl\u001b[0;34m(self, *args, **kwargs)\u001b[0m\n\u001b[1;32m   1734\u001b[0m     \u001b[38;5;28;01mreturn\u001b[39;00m \u001b[38;5;28mself\u001b[39m\u001b[38;5;241m.\u001b[39m_compiled_call_impl(\u001b[38;5;241m*\u001b[39margs, \u001b[38;5;241m*\u001b[39m\u001b[38;5;241m*\u001b[39mkwargs)  \u001b[38;5;66;03m# type: ignore[misc]\u001b[39;00m\n\u001b[1;32m   1735\u001b[0m \u001b[38;5;28;01melse\u001b[39;00m:\n\u001b[0;32m-> 1736\u001b[0m     \u001b[38;5;28;01mreturn\u001b[39;00m \u001b[38;5;28;43mself\u001b[39;49m\u001b[38;5;241;43m.\u001b[39;49m\u001b[43m_call_impl\u001b[49m\u001b[43m(\u001b[49m\u001b[38;5;241;43m*\u001b[39;49m\u001b[43margs\u001b[49m\u001b[43m,\u001b[49m\u001b[43m \u001b[49m\u001b[38;5;241;43m*\u001b[39;49m\u001b[38;5;241;43m*\u001b[39;49m\u001b[43mkwargs\u001b[49m\u001b[43m)\u001b[49m\n",
      "File \u001b[0;32m~/workspace/snatched-crawler/.venv/lib/python3.12/site-packages/torch/nn/modules/module.py:1747\u001b[0m, in \u001b[0;36mModule._call_impl\u001b[0;34m(self, *args, **kwargs)\u001b[0m\n\u001b[1;32m   1742\u001b[0m \u001b[38;5;66;03m# If we don't have any hooks, we want to skip the rest of the logic in\u001b[39;00m\n\u001b[1;32m   1743\u001b[0m \u001b[38;5;66;03m# this function, and just call forward.\u001b[39;00m\n\u001b[1;32m   1744\u001b[0m \u001b[38;5;28;01mif\u001b[39;00m \u001b[38;5;129;01mnot\u001b[39;00m (\u001b[38;5;28mself\u001b[39m\u001b[38;5;241m.\u001b[39m_backward_hooks \u001b[38;5;129;01mor\u001b[39;00m \u001b[38;5;28mself\u001b[39m\u001b[38;5;241m.\u001b[39m_backward_pre_hooks \u001b[38;5;129;01mor\u001b[39;00m \u001b[38;5;28mself\u001b[39m\u001b[38;5;241m.\u001b[39m_forward_hooks \u001b[38;5;129;01mor\u001b[39;00m \u001b[38;5;28mself\u001b[39m\u001b[38;5;241m.\u001b[39m_forward_pre_hooks\n\u001b[1;32m   1745\u001b[0m         \u001b[38;5;129;01mor\u001b[39;00m _global_backward_pre_hooks \u001b[38;5;129;01mor\u001b[39;00m _global_backward_hooks\n\u001b[1;32m   1746\u001b[0m         \u001b[38;5;129;01mor\u001b[39;00m _global_forward_hooks \u001b[38;5;129;01mor\u001b[39;00m _global_forward_pre_hooks):\n\u001b[0;32m-> 1747\u001b[0m     \u001b[38;5;28;01mreturn\u001b[39;00m \u001b[43mforward_call\u001b[49m\u001b[43m(\u001b[49m\u001b[38;5;241;43m*\u001b[39;49m\u001b[43margs\u001b[49m\u001b[43m,\u001b[49m\u001b[43m \u001b[49m\u001b[38;5;241;43m*\u001b[39;49m\u001b[38;5;241;43m*\u001b[39;49m\u001b[43mkwargs\u001b[49m\u001b[43m)\u001b[49m\n\u001b[1;32m   1749\u001b[0m result \u001b[38;5;241m=\u001b[39m \u001b[38;5;28;01mNone\u001b[39;00m\n\u001b[1;32m   1750\u001b[0m called_always_called_hooks \u001b[38;5;241m=\u001b[39m \u001b[38;5;28mset\u001b[39m()\n",
      "File \u001b[0;32m~/workspace/snatched-crawler/.venv/lib/python3.12/site-packages/transformers/models/bart/modeling_bart.py:116\u001b[0m, in \u001b[0;36mBartLearnedPositionalEmbedding.forward\u001b[0;34m(self, input_ids, past_key_values_length)\u001b[0m\n\u001b[1;32m    111\u001b[0m bsz, seq_len \u001b[38;5;241m=\u001b[39m input_ids\u001b[38;5;241m.\u001b[39mshape[:\u001b[38;5;241m2\u001b[39m]\n\u001b[1;32m    112\u001b[0m positions \u001b[38;5;241m=\u001b[39m torch\u001b[38;5;241m.\u001b[39marange(\n\u001b[1;32m    113\u001b[0m     past_key_values_length, past_key_values_length \u001b[38;5;241m+\u001b[39m seq_len, dtype\u001b[38;5;241m=\u001b[39mtorch\u001b[38;5;241m.\u001b[39mlong, device\u001b[38;5;241m=\u001b[39m\u001b[38;5;28mself\u001b[39m\u001b[38;5;241m.\u001b[39mweight\u001b[38;5;241m.\u001b[39mdevice\n\u001b[1;32m    114\u001b[0m )\u001b[38;5;241m.\u001b[39mexpand(bsz, \u001b[38;5;241m-\u001b[39m\u001b[38;5;241m1\u001b[39m)\n\u001b[0;32m--> 116\u001b[0m \u001b[38;5;28;01mreturn\u001b[39;00m \u001b[38;5;28;43msuper\u001b[39;49m\u001b[43m(\u001b[49m\u001b[43m)\u001b[49m\u001b[38;5;241;43m.\u001b[39;49m\u001b[43mforward\u001b[49m\u001b[43m(\u001b[49m\u001b[43mpositions\u001b[49m\u001b[43m \u001b[49m\u001b[38;5;241;43m+\u001b[39;49m\u001b[43m \u001b[49m\u001b[38;5;28;43mself\u001b[39;49m\u001b[38;5;241;43m.\u001b[39;49m\u001b[43moffset\u001b[49m\u001b[43m)\u001b[49m\n",
      "File \u001b[0;32m~/workspace/snatched-crawler/.venv/lib/python3.12/site-packages/torch/nn/modules/sparse.py:190\u001b[0m, in \u001b[0;36mEmbedding.forward\u001b[0;34m(self, input)\u001b[0m\n\u001b[1;32m    189\u001b[0m \u001b[38;5;28;01mdef\u001b[39;00m \u001b[38;5;21mforward\u001b[39m(\u001b[38;5;28mself\u001b[39m, \u001b[38;5;28minput\u001b[39m: Tensor) \u001b[38;5;241m-\u001b[39m\u001b[38;5;241m>\u001b[39m Tensor:\n\u001b[0;32m--> 190\u001b[0m     \u001b[38;5;28;01mreturn\u001b[39;00m \u001b[43mF\u001b[49m\u001b[38;5;241;43m.\u001b[39;49m\u001b[43membedding\u001b[49m\u001b[43m(\u001b[49m\n\u001b[1;32m    191\u001b[0m \u001b[43m        \u001b[49m\u001b[38;5;28;43minput\u001b[39;49m\u001b[43m,\u001b[49m\n\u001b[1;32m    192\u001b[0m \u001b[43m        \u001b[49m\u001b[38;5;28;43mself\u001b[39;49m\u001b[38;5;241;43m.\u001b[39;49m\u001b[43mweight\u001b[49m\u001b[43m,\u001b[49m\n\u001b[1;32m    193\u001b[0m \u001b[43m        \u001b[49m\u001b[38;5;28;43mself\u001b[39;49m\u001b[38;5;241;43m.\u001b[39;49m\u001b[43mpadding_idx\u001b[49m\u001b[43m,\u001b[49m\n\u001b[1;32m    194\u001b[0m \u001b[43m        \u001b[49m\u001b[38;5;28;43mself\u001b[39;49m\u001b[38;5;241;43m.\u001b[39;49m\u001b[43mmax_norm\u001b[49m\u001b[43m,\u001b[49m\n\u001b[1;32m    195\u001b[0m \u001b[43m        \u001b[49m\u001b[38;5;28;43mself\u001b[39;49m\u001b[38;5;241;43m.\u001b[39;49m\u001b[43mnorm_type\u001b[49m\u001b[43m,\u001b[49m\n\u001b[1;32m    196\u001b[0m \u001b[43m        \u001b[49m\u001b[38;5;28;43mself\u001b[39;49m\u001b[38;5;241;43m.\u001b[39;49m\u001b[43mscale_grad_by_freq\u001b[49m\u001b[43m,\u001b[49m\n\u001b[1;32m    197\u001b[0m \u001b[43m        \u001b[49m\u001b[38;5;28;43mself\u001b[39;49m\u001b[38;5;241;43m.\u001b[39;49m\u001b[43msparse\u001b[49m\u001b[43m,\u001b[49m\n\u001b[1;32m    198\u001b[0m \u001b[43m    \u001b[49m\u001b[43m)\u001b[49m\n",
      "File \u001b[0;32m~/workspace/snatched-crawler/.venv/lib/python3.12/site-packages/torch/nn/functional.py:2551\u001b[0m, in \u001b[0;36membedding\u001b[0;34m(input, weight, padding_idx, max_norm, norm_type, scale_grad_by_freq, sparse)\u001b[0m\n\u001b[1;32m   2545\u001b[0m     \u001b[38;5;66;03m# Note [embedding_renorm set_grad_enabled]\u001b[39;00m\n\u001b[1;32m   2546\u001b[0m     \u001b[38;5;66;03m# XXX: equivalent to\u001b[39;00m\n\u001b[1;32m   2547\u001b[0m     \u001b[38;5;66;03m# with torch.no_grad():\u001b[39;00m\n\u001b[1;32m   2548\u001b[0m     \u001b[38;5;66;03m#   torch.embedding_renorm_\u001b[39;00m\n\u001b[1;32m   2549\u001b[0m     \u001b[38;5;66;03m# remove once script supports set_grad_enabled\u001b[39;00m\n\u001b[1;32m   2550\u001b[0m     _no_grad_embedding_renorm_(weight, \u001b[38;5;28minput\u001b[39m, max_norm, norm_type)\n\u001b[0;32m-> 2551\u001b[0m \u001b[38;5;28;01mreturn\u001b[39;00m \u001b[43mtorch\u001b[49m\u001b[38;5;241;43m.\u001b[39;49m\u001b[43membedding\u001b[49m\u001b[43m(\u001b[49m\u001b[43mweight\u001b[49m\u001b[43m,\u001b[49m\u001b[43m \u001b[49m\u001b[38;5;28;43minput\u001b[39;49m\u001b[43m,\u001b[49m\u001b[43m \u001b[49m\u001b[43mpadding_idx\u001b[49m\u001b[43m,\u001b[49m\u001b[43m \u001b[49m\u001b[43mscale_grad_by_freq\u001b[49m\u001b[43m,\u001b[49m\u001b[43m \u001b[49m\u001b[43msparse\u001b[49m\u001b[43m)\u001b[49m\n",
      "\u001b[0;31mIndexError\u001b[0m: index out of range in self"
     ]
    }
   ],
   "source": [
    "print(summarizer(text, max_length=130, min_length=30, do_sample=False))"
   ]
  },
  {
   "cell_type": "code",
   "execution_count": 37,
   "id": "1d02f488-e82d-4f0c-a3b0-b695130d4449",
   "metadata": {},
   "outputs": [
    {
     "data": {
      "text/plain": [
       "'Leaked documents show US intelligence on Israels plans to attack Iran, sources say CNN Politics CNN values your feedback 1. How relevant is this ad to you 2. Did you encounter any technical issues Video player was slow to load content Video content never loaded Ad froze or did not finish loading Video content did not start after ad Audio on ad was too loud Other issues Ad never loaded Ad preventedslowed the page from loading Content moved around while ad loaded Ad was repetitive to ads Ive seen previously Other issues Cancel Submit Thank You Your effort and contribution in providing this feedback is much appreciated. Close Ad Feedback Close icon Politics SCOTUS Congress Facts First 2024 Elections More SCOTUS Congress Facts First 2024 Elections Watch Listen Live TV Subscribe Sign in My Account Settings Topics You Follow Sign Out Your CNN account Sign in to your CNN account Sign in My Account Settings Topics You Follow Sign Out Your CNN account Sign in to your CNN account Live TV Listen Watch Edition US International Arabic Español Edition US International Arabic Español SCOTUS Congress Facts First 2024 Elections Follow CNN Politics World Africa Americas Asia Australia China Europe India Middle East United Kingdom US Politics SCOTUS Congress Facts First 2024 Elections Business Tech Media Calculators Videos Markets Premarkets AfterHours Fear Greed Investing Markets Now Nightcap Health Life, But Better Fitness Food Sleep Mindfulness Relationships Entertainment Movies Television Celebrity Tech Innovate Foreseeable Future Mission Ahead Work Transformed Innovative Cities Style Arts Design Fashion Architecture Luxury Beauty Video Travel Destinations Food Drink Stay News Videos Sports Football Tennis Golf Motorsport US Sports Olympics Climbing Esports Hockey Watch Live TV CNN Fast Shows AZ CNN10 CNN Max CNN TV Schedules Listen CNN 5 Things Chasing Life with Dr. Sanjay Gupta The Assignment with Audie Cornish One Thing Tug of War CNN Political Briefing The Axe Files All There Is with Anderson Cooper All CNN Audio podcasts Science Space Life Unearthed Climate Solutions Weather Features As Equals Call to Earth Freedom Project Impact Your World Inside Africa CNN Heroes Weather Video Climate UkraineRussia War IsraelHamas War About CNN Photos Investigations CNN Profiles CNN Leadership CNN Newsletters Work for CNN Ad Feedback Leaked documents show US intelligence on Israels plans to attack Iran, sources say By Natasha Bertrand and Alex Marquardt, CNN 3 minute read Updated 446 PM EDT, Sat October 19, 2024 Link Copied Video Ad Feedback What sources are telling CNN about leaked US intelligence on Israels plans to attack Iran 0157 Source CNN World News 15 videos Video Ad Feedback What sources are telling CNN about leaked US intelligence on Israels plans to attack Iran 0157 Now playing Source CNN Video Ad Feedback Father of Israeli hostage calls on Netanyahu to make a deal for hostages in Gaza 0217 Now playing Source CNN Video Ad Feedback Sinwars body could be bargaining chip in hostage deal 0208 Now playing Source CNN Video Ad Feedback Chance encounter may have solved 100yearold Mount Everest mystery 0202 Now playing Source CNN Video Ad Feedback CNN pieces together visual evidence from Sinwars death 0224 Now playing Source CNN Video Ad Feedback Father issues an urgent plea after Sinwars death 0236 Now playing Source CNN Video Ad Feedback IDF killed Yahya Sinwar. CNNs Nic Robertson explains what happens next 0142 Now playing Source CNN Video Ad Feedback Hear what some Palestinians are telling CNN about Sinwars death 0137 Now playing Source CNN Video Ad Feedback CNN gains exclusive access to Ukrainian elite drone unit 0734 Now playing Source CNN Video Ad Feedback Deadly Israeli airstrike targets hospital complex where thousands were sheltering 0344 Now playing Source CNN Video Ad Feedback We were in battle Parents of murdered IsraeliAmerican hostage speak to CNN 0137 Now playing Source CNN Video Ad Feedback Women in Iran donate jewelry to support Hezbollah 0101 Now playing Source CNN Video Ad Feedback I like Trump Iranian in Tehran speaks out on 2024 choice for US president 0203 Now playing Source CNN Video Ad Feedback A pretty big deal Hertling weighs in on US sending antiballistic system to Israel 0321 Now playing Source CNN Video Ad Feedback Reporter This seems to be the bloodiest attack on Israel away from frontlines since October 7 0323 Now playing Source CNN See More Videos CNN The US is investigating a leak of highly classified US intelligence about Israels plans for retaliation against Iran, according to three people familiar with the matter. One of the people familiar confirmed the documents authenticity. The leak is deeply concerning, a US official told CNN. The documents, dated October 15 and 16, began circulating online Friday after being posted on Telegram by an account called Middle East Spectator. They are marked top secret and have markings indicating they are meant to be seen only by the US and its Five Eyes allies Australia, Canada, New Zealand and the United Kingdom. FILE PHOTO Hamas leader Yahya Sinwar looks on as Palestinian Hamas supporters take part in an antiIsrael rally over tension in Jerusalems AlAqsa mosque, in Gaza City October 1, 2022. REUTERSMohammed SalemFile Photo Mohammed SalemReuters Related livestory The latest on Hamas leaders death and war in the Middle East They describe preparations Israel appears to be making for a strike against Iran. One of the documents, which says it was compiled by the National GeospatialIntelligence Agency, says the plans involve Israel moving munitions around. Another document says it is sourced to the National Security Agency and outlines Israeli air force exercises involving airtosurface missiles, also believed to be in preparation for a strike on Iran. CNN is not quoting directly from or showing the documents. A US official said the investigation is examining who had access to the alleged Pentagon document. Any such leak would automatically trigger an investigation by the FBI alongside the Pentagon and US intelligence agencies. The FBI declined to comment. The leak comes at an extremely sensitive moment in USIsraeli relations and is bound to anger the Israelis, who have been preparing to strike Iran in response to Irans missile barrage on October 1. One of the documents also suggests something that Israel has always declined to confirm publicly that the country has nuclear weapons. The document says the US has not seen any indications that Israel plans to use a nuclear weapon against Iran. If it is true that Israeli tactical plans to respond to Irans attack on October 1 have been leaked, it is a serious breach, said Mick Mulroy, former deputy assistant secretary of defense for the Middle East and a retired CIA officer. Mulroy added that the future coordination between the US and Israel could be challenged as well. Trust is a key component in the relationship, and depending on how this was leaked that trust could be eroded. Israeli Prime Minister Benjamin Netanyahu delivers a speech near the city of Rishon LeZion, Israel, on July 5, 2023. Jack GuezAFPGetty Images Related article US officials expect Israels counterattack on Iran will come before US Election Day The National Security Council referred CNN to the Office of the Director of National Intelligence and the Pentagon for comment. The Pentagon and National GeospatialIntelligence Agency declined to comment. CNN has reached out to the National Security Agency for comment. Another US official said that these two documents are bad, but not horrible. The concern is if there are more. It is not clear how the documents became public, nor whether they were hacked or deliberately leaked. The US is already on high alert about Iranian hacking campaigns US intelligence agencies said in August that Iran had hacked documents belonging to Donald Trumps campaign. Axios first reported on the leaked documents Saturday. A major leak of US intelligence last year also strained the US relationships with allies and partners, including South Korea and Ukraine, after a 21yearold Air National Guardsman posted highly classified information on the social media platform Discord. This story has been updated with additional information. CNNs Evan Perez and Katie Bo Lillis contributed to this report. Ad Feedback Ad Feedback Ad Feedback Ad Feedback Ad Feedback Ad Feedback Ad Feedback Sign in My Account Settings Topics You Follow Sign Out Your CNN account Sign in to your CNN account Live TV Listen Watch World Africa Americas Asia Australia China Europe India Middle East United Kingdom US Politics SCOTUS Congress Facts First 2024 Elections Business Tech Media Calculators Videos Markets Premarkets AfterHours Fear Greed Investing Markets Now Nightcap Health Life, But Better Fitness Food Sleep Mindfulness Relationships Entertainment Movies Television Celebrity Tech Innovate Foreseeable Future Mission Ahead Work Transformed Innovative Cities Style Arts Design Fashion Architecture Luxury Beauty Video Travel Destinations Food Drink Stay News Videos Sports Football Tennis Golf Motorsport US Sports Olympics Climbing Esports Hockey Watch Live TV CNN Fast Shows AZ CNN10 CNN Max CNN TV Schedules Listen CNN 5 Things Chasing Life with Dr. Sanjay Gupta The Assignment with Audie Cornish One Thing Tug of War CNN Political Briefing The Axe Files All There Is with Anderson Cooper All CNN Audio podcasts Science Space Life Unearthed Climate Solutions Weather Features As Equals Call to Earth Freedom Project Impact Your World Inside Africa CNN Heroes Weather Video Climate UkraineRussia War IsraelHamas War About CNN Photos Investigations CNN Profiles CNN Leadership CNN Newsletters Work for CNN Politics Watch Listen Live TV Follow CNN Politics Sign in My Account Settings Topics You Follow Sign Out Your CNN account Sign in to your CNN account Terms of Use Privacy Policy Ad Choices Accessibility CC About Newsletters Transcripts 2024 Cable News Network. A Warner Bros. Discovery Company. All Rights Reserved. CNN Sans 2016 Cable News Network.'"
      ]
     },
     "execution_count": 37,
     "metadata": {},
     "output_type": "execute_result"
    }
   ],
   "source": [
    "text"
   ]
  },
  {
   "cell_type": "code",
   "execution_count": 36,
   "id": "d87cfee2-d8c7-41e1-9155-6b10382960d0",
   "metadata": {},
   "outputs": [
    {
     "data": {
      "text/plain": [
       "\u001b[0;31mSignature:\u001b[0m      \u001b[0msummarizer\u001b[0m\u001b[0;34m(\u001b[0m\u001b[0;34m*\u001b[0m\u001b[0margs\u001b[0m\u001b[0;34m,\u001b[0m \u001b[0;34m**\u001b[0m\u001b[0mkwargs\u001b[0m\u001b[0;34m)\u001b[0m\u001b[0;34m\u001b[0m\u001b[0;34m\u001b[0m\u001b[0m\n",
       "\u001b[0;31mType:\u001b[0m           SummarizationPipeline\n",
       "\u001b[0;31mString form:\u001b[0m    <transformers.pipelines.text2text_generation.SummarizationPipeline object at 0x7fa199197fe0>\n",
       "\u001b[0;31mFile:\u001b[0m           ~/workspace/snatched-crawler/.venv/lib/python3.12/site-packages/transformers/pipelines/text2text_generation.py\n",
       "\u001b[0;31mSource:\u001b[0m        \n",
       "\u001b[0;34m@\u001b[0m\u001b[0madd_end_docstrings\u001b[0m\u001b[0;34m(\u001b[0m\u001b[0mbuild_pipeline_init_args\u001b[0m\u001b[0;34m(\u001b[0m\u001b[0mhas_tokenizer\u001b[0m\u001b[0;34m=\u001b[0m\u001b[0;32mTrue\u001b[0m\u001b[0;34m)\u001b[0m\u001b[0;34m)\u001b[0m\u001b[0;34m\u001b[0m\n",
       "\u001b[0;34m\u001b[0m\u001b[0;32mclass\u001b[0m \u001b[0mSummarizationPipeline\u001b[0m\u001b[0;34m(\u001b[0m\u001b[0mText2TextGenerationPipeline\u001b[0m\u001b[0;34m)\u001b[0m\u001b[0;34m:\u001b[0m\u001b[0;34m\u001b[0m\n",
       "\u001b[0;34m\u001b[0m    \u001b[0;34m\"\"\"\u001b[0m\n",
       "\u001b[0;34m    Summarize news articles and other documents.\u001b[0m\n",
       "\u001b[0;34m\u001b[0m\n",
       "\u001b[0;34m    This summarizing pipeline can currently be loaded from [`pipeline`] using the following task identifier:\u001b[0m\n",
       "\u001b[0;34m    `\"summarization\"`.\u001b[0m\n",
       "\u001b[0;34m\u001b[0m\n",
       "\u001b[0;34m    The models that this pipeline can use are models that have been fine-tuned on a summarization task, which is\u001b[0m\n",
       "\u001b[0;34m    currently, '*bart-large-cnn*', '*google-t5/t5-small*', '*google-t5/t5-base*', '*google-t5/t5-large*', '*google-t5/t5-3b*', '*google-t5/t5-11b*'. See the up-to-date\u001b[0m\n",
       "\u001b[0;34m    list of available models on [huggingface.co/models](https://huggingface.co/models?filter=summarization). For a list\u001b[0m\n",
       "\u001b[0;34m    of available parameters, see the [following\u001b[0m\n",
       "\u001b[0;34m    documentation](https://huggingface.co/docs/transformers/en/main_classes/text_generation#transformers.generation.GenerationMixin.generate)\u001b[0m\n",
       "\u001b[0;34m\u001b[0m\n",
       "\u001b[0;34m    Usage:\u001b[0m\n",
       "\u001b[0;34m\u001b[0m\n",
       "\u001b[0;34m    ```python\u001b[0m\n",
       "\u001b[0;34m    # use bart in pytorch\u001b[0m\n",
       "\u001b[0;34m    summarizer = pipeline(\"summarization\")\u001b[0m\n",
       "\u001b[0;34m    summarizer(\"An apple a day, keeps the doctor away\", min_length=5, max_length=20)\u001b[0m\n",
       "\u001b[0;34m\u001b[0m\n",
       "\u001b[0;34m    # use t5 in tf\u001b[0m\n",
       "\u001b[0;34m    summarizer = pipeline(\"summarization\", model=\"google-t5/t5-base\", tokenizer=\"google-t5/t5-base\", framework=\"tf\")\u001b[0m\n",
       "\u001b[0;34m    summarizer(\"An apple a day, keeps the doctor away\", min_length=5, max_length=20)\u001b[0m\n",
       "\u001b[0;34m    ```\"\"\"\u001b[0m\u001b[0;34m\u001b[0m\n",
       "\u001b[0;34m\u001b[0m\u001b[0;34m\u001b[0m\n",
       "\u001b[0;34m\u001b[0m    \u001b[0;31m# Used in the return key of the pipeline.\u001b[0m\u001b[0;34m\u001b[0m\n",
       "\u001b[0;34m\u001b[0m    \u001b[0mreturn_name\u001b[0m \u001b[0;34m=\u001b[0m \u001b[0;34m\"summary\"\u001b[0m\u001b[0;34m\u001b[0m\n",
       "\u001b[0;34m\u001b[0m\u001b[0;34m\u001b[0m\n",
       "\u001b[0;34m\u001b[0m    \u001b[0;32mdef\u001b[0m \u001b[0m__call__\u001b[0m\u001b[0;34m(\u001b[0m\u001b[0mself\u001b[0m\u001b[0;34m,\u001b[0m \u001b[0;34m*\u001b[0m\u001b[0margs\u001b[0m\u001b[0;34m,\u001b[0m \u001b[0;34m**\u001b[0m\u001b[0mkwargs\u001b[0m\u001b[0;34m)\u001b[0m\u001b[0;34m:\u001b[0m\u001b[0;34m\u001b[0m\n",
       "\u001b[0;34m\u001b[0m        \u001b[0;34mr\"\"\"\u001b[0m\n",
       "\u001b[0;34m        Summarize the text(s) given as inputs.\u001b[0m\n",
       "\u001b[0;34m\u001b[0m\n",
       "\u001b[0;34m        Args:\u001b[0m\n",
       "\u001b[0;34m            documents (*str* or `List[str]`):\u001b[0m\n",
       "\u001b[0;34m                One or several articles (or one list of articles) to summarize.\u001b[0m\n",
       "\u001b[0;34m            return_text (`bool`, *optional*, defaults to `True`):\u001b[0m\n",
       "\u001b[0;34m                Whether or not to include the decoded texts in the outputs\u001b[0m\n",
       "\u001b[0;34m            return_tensors (`bool`, *optional*, defaults to `False`):\u001b[0m\n",
       "\u001b[0;34m                Whether or not to include the tensors of predictions (as token indices) in the outputs.\u001b[0m\n",
       "\u001b[0;34m            clean_up_tokenization_spaces (`bool`, *optional*, defaults to `False`):\u001b[0m\n",
       "\u001b[0;34m                Whether or not to clean up the potential extra spaces in the text output.\u001b[0m\n",
       "\u001b[0;34m            generate_kwargs:\u001b[0m\n",
       "\u001b[0;34m                Additional keyword arguments to pass along to the generate method of the model (see the generate method\u001b[0m\n",
       "\u001b[0;34m                corresponding to your framework [here](./text_generation)).\u001b[0m\n",
       "\u001b[0;34m\u001b[0m\n",
       "\u001b[0;34m        Return:\u001b[0m\n",
       "\u001b[0;34m            A list or a list of list of `dict`: Each result comes as a dictionary with the following keys:\u001b[0m\n",
       "\u001b[0;34m\u001b[0m\n",
       "\u001b[0;34m            - **summary_text** (`str`, present when `return_text=True`) -- The summary of the corresponding input.\u001b[0m\n",
       "\u001b[0;34m            - **summary_token_ids** (`torch.Tensor` or `tf.Tensor`, present when `return_tensors=True`) -- The token\u001b[0m\n",
       "\u001b[0;34m              ids of the summary.\u001b[0m\n",
       "\u001b[0;34m        \"\"\"\u001b[0m\u001b[0;34m\u001b[0m\n",
       "\u001b[0;34m\u001b[0m        \u001b[0;32mreturn\u001b[0m \u001b[0msuper\u001b[0m\u001b[0;34m(\u001b[0m\u001b[0;34m)\u001b[0m\u001b[0;34m.\u001b[0m\u001b[0m__call__\u001b[0m\u001b[0;34m(\u001b[0m\u001b[0;34m*\u001b[0m\u001b[0margs\u001b[0m\u001b[0;34m,\u001b[0m \u001b[0;34m**\u001b[0m\u001b[0mkwargs\u001b[0m\u001b[0;34m)\u001b[0m\u001b[0;34m\u001b[0m\n",
       "\u001b[0;34m\u001b[0m\u001b[0;34m\u001b[0m\n",
       "\u001b[0;34m\u001b[0m    \u001b[0;32mdef\u001b[0m \u001b[0mcheck_inputs\u001b[0m\u001b[0;34m(\u001b[0m\u001b[0mself\u001b[0m\u001b[0;34m,\u001b[0m \u001b[0minput_length\u001b[0m\u001b[0;34m:\u001b[0m \u001b[0mint\u001b[0m\u001b[0;34m,\u001b[0m \u001b[0mmin_length\u001b[0m\u001b[0;34m:\u001b[0m \u001b[0mint\u001b[0m\u001b[0;34m,\u001b[0m \u001b[0mmax_length\u001b[0m\u001b[0;34m:\u001b[0m \u001b[0mint\u001b[0m\u001b[0;34m)\u001b[0m \u001b[0;34m->\u001b[0m \u001b[0mbool\u001b[0m\u001b[0;34m:\u001b[0m\u001b[0;34m\u001b[0m\n",
       "\u001b[0;34m\u001b[0m        \u001b[0;34m\"\"\"\u001b[0m\n",
       "\u001b[0;34m        Checks whether there might be something wrong with given input with regard to the model.\u001b[0m\n",
       "\u001b[0;34m        \"\"\"\u001b[0m\u001b[0;34m\u001b[0m\n",
       "\u001b[0;34m\u001b[0m        \u001b[0;32mif\u001b[0m \u001b[0mmax_length\u001b[0m \u001b[0;34m<\u001b[0m \u001b[0mmin_length\u001b[0m\u001b[0;34m:\u001b[0m\u001b[0;34m\u001b[0m\n",
       "\u001b[0;34m\u001b[0m            \u001b[0mlogger\u001b[0m\u001b[0;34m.\u001b[0m\u001b[0mwarning\u001b[0m\u001b[0;34m(\u001b[0m\u001b[0;34mf\"\u001b[0m\u001b[0;34mYour min_length=\u001b[0m\u001b[0;34m{\u001b[0m\u001b[0mmin_length\u001b[0m\u001b[0;34m}\u001b[0m\u001b[0;34m must be inferior than your max_length=\u001b[0m\u001b[0;34m{\u001b[0m\u001b[0mmax_length\u001b[0m\u001b[0;34m}\u001b[0m\u001b[0;34m.\u001b[0m\u001b[0;34m\"\u001b[0m\u001b[0;34m)\u001b[0m\u001b[0;34m\u001b[0m\n",
       "\u001b[0;34m\u001b[0m\u001b[0;34m\u001b[0m\n",
       "\u001b[0;34m\u001b[0m        \u001b[0;32mif\u001b[0m \u001b[0minput_length\u001b[0m \u001b[0;34m<\u001b[0m \u001b[0mmax_length\u001b[0m\u001b[0;34m:\u001b[0m\u001b[0;34m\u001b[0m\n",
       "\u001b[0;34m\u001b[0m            \u001b[0mlogger\u001b[0m\u001b[0;34m.\u001b[0m\u001b[0mwarning\u001b[0m\u001b[0;34m(\u001b[0m\u001b[0;34m\u001b[0m\n",
       "\u001b[0;34m\u001b[0m                \u001b[0;34mf\"\u001b[0m\u001b[0;34mYour max_length is set to \u001b[0m\u001b[0;34m{\u001b[0m\u001b[0mmax_length\u001b[0m\u001b[0;34m}\u001b[0m\u001b[0;34m, but your input_length is only \u001b[0m\u001b[0;34m{\u001b[0m\u001b[0minput_length\u001b[0m\u001b[0;34m}\u001b[0m\u001b[0;34m. Since this is \u001b[0m\u001b[0;34m\"\u001b[0m\u001b[0;34m\u001b[0m\n",
       "\u001b[0;34m\u001b[0m                \u001b[0;34m\"a summarization task, where outputs shorter than the input are typically wanted, you might \"\u001b[0m\u001b[0;34m\u001b[0m\n",
       "\u001b[0;34m\u001b[0m                \u001b[0;34mf\"\u001b[0m\u001b[0;34mconsider decreasing max_length manually, e.g. summarizer('...', max_length=\u001b[0m\u001b[0;34m{\u001b[0m\u001b[0minput_length\u001b[0m\u001b[0;34m//\u001b[0m\u001b[0;36m2\u001b[0m\u001b[0;34m}\u001b[0m\u001b[0;34m)\u001b[0m\u001b[0;34m\"\u001b[0m\u001b[0;34m\u001b[0m\n",
       "\u001b[0;34m\u001b[0m            \u001b[0;34m)\u001b[0m\u001b[0;34m\u001b[0m\u001b[0;34m\u001b[0m\u001b[0m\n",
       "\u001b[0;31mCall docstring:\u001b[0m\n",
       "Summarize the text(s) given as inputs.\n",
       "\n",
       "Args:\n",
       "    documents (*str* or `List[str]`):\n",
       "        One or several articles (or one list of articles) to summarize.\n",
       "    return_text (`bool`, *optional*, defaults to `True`):\n",
       "        Whether or not to include the decoded texts in the outputs\n",
       "    return_tensors (`bool`, *optional*, defaults to `False`):\n",
       "        Whether or not to include the tensors of predictions (as token indices) in the outputs.\n",
       "    clean_up_tokenization_spaces (`bool`, *optional*, defaults to `False`):\n",
       "        Whether or not to clean up the potential extra spaces in the text output.\n",
       "    generate_kwargs:\n",
       "        Additional keyword arguments to pass along to the generate method of the model (see the generate method\n",
       "        corresponding to your framework [here](./text_generation)).\n",
       "\n",
       "Return:\n",
       "    A list or a list of list of `dict`: Each result comes as a dictionary with the following keys:\n",
       "\n",
       "    - **summary_text** (`str`, present when `return_text=True`) -- The summary of the corresponding input.\n",
       "    - **summary_token_ids** (`torch.Tensor` or `tf.Tensor`, present when `return_tensors=True`) -- The token\n",
       "      ids of the summary."
      ]
     },
     "metadata": {},
     "output_type": "display_data"
    }
   ],
   "source": [
    "summarizer??"
   ]
  },
  {
   "cell_type": "code",
   "execution_count": 38,
   "id": "05e99897-f857-402c-993e-2c62865da7a9",
   "metadata": {},
   "outputs": [],
   "source": [
    "from openai import OpenAI"
   ]
  },
  {
   "cell_type": "code",
   "execution_count": 47,
   "id": "c526e297-60af-4ab2-8c09-b19ec4557ada",
   "metadata": {},
   "outputs": [],
   "source": [
    "client = OpenAI(\n",
    "  base_url = \"https://integrate.api.nvidia.com/v1\",\n",
    "  api_key = \"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\"\n",
    ")"
   ]
  },
  {
   "cell_type": "code",
   "execution_count": 51,
   "id": "755ae70a-80f8-4373-aef6-341aaa7a9977",
   "metadata": {},
   "outputs": [
    {
     "name": "stdout",
     "output_type": "stream",
     "text": [
      "Here is a summarized version of the article:\n",
      "\n",
      "**Title:** Leaked documents reveal US intelligence on Israel's plans to attack Iran\n",
      "\n",
      "**Key Points:**\n",
      "\n",
      "1. **Leaked Documents:** Highly classified US intelligence documents, dated Oct 15-16, were leaked online, revealing Israel's plans to retaliate against Iran.\n",
      "2. **Content:** The documents, marked \"top secret,\" describe Israel's preparations for a strike, including moving munitions and air force exercises with air-to-surface missiles.\n",
      "3. **Investigation:** The US is investigating the leak, which is considered \"deeply concerning\" and could erode trust between the US and Israel.\n",
      "4. **Sensitive Timing:** The leak occurs as US-Israeli relations are sensitive, with Israel preparing to strike Iran in response to an October 1 missile barrage.\n",
      "5. **Nuclear Reference:** One document implies Israel has nuclear weapons, but notes no indication of plans to use them against Iran.\n",
      "6. **Potential Consequences:** The leak could challenge future US-Israel coordination, with a former US official stating that \"trust is a key component in the relationship.\"\n",
      "7. **Unclear Origins:** It is unknown how the documents became public, whether through hacking or deliberate leaking.\n",
      "\n",
      "**Reactions:**\n",
      "\n",
      "* A US official described the leak as \"bad, but not horrible,\" expressing concern about potential additional leaks.\n",
      "* Mick Mulroy, former deputy assistant secretary of defense, highlighted the potential damage to US-Israel trust and coordination.\n",
      "\n",
      "**Ongoing:**\n",
      "\n",
      "* The FBI, Pentagon, and US intelligence agencies are investigating the leak.\n",
      "* The National Security Council, Pentagon, and National Geospatial-Intelligence Agency have declined to comment or referred inquiries to other agencies."
     ]
    }
   ],
   "source": [
    "completion = client.chat.completions.create(\n",
    "    model=\"nvidia/llama-3.1-nemotron-70b-instruct\",\n",
    "    messages=[{\"role\": \"user\", \"content\": f\"Summarize the following article scraped from CNN website: {text}\"}],\n",
    "    temperature=0.5,\n",
    "    top_p=1,\n",
    "    max_tokens=1024,\n",
    "    stream=True\n",
    ")\n",
    "\n",
    "\n",
    "for chunk in completion:\n",
    "  if chunk.choices[0].delta.content is not None:\n",
    "    print(chunk.choices[0].delta.content, end=\"\")"
   ]
  },
  {
   "cell_type": "code",
   "execution_count": null,
   "id": "dbc25131-5452-4ac8-ba06-bcd8ab5db005",
   "metadata": {},
   "outputs": [],
   "source": []
  }
 ],
 "metadata": {
  "kernelspec": {
   "display_name": "Python 3 (ipykernel)",
   "language": "python",
   "name": "python3"
  },
  "language_info": {
   "codemirror_mode": {
    "name": "ipython",
    "version": 3
   },
   "file_extension": ".py",
   "mimetype": "text/x-python",
   "name": "python",
   "nbconvert_exporter": "python",
   "pygments_lexer": "ipython3",
   "version": "3.12.6"
  }
 },
 "nbformat": 4,
 "nbformat_minor": 5
}
